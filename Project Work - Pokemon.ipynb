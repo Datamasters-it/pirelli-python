{
 "cells": [
  {
   "cell_type": "markdown",
   "id": "a01af5d9",
   "metadata": {
    "pycharm": {
     "name": "#%% md\n"
    }
   },
   "source": [
    "# Project Work\n",
    "\n",
    "Durante il workshop lavoreremo su un progetto che vuole realizzare un innovativo Motore di Ricerca per i Pokémon.\n",
    "\n",
    "Tale motore di ricerca includerà una speciale e super segreta tecnologia in grado di identificare i k Pokémon più simili ad una data query di ricerca.\n",
    "\n",
    "Progetteremo e svilupperemo passo passo questa speciale tecnologia che avrà l'obiettivo di calcolare un punteggio di similirità tra Pokémon, sia esitenti che immaginari, identificati da un insieme di specifiche caratteristiche.\n",
    "\n",
    "🧑‍💻 Happy coding! 👩‍💻"
   ]
  },
  {
   "cell_type": "markdown",
   "id": "a01b44f7-14e7-45d5-879a-d0f5087de5ae",
   "metadata": {},
   "source": [
    "\n",
    "\n",
    "### Sottoproblema 1: Prendere in input dei dati dall'utente e memorizzarli sottoforma di numeri\n",
    "\n",
    "Concetti teorici correlati:\n",
    "- variabili\n",
    "- funzione input\n",
    "- funzione print \n",
    "- tipi di dato\n",
    "- operazioni con i dati"
   ]
  },
  {
   "cell_type": "code",
   "execution_count": 13,
   "id": "e5f6e516",
   "metadata": {
    "pycharm": {
     "name": "#%%\n"
    }
   },
   "outputs": [
    {
     "name": "stdin",
     "output_type": "stream",
     "text": [
      "Inserisci un valore per HP 40\n",
      "Inserisci un valore per attack 50\n",
      "Inserisci un valore per defense 60\n",
      "Inserisci un valore per attacco speciale 70\n",
      "Inserisci un valore per difesa speciale 80\n",
      "Inserisci un valore per speed 90\n"
     ]
    }
   ],
   "source": [
    "# Qui andremo a prendere 6 input dall'utente e a trasformarli in variabili float\n",
    "\n",
    "import numpy as np\n",
    "\n",
    "hp = int(input(\"Inserisci un valore per HP\"))\n",
    "attack = int(input(\"Inserisci un valore per attack\"))\n",
    "defense = int(input(\"Inserisci un valore per defense\"))\n",
    "sp_atk = int(input(\"Inserisci un valore per attacco speciale\"))\n",
    "sp_def = int(input(\"Inserisci un valore per difesa speciale\"))\n",
    "speed = int(input(\"Inserisci un valore per speed\"))\n",
    "\n",
    "\n"
   ]
  },
  {
   "cell_type": "code",
   "execution_count": 15,
   "id": "13cf799b-e3e3-4073-ba0b-75bb5b647ed8",
   "metadata": {},
   "outputs": [
    {
     "data": {
      "text/plain": [
       "array([40, 50, 60, 70, 80, 90])"
      ]
     },
     "execution_count": 15,
     "metadata": {},
     "output_type": "execute_result"
    }
   ],
   "source": [
    "user_input = np.array([hp, attack, defense, sp_atk, sp_def, speed])\n",
    "user_input"
   ]
  },
  {
   "cell_type": "markdown",
   "id": "f651e5f2",
   "metadata": {
    "pycharm": {
     "name": "#%% md\n"
    }
   },
   "source": [
    "### Sottoproblema 2.a Leggere dal dataset tutti i dati relativi ai Pokemon\n",
    "\n",
    "Concetti teorici correlati:\n",
    "- liste e accesso ai loro elementi\n",
    "- cicli for per scorrere le liste\n",
    "- matrici\n",
    "- file CSV e loro lettura\n",
    "- apertura e lettura di un file in Python\n",
    "- dataset\n",
    "- f-strings"
   ]
  },
  {
   "cell_type": "markdown",
   "id": "80e90029",
   "metadata": {
    "collapsed": false,
    "jupyter": {
     "outputs_hidden": false
    },
    "pycharm": {
     "name": "#%% md\n"
    }
   },
   "source": [
    "Se sei è su Colab\n",
    "```python\n",
    "import os\n",
    "from google.colab import drive\n",
    "drive.mount('/content/drive')\n",
    "os.chdir('/content/drive/MyDrive/beginners')\n",
    "```"
   ]
  },
  {
   "cell_type": "code",
   "execution_count": 19,
   "id": "de455a7c",
   "metadata": {
    "pycharm": {
     "name": "#%%\n"
    }
   },
   "outputs": [
    {
     "name": "stdout",
     "output_type": "stream",
     "text": [
      "<class 'str'>\n"
     ]
    }
   ],
   "source": [
    "# Qui andremo ad aprire il dataset dei pokemon e ad assegnarlo ad una variabile\n",
    "\n",
    "import csv\n",
    "\n",
    "dataset = []\n",
    "\n",
    "with open(\"dataset/pokemon.csv\", \"r\") as file:\n",
    "    reader = csv.DictReader(file)\n",
    "    for row in reader:\n",
    "        dataset.append(row)\n",
    "\n",
    "print(type(dataset[0][\"HP\"]))"
   ]
  },
  {
   "cell_type": "markdown",
   "id": "1dfcb3d7",
   "metadata": {
    "pycharm": {
     "name": "#%% md\n"
    }
   },
   "source": [
    "### Sottoproblema 2.b Utilizzare una funzione per stabilire un grado di similarità\n",
    "\n",
    "Concetti teorici correlati:\n",
    "- espressioni matematiche più complesse e precedenza degli operatori\n",
    "- modulo math\n",
    "- funzioni\n",
    "  - input/output di una funzione\n",
    "  - argomenti"
   ]
  },
  {
   "cell_type": "code",
   "execution_count": 22,
   "id": "22cfa495",
   "metadata": {
    "pycharm": {
     "name": "#%%\n"
    }
   },
   "outputs": [
    {
     "name": "stdout",
     "output_type": "stream",
     "text": [
      "{'#': '1', 'Name': 'Bulbasaur', 'Type 1': 'Grass', 'Type 2': 'Poison', 'Total': '318', 'HP': '45', 'Attack': '49', 'Defense': '49', 'Sp. Atk': '65', 'Sp. Def': '65', 'Speed': '45', 'Generation': '1', 'Legendary': 'False'}\n",
      "[40 50 60 70 80 90]\n"
     ]
    }
   ],
   "source": [
    "# Qui andremo a creare e testare le funzioni per\n",
    "# - calcolo della distanza euclidea\n",
    "# - normalizzazione\n",
    "# Inoltre ci andremo a prendere le colonne con i soli valori numerici dal dataset\n",
    "\n",
    "bulbasaur = dataset[0]\n",
    "print(bulbasaur)\n",
    "print(user_input)\n",
    "\n",
    "\n",
    "# 1 - creare un array di numpy che contiene i soli valori numerici -> \n",
    "# 2 - implementare euclidean_distance\n",
    "# 3 - prendo tutti i valori su un singolo asse -> vettore colonna per HP \n",
    "# 4 - implementazione minmax_normalize\n",
    "def euclidean_distance(a, b):\n",
    "    pass\n",
    "\n",
    "def minmax_normalize(axis):\n",
    "    pass"
   ]
  },
  {
   "cell_type": "code",
   "execution_count": 73,
   "id": "6f0bcddf-6df4-48eb-8a78-7b6a041a54f6",
   "metadata": {},
   "outputs": [
    {
     "name": "stdout",
     "output_type": "stream",
     "text": [
      "(1, 6)\n",
      "[45 49 49 65 65 45]\n",
      "[0.17322835 0.23783784 0.19555556 0.29891304 0.21428571 0.22857143]\n"
     ]
    }
   ],
   "source": [
    "np_dataset = np.array([ list(r.values()) for r in dataset ])\n",
    "user_input = user_input.reshape((1, -1))\n",
    "\n",
    "print(user_input.shape)\n",
    "\n",
    "numeric_columns = np_dataset[:, 5:11].astype(int)\n",
    "\n",
    "def euclidean_distance(a, b):\n",
    "    return np.sqrt(np.sum((a - b) ** 2))\n",
    "\n",
    "def minmax_normalize(dataset):\n",
    "    min_value = np.min(dataset, axis=0)\n",
    "    max_value = np.max(dataset, axis=0)\n",
    "    return (dataset - min_value)/(max_value - min_value)\n",
    "\n",
    "norm_dataset= minmax_normalize(numeric_columns)\n",
    "\n",
    "print(numeric_columns[0])\n",
    "print(norm_dataset[0])\n",
    "\n",
    "# partiamo dall'unione dei valori numerici e dell'input utente\n",
    "# euclidean_distance per ogni user_input/pokemon dataset\n",
    "# [ [index_bulbasaur, distance_bulbasaur ], [..., ...] ] -> ndarray\n",
    "# sort dell'nd array -> \n",
    "\n"
   ]
  },
  {
   "cell_type": "markdown",
   "id": "2857aad1",
   "metadata": {
    "pycharm": {
     "name": "#%% md\n"
    }
   },
   "source": [
    "### Sottoproblema 2.c Trovare i k pokemon più simili utilizzando la funzione di similarità\n",
    "\n",
    "Concetti teorici correlati:\n",
    "- cicli for\n",
    "- strutture dati complesse (liste di tuple?)\n",
    "- sort \n",
    "- funzioni lambda\n",
    "- array slicing"
   ]
  },
  {
   "cell_type": "code",
   "execution_count": 33,
   "id": "41bae39e",
   "metadata": {
    "pycharm": {
     "name": "#%%\n"
    }
   },
   "outputs": [],
   "source": [
    "# Qui andremo ad unire i pezzi:\n",
    "# - Partiamo dall'input dell'utente e creiamo una lista corrispondente ad un pokemon \"fittizio\"\n",
    "# - Aggiungiamo al dataset e normalizziamo (ottenendo un dataset normalizzato)\n",
    "# - Estraiamo ultima riga (corrispondente al pokemon fittizio)\n",
    "# - in un ciclo for calcoliamo le distanze e le inseriamo nella struttura dati complessa\n",
    "# - orinamento tramite sort e lambda\n",
    "# - estraiamo i primi K elementi"
   ]
  },
  {
   "cell_type": "markdown",
   "id": "ceb60d5f",
   "metadata": {
    "pycharm": {
     "name": "#%% md\n"
    }
   },
   "source": [
    "### Sottoproblema 3 Visualizzare i risultati\n",
    "\n",
    "Concetti teorici correlati:\n",
    "- f-strings\n",
    "- funzioni"
   ]
  },
  {
   "cell_type": "code",
   "execution_count": 34,
   "id": "9694ecb7",
   "metadata": {
    "pycharm": {
     "name": "#%%\n"
    }
   },
   "outputs": [],
   "source": [
    "# Qui andremo a creare una funzione che partendo dai K indici ci costruisce K stringhe tramite funzione ed f-strings"
   ]
  },
  {
   "cell_type": "markdown",
   "id": "d4ba5162",
   "metadata": {
    "pycharm": {
     "name": "#%% md\n"
    }
   },
   "source": [
    "### Bonus track Visualizzare i Pokemon\n",
    "\n",
    "Concetti di teoria correlati:\n",
    "- `list comprehension`\n",
    "\n",
    "Se sei sul tuo Jupyter notebook usa il seguente snippet di codice: \n",
    "\n",
    "```python\n",
    "from IPython.display import Image\n",
    "\n",
    "for n,p in enumerate(best_pokemon):\n",
    "    print('-'*50)\n",
    "    print(n+1)\n",
    "    print(pokemon_dataset[p[0]][1])\n",
    "    display(Image(f\"resized/{pokemon_dataset[p[0]][0]}.jpg\")),\n",
    "    print('-'*50)\n",
    "```"
   ]
  },
  {
   "cell_type": "code",
   "execution_count": 74,
   "id": "329498eb",
   "metadata": {
    "pycharm": {
     "name": "#%%\n"
    }
   },
   "outputs": [
    {
     "name": "stdout",
     "output_type": "stream",
     "text": [
      "The history saving thread hit an unexpected error (OperationalError('attempt to write a readonly database')).History will not be written to the database.\n"
     ]
    }
   ],
   "source": [
    "class KNNSearchEngine:\n",
    "    def __init__(self, data_path, features, distance_function='euclidean'):\n",
    "        self.df = pd.read_csv(data_path)\n",
    "        self.features = features\n",
    "        self.X = self.df[features].values\n",
    "        self.X_scaled = self.standardize(self.X)\n",
    "        self.distance_function = self.get_distance_function(distance_function)\n",
    "        self.inv_cov_matrix = np.linalg.inv(np.cov(self.X_scaled.T))\n",
    "        \n",
    "    def standardize(self, data):\n",
    "        mean = data.mean(axis=0)\n",
    "        std = data.std(axis=0)\n",
    "        return (data - mean) / std\n",
    "\n",
    "    def euclidean_distance(self, a, b):\n",
    "        return np.sqrt(np.sum((a - b) ** 2, axis=1))\n",
    "    \n",
    "    def manhattan_distance(self, a, b):\n",
    "        return np.sum(np.abs(a - b), axis=1)\n",
    "    \n",
    "    def mahalanobis_distance(self, a, b):\n",
    "        delta = a - b\n",
    "        return np.sqrt(np.sum(delta @ self.inv_cov_matrix * delta, axis=1))\n",
    "\n",
    "    def get_distance_function(self, name):\n",
    "        if name == 'euclidean':\n",
    "            return self.euclidean_distance\n",
    "        elif name == 'manhattan':\n",
    "            return self.manhattan_distance\n",
    "        elif name == 'mahalanobis':\n",
    "            return self.mahalanobis_distance\n",
    "        else:\n",
    "            raise ValueError(f\"Unsupported distance function: {name}\")\n",
    "\n",
    "    def knn_search(self, query, k=5):\n",
    "        distances = self.distance_function(self.X_scaled, query)\n",
    "        nearest_indices = distances.argsort()[:k]\n",
    "        return nearest_indices\n",
    "\n",
    "    def find_similar_pokemon(self, pokemon_name, n_neighbors=5):\n",
    "        if pokemon_name not in self.df['Name'].values:\n",
    "            raise ValueError(f\"{pokemon_name} not found in the dataset.\")\n",
    "        \n",
    "        pokemon_index = self.df[self.df['Name'] == pokemon_name].index[0]\n",
    "        query = self.X_scaled[pokemon_index].reshape(1, -1)\n",
    "        neighbors_indices = self.knn_search(query, k=n_neighbors)\n",
    "        return self.df.iloc[neighbors_indices]\n",
    "\n",
    "    def __repr__(self):\n",
    "        return f\"KNNSearchEngine(data_path={self.df}, features={self.features}, distance_function={self.distance_function.__name__})\"\n",
    "    \n",
    "    def __getitem__(self, index):\n",
    "        return self.df.iloc[index]\n",
    "    \n",
    "    def __len__(self):\n",
    "        return len(self.df)\n",
    "    \n",
    "    def __call__(self, pokemon_name, n_neighbors=5):\n",
    "        return self.find_similar_pokemon(pokemon_name, n_neighbors)"
   ]
  },
  {
   "cell_type": "code",
   "execution_count": null,
   "id": "e321b2be-c58f-42e1-988e-6a6b15d6557f",
   "metadata": {},
   "outputs": [],
   "source": []
  }
 ],
 "metadata": {
  "kernelspec": {
   "display_name": "Python 3 (ipykernel)",
   "language": "python",
   "name": "python3"
  },
  "language_info": {
   "codemirror_mode": {
    "name": "ipython",
    "version": 3
   },
   "file_extension": ".py",
   "mimetype": "text/x-python",
   "name": "python",
   "nbconvert_exporter": "python",
   "pygments_lexer": "ipython3",
   "version": "3.10.0"
  }
 },
 "nbformat": 4,
 "nbformat_minor": 5
}
