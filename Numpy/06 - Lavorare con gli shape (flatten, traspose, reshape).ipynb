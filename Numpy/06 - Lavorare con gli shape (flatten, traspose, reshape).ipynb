{
 "cells": [
  {
   "cell_type": "markdown",
   "metadata": {
    "collapsed": true,
    "jupyter": {
     "outputs_hidden": true
    }
   },
   "source": [
    "Sappiamo già che ogni ndarray ha una `shape`, che sarebbe una tupla contenente il numero di elementi per ogni asse. "
   ]
  },
  {
   "cell_type": "code",
   "execution_count": 1,
   "metadata": {},
   "outputs": [
    {
     "name": "stdout",
     "output_type": "stream",
     "text": [
      "[[[1. 1.]]\n",
      "\n",
      " [[1. 1.]]]\n",
      "(2, 1, 2)\n"
     ]
    }
   ],
   "source": [
    "import numpy as np\n",
    "\n",
    "x = np.random.randint(1, 4)\n",
    "y = np.random.randint(1, 4)\n",
    "z = np.random.randint(1, 4)\n",
    "\n",
    "a = np.ones((x, y, z))\n",
    "\n",
    "print(a)\n",
    "print(a.shape)"
   ]
  },
  {
   "cell_type": "code",
   "execution_count": 2,
   "metadata": {},
   "outputs": [
    {
     "name": "stdout",
     "output_type": "stream",
     "text": [
      "[[[1.]]\n",
      "\n",
      " [[1.]]]\n",
      "(2, 1, 1)\n"
     ]
    }
   ],
   "source": [
    "import numpy as np\n",
    "\n",
    "x = np.random.randint(1, 4)\n",
    "y = np.random.randint(1, 4)\n",
    "z = np.random.randint(1, 4)\n",
    "\n",
    "a = np.ones((x, y, z))\n",
    "\n",
    "print(a)\n",
    "print(a.shape)"
   ]
  },
  {
   "cell_type": "markdown",
   "metadata": {},
   "source": [
    "numpy dà la possibilità di cambiare la shape di un array, a condizione che il numero di elementi della vecchia shape sia uguale al numero di elementi della nuova shape. La funzione (chainabile) è `reshape`"
   ]
  },
  {
   "cell_type": "code",
   "execution_count": 3,
   "metadata": {},
   "outputs": [
    {
     "name": "stdout",
     "output_type": "stream",
     "text": [
      "[[30 31 32 33]\n",
      " [34 35 36 37]\n",
      " [38 39 40 41]]\n",
      "[[[30 31]\n",
      "  [32 33]\n",
      "  [34 35]]\n",
      "\n",
      " [[36 37]\n",
      "  [38 39]\n",
      "  [40 41]]]\n"
     ]
    },
    {
     "ename": "ValueError",
     "evalue": "cannot reshape array of size 12 into shape (1,2,7)",
     "output_type": "error",
     "traceback": [
      "\u001b[0;31m---------------------------------------------------------------------------\u001b[0m",
      "\u001b[0;31mValueError\u001b[0m                                Traceback (most recent call last)",
      "Cell \u001b[0;32mIn[3], line 6\u001b[0m\n\u001b[1;32m      2\u001b[0m \u001b[38;5;28mprint\u001b[39m(a)\n\u001b[1;32m      4\u001b[0m \u001b[38;5;28mprint\u001b[39m(a\u001b[38;5;241m.\u001b[39mreshape(\u001b[38;5;241m2\u001b[39m, \u001b[38;5;241m3\u001b[39m, \u001b[38;5;241m2\u001b[39m))\n\u001b[0;32m----> 6\u001b[0m \u001b[38;5;28mprint\u001b[39m(\u001b[43ma\u001b[49m\u001b[38;5;241;43m.\u001b[39;49m\u001b[43mreshape\u001b[49m\u001b[43m(\u001b[49m\u001b[38;5;241;43m1\u001b[39;49m\u001b[43m,\u001b[49m\u001b[43m \u001b[49m\u001b[38;5;241;43m2\u001b[39;49m\u001b[43m,\u001b[49m\u001b[43m \u001b[49m\u001b[38;5;241;43m7\u001b[39;49m\u001b[43m)\u001b[49m)\n",
      "\u001b[0;31mValueError\u001b[0m: cannot reshape array of size 12 into shape (1,2,7)"
     ]
    }
   ],
   "source": [
    "a = np.arange(30, 42).reshape(3, 4)\n",
    "print(a)\n",
    "\n",
    "print(a.reshape(2, 3, 2))\n",
    "\n",
    "print(a.reshape(1, 2, 7))"
   ]
  },
  {
   "cell_type": "markdown",
   "metadata": {},
   "source": [
    "È possibile specificare un ordinamento c-like o fortran-like specificando il parametro \"order\":"
   ]
  },
  {
   "cell_type": "code",
   "execution_count": 4,
   "metadata": {},
   "outputs": [
    {
     "name": "stdout",
     "output_type": "stream",
     "text": [
      "[[30 31 32 33]\n",
      " [34 35 36 37]\n",
      " [38 39 40 41]]\n"
     ]
    }
   ],
   "source": [
    "print(a.reshape((3, 4), order=\"f\"))"
   ]
  },
  {
   "cell_type": "markdown",
   "metadata": {},
   "source": [
    "numpy ci dà la possibilità di effettuare un reshape ad un array monodimensionale con la funzione `flatten`"
   ]
  },
  {
   "cell_type": "code",
   "execution_count": 5,
   "metadata": {},
   "outputs": [
    {
     "name": "stdout",
     "output_type": "stream",
     "text": [
      "<class 'numpy.ndarray'>\n",
      "[30 31 32 33 34 35 36 37 38 39 40 41]\n"
     ]
    }
   ],
   "source": [
    "print(type(a.flatten()))\n",
    "print(a.flatten())"
   ]
  },
  {
   "cell_type": "markdown",
   "metadata": {},
   "source": [
    "Anche in questo caso è possibile specificare un parametro `order`:\n",
    "\n"
   ]
  },
  {
   "cell_type": "code",
   "execution_count": 6,
   "metadata": {},
   "outputs": [
    {
     "name": "stdout",
     "output_type": "stream",
     "text": [
      "[[30 34 38]\n",
      " [31 35 39]\n",
      " [32 36 40]\n",
      " [33 37 41]]\n",
      "[[30 34 38]\n",
      " [31 35 39]\n",
      " [32 36 40]\n",
      " [33 37 41]]\n"
     ]
    }
   ],
   "source": [
    "print(a.transpose())\n",
    "print(a.T)"
   ]
  },
  {
   "cell_type": "markdown",
   "metadata": {},
   "source": [
    "Un'operazione molto utilizzata di reshape è l'operazione di trasposizione di un array multidimensionale. Consiste semplicemente nello scambiare le dimensioni per cui una matrice 4x3 diventerebbe una matrice 3x4. "
   ]
  },
  {
   "cell_type": "code",
   "execution_count": 7,
   "metadata": {},
   "outputs": [
    {
     "name": "stdout",
     "output_type": "stream",
     "text": [
      "[[[30 31]\n",
      "  [32 33]]\n",
      "\n",
      " [[34 35]\n",
      "  [36 37]]\n",
      "\n",
      " [[38 39]\n",
      "  [40 41]]]\n",
      "(3, 2, 2)\n",
      "(2, 2, 3) [[[30 34 38]\n",
      "  [32 36 40]]\n",
      "\n",
      " [[31 35 39]\n",
      "  [33 37 41]]]\n",
      "(2, 2, 3)\n"
     ]
    }
   ],
   "source": [
    "b = a.reshape(3, 2, 2)\n",
    "print(b)\n",
    "print(b.shape)\n",
    "\n",
    "print(b.transpose().shape, b.transpose())\n",
    "\n",
    "print(np.transpose(b, axes=(1, 2, 0)).shape)"
   ]
  },
  {
   "cell_type": "code",
   "execution_count": 8,
   "metadata": {},
   "outputs": [
    {
     "name": "stdout",
     "output_type": "stream",
     "text": [
      "[[[0.30896747 0.97854277 0.29912542 0.63289889]\n",
      "  [0.1386723  0.06952958 0.58211511 0.29206023]\n",
      "  [0.20345396 0.56108635 0.61104654 0.47802218]]\n",
      "\n",
      " [[0.49748224 0.43201702 0.80668787 0.19717687]\n",
      "  [0.43829695 0.76196074 0.26990871 0.62751437]\n",
      "  [0.35976404 0.44663896 0.89604937 0.69005732]]]\n",
      "(2, 3, 4)\n",
      "[[[0.30896747 0.97854277 0.29912542 0.63289889]\n",
      "  [0.49748224 0.43201702 0.80668787 0.19717687]]\n",
      "\n",
      " [[0.1386723  0.06952958 0.58211511 0.29206023]\n",
      "  [0.43829695 0.76196074 0.26990871 0.62751437]]\n",
      "\n",
      " [[0.20345396 0.56108635 0.61104654 0.47802218]\n",
      "  [0.35976404 0.44663896 0.89604937 0.69005732]]]\n",
      "(3, 2, 4)\n"
     ]
    }
   ],
   "source": [
    "a = np.random.rand(2, 3, 4)\n",
    "print(a)\n",
    "print(a.shape)  # (2, 3, 4)\n",
    "\n",
    "b = np.transpose(a, (1, 0, 2))\n",
    "print(b)\n",
    "print(b.shape)  # (3, 2, 4)"
   ]
  },
  {
   "cell_type": "markdown",
   "metadata": {},
   "source": [
    "\n",
    "Quando usiamo `np.transpose(a, (1, 0, 2))`, stiamo dicendo a NumPy di scambiare l'asse 0 con l'asse 1, mentre l'asse 2 rimane lo stesso. Quindi, se `a` ha la forma `(2, 3, 4)`, l'array trasposto `b` avrà la forma `(3, 2, 4)`.\n",
    "\n",
    "Per visualizzare chiaramente il cambiamento, consideriamo gli indici di esempio:\n",
    "\n",
    "-   Indice originale: `a[i, j, k]`\n",
    "-   Indice trasposto: `b[j, i, k]`"
   ]
  },
  {
   "cell_type": "code",
   "execution_count": 9,
   "metadata": {},
   "outputs": [
    {
     "name": "stdout",
     "output_type": "stream",
     "text": [
      "Array originale:\n",
      " [[[ 0  1  2  3]\n",
      "  [ 4  5  6  7]\n",
      "  [ 8  9 10 11]]\n",
      "\n",
      " [[12 13 14 15]\n",
      "  [16 17 18 19]\n",
      "  [20 21 22 23]]]\n",
      "Shape originale: (2, 3, 4)\n"
     ]
    }
   ],
   "source": [
    "a = np.array([[[ 0,  1,  2,  3],\n",
    "               [ 4,  5,  6,  7],\n",
    "               [ 8,  9, 10, 11]],\n",
    "\n",
    "              [[12, 13, 14, 15],\n",
    "               [16, 17, 18, 19],\n",
    "               [20, 21, 22, 23]]])\n",
    "print(\"Array originale:\\n\", a)\n",
    "print(\"Shape originale:\", a.shape)  # (2, 3, 4)"
   ]
  },
  {
   "cell_type": "code",
   "execution_count": 10,
   "metadata": {},
   "outputs": [
    {
     "name": "stdout",
     "output_type": "stream",
     "text": [
      "Array trasposto:\n",
      " [[[ 0  1  2  3]\n",
      "  [12 13 14 15]]\n",
      "\n",
      " [[ 4  5  6  7]\n",
      "  [16 17 18 19]]\n",
      "\n",
      " [[ 8  9 10 11]\n",
      "  [20 21 22 23]]]\n",
      "Shape trasposto: (3, 2, 4)\n"
     ]
    }
   ],
   "source": [
    "b = np.transpose(a, (1, 0, 2))\n",
    "print(\"Array trasposto:\\n\", b)\n",
    "print(\"Shape trasposto:\", b.shape)  # (3, 2, 4)\n"
   ]
  },
  {
   "cell_type": "markdown",
   "metadata": {},
   "source": [
    "\n",
    "### Visualizzazione del cambiamento\n",
    "\n",
    "Vediamo come gli elementi si spostano:\n",
    "\n",
    "-   Elemento `a[0, 0, 0]` (valore `0`) diventa `b[0, 0, 0]`\n",
    "-   Elemento `a[0, 1, 0]` (valore `4`) diventa `b[1, 0, 0]`\n",
    "-   Elemento `a[0, 2, 0]` (valore `8`) diventa `b[2, 0, 0]`\n",
    "-   Elemento `a[1, 0, 0]` (valore `12`) diventa `b[0, 1, 0]`\n",
    "-   Elemento `a[1, 1, 0]` (valore `16`) diventa `b[1, 1, 0]`\n",
    "-   Elemento `a[1, 2, 0]` (valore `20`) diventa `b[2, 1, 0]`\n",
    "-   ... e così via per gli altri elementi.\n",
    "\n",
    "In generale, ogni elemento `a[i, j, k]` viene spostato in `b[j, i, k]`."
   ]
  },
  {
   "cell_type": "markdown",
   "metadata": {},
   "source": [
    "### Esercizio 1: Reshape e Somma di Matrici\n",
    "\n",
    "**Obiettivo:** Utilizzare `reshape` per riorganizzare una matrice e sommare con un vettore.\n",
    "\n",
    "**Task:**\n",
    "\n",
    "1.  Crea una matrice `a` di dimensioni $12$ con valori compresi tra 1 e 12.\n",
    "2.  Modifica lo shape di `a` in una matrice $3 \\times 4$.\n",
    "3.  Crea un vettore `b` di dimensioni $4$ con valori compresi tra 1 e 4.\n",
    "4.  Utilizza il broadcasting per sommare `a` e `b` e stampa il risultato."
   ]
  },
  {
   "cell_type": "markdown",
   "metadata": {},
   "source": [
    "\n",
    "### Esercizio 2: Combinazione di Reshape, Transpose e Flatten\n",
    "\n",
    "**Obiettivo:** Utilizzare `reshape`, `transpose` e `flatten` in sequenza per trasformare una matrice.\n",
    "\n",
    "**Task:**\n",
    "\n",
    "1.  Crea una matrice `f` di dimensioni $4 \\times 4$ con valori compresi tra 1 e 16.\n",
    "2.  Modifica lo shape di `f` in una matrice $2 \\times 8$.\n",
    "3.  Trasponi la matrice `f_reshaped`.\n",
    "4.  Utilizza `flatten` per appiattire la matrice trasposta `f_T`.\n",
    "5.  Stampa il risultato finale."
   ]
  },
  {
   "cell_type": "code",
   "execution_count": null,
   "metadata": {},
   "outputs": [],
   "source": []
  }
 ],
 "metadata": {
  "kernelspec": {
   "display_name": "Python 3 (ipykernel)",
   "language": "python",
   "name": "python3"
  },
  "language_info": {
   "codemirror_mode": {
    "name": "ipython",
    "version": 3
   },
   "file_extension": ".py",
   "mimetype": "text/x-python",
   "name": "python",
   "nbconvert_exporter": "python",
   "pygments_lexer": "ipython3",
   "version": "3.10.0"
  }
 },
 "nbformat": 4,
 "nbformat_minor": 4
}
