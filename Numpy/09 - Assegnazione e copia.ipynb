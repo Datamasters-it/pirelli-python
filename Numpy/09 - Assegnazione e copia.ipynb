{
 "cells": [
  {
   "cell_type": "markdown",
   "metadata": {
    "collapsed": true,
    "jupyter": {
     "outputs_hidden": true
    }
   },
   "source": [
    "Quando si manipolano gli array, capita che ci sia il bisogno di copiare intere strutture dati in un array. È bene capire bene quali tipi di copia ci sono in numpy.\n",
    "\n",
    "## Nessuna copia\n",
    "\n",
    "Le assegnazioni dirette non fanno alcuna copia dei dati. Python passa questi oggetti per reference:\n"
   ]
  },
  {
   "cell_type": "code",
   "execution_count": 1,
   "metadata": {},
   "outputs": [
    {
     "name": "stdout",
     "output_type": "stream",
     "text": [
      "[0 1 2 3 4 5 6 7 8 9]\n",
      "4381012592\n",
      "4381012592\n",
      "[[0 1 2 3 4]\n",
      " [5 6 7 8 9]]\n",
      "[[100 100 100 100 100]\n",
      " [  5   6   7   8   9]]\n",
      "True\n"
     ]
    }
   ],
   "source": [
    "import numpy as np\n",
    "\n",
    "a = np.arange(10)\n",
    "print(a)\n",
    "\n",
    "b = a\n",
    "\n",
    "print(id(b))\n",
    "print(id(a))\n",
    "\n",
    "b.shape = 2,5\n",
    "\n",
    "print(a)\n",
    "\n",
    "b[0] = 100\n",
    "print(a)\n",
    "\n",
    "print(b is a)"
   ]
  },
  {
   "cell_type": "markdown",
   "metadata": {},
   "source": [
    "## view\n",
    "\n",
    "Il metodo `view` crea una copia \"superficiale\" dell'array:"
   ]
  },
  {
   "cell_type": "code",
   "execution_count": 2,
   "metadata": {},
   "outputs": [
    {
     "name": "stdout",
     "output_type": "stream",
     "text": [
      "[0 1 2 3 4 5 6 7 8 9]\n",
      "False\n",
      "False\n",
      "(2, 5) (10,)\n",
      "[1000    1    2    3    4    5    6    7    8    9]\n"
     ]
    }
   ],
   "source": [
    "a = np.arange(10)\n",
    "print(a)\n",
    "\n",
    "b = a.view()\n",
    "\n",
    "print(id(a) == id(b))\n",
    "\n",
    "print(a is b)\n",
    "\n",
    "b.shape = 2,5\n",
    "\n",
    "print(b.shape, a.shape)\n",
    "\n",
    "b[0, 0] = 1000\n",
    "\n",
    "print(a)"
   ]
  },
  {
   "cell_type": "markdown",
   "metadata": {},
   "source": [
    "## deep copy\n",
    "\n",
    "È possibile ottenere una copia deep di un ndarray usando il metodo `copy`"
   ]
  },
  {
   "cell_type": "code",
   "execution_count": 3,
   "metadata": {},
   "outputs": [
    {
     "name": "stdout",
     "output_type": "stream",
     "text": [
      "[0 1 2 3 4 5 6 7 8 9]\n",
      "False\n",
      "4381013936 4381010768\n",
      "None\n",
      "[0 1 2 3 4 5 6 7 8 9]\n",
      "None\n",
      "[0 1 2 3 4 5 6 7 8 9]\n",
      "[1000    1    2    3    4    5    6    7    8    9]\n"
     ]
    }
   ],
   "source": [
    "a = np.arange(10)\n",
    "\n",
    "print(a)\n",
    "v = a.view()\n",
    "b = a.copy()\n",
    "\n",
    "print(a is b)\n",
    "print(id(a), id(b))\n",
    "\n",
    "print(a.base)\n",
    "print(v.base)\n",
    "print(b.base)\n",
    "\n",
    "b[0] = 1000\n",
    "\n",
    "print(a)\n",
    "print(b)"
   ]
  },
  {
   "cell_type": "markdown",
   "metadata": {},
   "source": [
    "È possibile anche usare la funzione `copyto` che prende in input 2 ndarray, la destinazione e la sorgente dei dati:\n",
    "\n"
   ]
  },
  {
   "cell_type": "code",
   "execution_count": 4,
   "metadata": {},
   "outputs": [
    {
     "name": "stdout",
     "output_type": "stream",
     "text": [
      "[[ 0  2  4  6  8 10]\n",
      " [12 14 16 18 20 22]]\n"
     ]
    }
   ],
   "source": [
    "a = np.arange(0, 24, 2).reshape(2, 6)\n",
    "b = np.zeros\n",
    "\n",
    "print(a)"
   ]
  },
  {
   "cell_type": "code",
   "execution_count": null,
   "metadata": {},
   "outputs": [],
   "source": []
  }
 ],
 "metadata": {
  "kernelspec": {
   "display_name": "Python 3 (ipykernel)",
   "language": "python",
   "name": "python3"
  },
  "language_info": {
   "codemirror_mode": {
    "name": "ipython",
    "version": 3
   },
   "file_extension": ".py",
   "mimetype": "text/x-python",
   "name": "python",
   "nbconvert_exporter": "python",
   "pygments_lexer": "ipython3",
   "version": "3.10.0"
  }
 },
 "nbformat": 4,
 "nbformat_minor": 4
}
