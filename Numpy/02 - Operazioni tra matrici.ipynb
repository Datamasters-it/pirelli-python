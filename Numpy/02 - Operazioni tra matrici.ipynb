{
 "cells": [
  {
   "cell_type": "code",
   "execution_count": 1,
   "metadata": {},
   "outputs": [
    {
     "name": "stdout",
     "output_type": "stream",
     "text": [
      "[[2 2 1 2]\n",
      " [2 1 1 2]\n",
      " [2 1 2 1]]\n",
      "[[2 2 2 2]\n",
      " [1 1 2 1]\n",
      " [2 1 2 1]]\n",
      "[[1 2 1 2]\n",
      " [1 1 2 2]\n",
      " [1 1 1 1]]\n"
     ]
    }
   ],
   "source": [
    "import numpy as np\n",
    "\n",
    "a = np.random.randint(1, 3, (3, 4))\n",
    "b = np.random.randint(1, 3, (3, 4))\n",
    "c = np.random.randint(1, 3, (3, 4))\n",
    "\n",
    "print(a)\n",
    "print(b)\n",
    "print(c)\n",
    "\n"
   ]
  },
  {
   "cell_type": "markdown",
   "metadata": {},
   "source": [
    "È possibile usare operatori aritmetici fra array. Le regole di precedenza sono quelle classiche per cui una moltiplicazione viene eseguita prima di una somma. Gli operatori aritmetici operano _elementwise_, ovvero elemento per elemento. Ergo: \n",
    "- `+` fa la somma di tutti gli elementi dei due operandi creando una nuova matrice\n",
    "- `-` fa la differenza di tutti gli elementi dei due operandi creando una nuova matrice\n",
    "- `*` fa la moltiplicazione di tutti gli elementi dei due operandi creando una nuova matrice\n",
    "- `/` fa la divisione di tutti gli elementi dei due operandi creando una nuova matrice"
   ]
  },
  {
   "cell_type": "code",
   "execution_count": 2,
   "metadata": {},
   "outputs": [
    {
     "name": "stdout",
     "output_type": "stream",
     "text": [
      "[[4 4 3 4]\n",
      " [3 2 3 3]\n",
      " [4 2 4 2]]\n",
      "[[4 4 3 4]\n",
      " [3 2 3 3]\n",
      " [4 2 4 2]]\n",
      "[[ 0  0 -1  0]\n",
      " [ 1  0 -1  1]\n",
      " [ 0  0  0  0]]\n",
      "[[ 0  0 -1  0]\n",
      " [ 1  0 -1  1]\n",
      " [ 0  0  0  0]]\n",
      "[[4 4 2 4]\n",
      " [2 1 2 2]\n",
      " [4 1 4 1]]\n",
      "[[4 4 2 4]\n",
      " [2 1 2 2]\n",
      " [4 1 4 1]]\n",
      "[[1.  1.  0.5 1. ]\n",
      " [2.  1.  0.5 2. ]\n",
      " [1.  1.  1.  1. ]]\n",
      "[[1.  1.  0.5 1. ]\n",
      " [2.  1.  0.5 2. ]\n",
      " [1.  1.  1.  1. ]]\n"
     ]
    }
   ],
   "source": [
    "sum = a + b\n",
    "print(sum)\n",
    "print(np.add(a, b))\n",
    "\n",
    "print(a - b)\n",
    "print(np.subtract(a, b))\n",
    "\n",
    "\n",
    "print(a * b)\n",
    "print(np.multiply(a, b))\n",
    "\n",
    "print(a / b)\n",
    "print(np.divide(a, b))"
   ]
  },
  {
   "cell_type": "code",
   "execution_count": 3,
   "metadata": {},
   "outputs": [
    {
     "data": {
      "text/plain": [
       "array([[4, 6, 3, 6],\n",
       "       [3, 2, 5, 4],\n",
       "       [4, 2, 4, 2]])"
      ]
     },
     "execution_count": 3,
     "metadata": {},
     "output_type": "execute_result"
    }
   ],
   "source": [
    "a + b * c"
   ]
  },
  {
   "cell_type": "code",
   "execution_count": 4,
   "metadata": {},
   "outputs": [
    {
     "data": {
      "text/plain": [
       "array([[0, 0, 3, 0],\n",
       "       [3, 0, 3, 3],\n",
       "       [0, 0, 0, 0]])"
      ]
     },
     "execution_count": 4,
     "metadata": {},
     "output_type": "execute_result"
    }
   ],
   "source": [
    "a ^ b"
   ]
  },
  {
   "cell_type": "markdown",
   "metadata": {},
   "source": [
    "È possibile utilizzare operatori bitwise. Ad esempio, è possibile usare l'operatore `^` per l'xor bit a bit."
   ]
  },
  {
   "cell_type": "code",
   "execution_count": 5,
   "metadata": {},
   "outputs": [
    {
     "name": "stdout",
     "output_type": "stream",
     "text": [
      "[[4 4 1 4]\n",
      " [2 1 1 2]\n",
      " [4 1 4 1]]\n",
      "[[1.41421356 1.41421356 1.         1.41421356]\n",
      " [1.41421356 1.         1.         1.41421356]\n",
      " [1.41421356 1.         1.41421356 1.        ]]\n",
      "[[-4 -3]\n",
      " [-3 -4]]\n",
      "[[4 3]\n",
      " [3 4]]\n"
     ]
    }
   ],
   "source": [
    "print(np.power(a, b))\n",
    "\n",
    "print(np.sqrt(a))\n",
    "\n",
    "n = np.random.randint(-4, -2, (2, 2))\n",
    "print(n)\n",
    "print(np.absolute(n))"
   ]
  },
  {
   "cell_type": "markdown",
   "metadata": {},
   "source": [
    "numpy ha una collezione molto approfondita di funzioni matematiche, che possono essere usate per le più comuni operazioni matematiche e trigonometriche. Esistono inoltre svariate costanti in numpy, come il pigreco. \n",
    "\n",
    "Le funzioni trigonometriche possono prendere in ingresso un singolo numero o un ndarray. In quest'ultimo caso restituiranno un array con il risultato della funzione trigonometrica applicato ad ogni singolo elemento. È inoltre possibile passare da gradi a radianti (e viceversa) con le funzioni `np.deg2rad()` e `np.rad2deg()`"
   ]
  },
  {
   "cell_type": "code",
   "execution_count": 6,
   "metadata": {},
   "outputs": [
    {
     "name": "stdout",
     "output_type": "stream",
     "text": [
      "3.141592653589793\n",
      "0.7071067811865475\n",
      "0.7071067811865475\n",
      "0.7071067811865475\n",
      "3.141592653589793\n",
      "180.0\n",
      "0.9999999999999999\n",
      "0.6557942026326724\n"
     ]
    }
   ],
   "source": [
    "print(np.pi)\n",
    "\n",
    "print(np.sin(np.pi/4))\n",
    "deg_angle = 45\n",
    "print(np.sin(deg_angle * np.pi/180))\n",
    "print(np.sin(np.deg2rad(deg_angle)))\n",
    "\n",
    "print(np.deg2rad(180))\n",
    "print(np.rad2deg(np.pi))\n",
    "\n",
    "print(np.tan(np.pi/4))\n",
    "print(np.tanh(np.pi/4))\n"
   ]
  },
  {
   "cell_type": "code",
   "execution_count": null,
   "metadata": {},
   "outputs": [],
   "source": []
  },
  {
   "cell_type": "code",
   "execution_count": null,
   "metadata": {},
   "outputs": [],
   "source": []
  },
  {
   "cell_type": "markdown",
   "metadata": {},
   "source": [
    "Ci sono le funzioni di arrotondamento: \n",
    "- round (arrotonda all'intero più vicino o al numero pari più vicino in caso la differenza fra il numero e l'intero più vicino sia di 0.5)\n",
    "- floor (il \"floor\" di un numero `x` è l'intero `i` più grande tale che `i<=x` ) .\n",
    "- ceil (il \"ceil\" di un numero `x` è l'intero `i` più piccolo tale che `i>=x` ) .\n",
    "- truncate\n"
   ]
  },
  {
   "cell_type": "code",
   "execution_count": 7,
   "metadata": {},
   "outputs": [
    {
     "name": "stdout",
     "output_type": "stream",
     "text": [
      "float64\n",
      "[-2. -2. -0.  0.  2.  2.  2.]\n",
      "[-2. -2. -1.  0.  1.  1.  2.]\n",
      "[-1. -1. -0.  1.  2.  2.  2.]\n",
      "[-1. -1. -0.  0.  1.  1.  2.]\n"
     ]
    }
   ],
   "source": [
    "c = np.array([-1.7, -1.5, -0.2, 0.2, 1.5, 1.7, 2])\n",
    "print(c.dtype)\n",
    "print(np.round(c))\n",
    "print(np.floor(c))\n",
    "print(np.ceil(c))\n",
    "print(np.trunc(c))"
   ]
  },
  {
   "cell_type": "code",
   "execution_count": 8,
   "metadata": {},
   "outputs": [
    {
     "name": "stdout",
     "output_type": "stream",
     "text": [
      "[[1 2 3]\n",
      " [4 5 6]]\n"
     ]
    }
   ],
   "source": [
    "d = np.array([\n",
    "    [1, 2, 3],\n",
    "    [4, 5, 6]\n",
    "])\n",
    "print(d)"
   ]
  },
  {
   "cell_type": "markdown",
   "metadata": {},
   "source": [
    "Esistono delle funzioni che effettuano delle operazioni su tutti gli elementi di un array o solo su un asse:\n",
    "- `prod`\n",
    "- `sum`"
   ]
  },
  {
   "cell_type": "code",
   "execution_count": 9,
   "metadata": {},
   "outputs": [
    {
     "name": "stdout",
     "output_type": "stream",
     "text": [
      "720\n",
      "21\n",
      "[ 4 10 18]\n",
      "[ 6 15]\n"
     ]
    }
   ],
   "source": [
    "p = np.prod(d)\n",
    "print(p)\n",
    "\n",
    "s = np.sum(d)\n",
    "print(s)\n",
    "\n",
    "print(np.prod(d, axis=0))\n",
    "print(np.sum(d, axis=1))"
   ]
  },
  {
   "cell_type": "markdown",
   "metadata": {},
   "source": [
    "Altre funzioni effettuano espressioni matematiche come l'esponenziale o il logaritmo naturale"
   ]
  },
  {
   "cell_type": "code",
   "execution_count": 10,
   "metadata": {},
   "outputs": [
    {
     "name": "stdout",
     "output_type": "stream",
     "text": [
      "[[  2.71828183   7.3890561   20.08553692]\n",
      " [ 54.59815003 148.4131591  403.42879349]]\n",
      "[[0.         0.69314718 1.09861229]\n",
      " [1.38629436 1.60943791 1.79175947]]\n",
      "[[0.         0.30103    0.47712125]\n",
      " [0.60205999 0.69897    0.77815125]]\n"
     ]
    }
   ],
   "source": [
    "print(np.exp(d))\n",
    "print(np.log(d))\n",
    "print(np.log10(d))"
   ]
  },
  {
   "cell_type": "markdown",
   "metadata": {},
   "source": [
    "## Test\n",
    "\n"
   ]
  }
 ],
 "metadata": {
  "kernelspec": {
   "display_name": "Python 3 (ipykernel)",
   "language": "python",
   "name": "python3"
  },
  "language_info": {
   "codemirror_mode": {
    "name": "ipython",
    "version": 3
   },
   "file_extension": ".py",
   "mimetype": "text/x-python",
   "name": "python",
   "nbconvert_exporter": "python",
   "pygments_lexer": "ipython3",
   "version": "3.10.0"
  }
 },
 "nbformat": 4,
 "nbformat_minor": 4
}
