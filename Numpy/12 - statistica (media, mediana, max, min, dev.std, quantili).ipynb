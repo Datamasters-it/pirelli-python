{
 "cells": [
  {
   "cell_type": "markdown",
   "metadata": {
    "collapsed": true,
    "jupyter": {
     "outputs_hidden": true
    }
   },
   "source": [
    "Numpy è dotato di una serie di utilissime funzioni statistiche:\n",
    "- `amin`/`amax`: restituiscono il valore minimo/massimo di un array o di un asse specificato\n",
    "- `mean`: calcola la media degli elementi di un array o su un asse specifico\n",
    "- `median`: calcola la mediana degli elementi di un array o su un asse specifico\n",
    "- `std`: calcola la deviazione standard degli elementi di un array o su un asse specifico (la radice della varianza)\n",
    "- `var`: calcola la varianza degli elementi di un array o su un asse specifico (il quadrato della dev. std)\n",
    "- `average`: calcola la media pesata degli elementi di un array o su un asse specifico, prendendo anche in input una struttura dati che contenga i pesi\n",
    "- `ptp`: utile per calcolare i range di valori lungo un asse di un array (peak to peak)\n",
    "- `percentile`: utile per calcolare il percentile, ovvero il minimo valore sotto al quale ricade una data percentuale degli altri elementi sotto osservazione"
   ]
  },
  {
   "cell_type": "code",
   "execution_count": 1,
   "metadata": {},
   "outputs": [
    {
     "name": "stdout",
     "output_type": "stream",
     "text": [
      "[[ 1 23 78]\n",
      " [98 60 -2]\n",
      " [79 25 48]]\n",
      "-2\n",
      "[ 1 23 -2]\n",
      "98\n"
     ]
    }
   ],
   "source": [
    "import numpy as np\n",
    "\n",
    "arr = np.array([[1, 23, 78], [98, 60, -2], [79, 25, 48]])\n",
    "\n",
    "print(arr)\n",
    "\n",
    "print(np.amin(arr))\n",
    "print(np.amin(arr, axis=0))\n",
    "\n",
    "print(np.amax(arr))"
   ]
  },
  {
   "cell_type": "code",
   "execution_count": 2,
   "metadata": {},
   "outputs": [
    {
     "name": "stdout",
     "output_type": "stream",
     "text": [
      "[[ 1 23 78]\n",
      " [98 60 -2]\n",
      " [79 25 48]]\n",
      "45.55555555555556\n",
      "[59.33333333 36.         41.33333333]\n",
      "[34.         52.         50.66666667]\n"
     ]
    }
   ],
   "source": [
    "print(arr)\n",
    "\n",
    "print(np.mean(arr))\n",
    "\n",
    "print(np.mean(arr, axis=0))\n",
    "print(np.mean(arr, axis=1))"
   ]
  },
  {
   "cell_type": "code",
   "execution_count": 3,
   "metadata": {},
   "outputs": [
    {
     "name": "stdout",
     "output_type": "stream",
     "text": [
      "[[ 1 23 78]\n",
      " [98 60 -2]\n",
      " [79 25 48]]\n",
      "48.0\n",
      "[23. 60. 48.]\n"
     ]
    }
   ],
   "source": [
    "print(arr)\n",
    "print(np.median(arr))\n",
    "print(np.median(arr, axis=1))"
   ]
  },
  {
   "cell_type": "code",
   "execution_count": 4,
   "metadata": {},
   "outputs": [
    {
     "name": "stdout",
     "output_type": "stream",
     "text": [
      "33.85298644666412\n"
     ]
    }
   ],
   "source": [
    "print(np.std(arr))"
   ]
  },
  {
   "cell_type": "code",
   "execution_count": 5,
   "metadata": {},
   "outputs": [
    {
     "name": "stdout",
     "output_type": "stream",
     "text": [
      "[1048.66666667 1698.66666667  489.55555556]\n"
     ]
    }
   ],
   "source": [
    "print(np.var(arr,axis=1))"
   ]
  },
  {
   "cell_type": "code",
   "execution_count": null,
   "metadata": {},
   "outputs": [],
   "source": []
  },
  {
   "cell_type": "markdown",
   "metadata": {},
   "source": [
    "la funzione `percentile` richiede 3 argomenti:\n",
    "- l'array sul quale misurare il percentile\n",
    "- il percentile da considerare sull'array compreso fra 0 e 100 (es. percentile = 50 è il percentile che lascia alla sua sinistra il 50% dei valori della distribuzione)\n",
    "- l'asse su cui calcolare il valore del percentile"
   ]
  },
  {
   "cell_type": "code",
   "execution_count": 6,
   "metadata": {},
   "outputs": [
    {
     "name": "stdout",
     "output_type": "stream",
     "text": [
      "[10 10 20 30 40 20 10 10 10 20]\n",
      "15.0\n"
     ]
    }
   ],
   "source": [
    "c = np.array([10, 10, 20, 30, 40, 20, 10, 10, 10, 20])\n",
    "\n",
    "print(c)\n",
    "\n",
    "print(np.percentile(c, 50))"
   ]
  },
  {
   "cell_type": "code",
   "execution_count": null,
   "metadata": {},
   "outputs": [],
   "source": []
  }
 ],
 "metadata": {
  "kernelspec": {
   "display_name": "Python 3 (ipykernel)",
   "language": "python",
   "name": "python3"
  },
  "language_info": {
   "codemirror_mode": {
    "name": "ipython",
    "version": 3
   },
   "file_extension": ".py",
   "mimetype": "text/x-python",
   "name": "python",
   "nbconvert_exporter": "python",
   "pygments_lexer": "ipython3",
   "version": "3.10.0"
  }
 },
 "nbformat": 4,
 "nbformat_minor": 4
}
