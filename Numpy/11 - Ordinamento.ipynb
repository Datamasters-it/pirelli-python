{
 "cells": [
  {
   "cell_type": "markdown",
   "metadata": {
    "collapsed": true,
    "jupyter": {
     "outputs_hidden": true
    }
   },
   "source": [
    "Numpy mette a disposizione il metodo `sort` grazie al quale possiamo ordinare un array :"
   ]
  },
  {
   "cell_type": "code",
   "execution_count": 1,
   "metadata": {},
   "outputs": [
    {
     "name": "stdout",
     "output_type": "stream",
     "text": [
      "[ 1  4 11 20]\n"
     ]
    }
   ],
   "source": [
    "import numpy as np\n",
    "\n",
    "a = np.array([4, 1, 20, 11])\n",
    "\n",
    "print(np.sort(a))"
   ]
  },
  {
   "cell_type": "code",
   "execution_count": 2,
   "metadata": {},
   "outputs": [
    {
     "name": "stdout",
     "output_type": "stream",
     "text": [
      "['Anthony' 'Frank' 'Philip']\n"
     ]
    }
   ],
   "source": [
    "a = np.array([\"Philip\", \"Frank\", \"Anthony\"])\n",
    "\n",
    "print(np.sort(a))"
   ]
  },
  {
   "cell_type": "code",
   "execution_count": 3,
   "metadata": {},
   "outputs": [
    {
     "name": "stdout",
     "output_type": "stream",
     "text": [
      "[[3 2 4]\n",
      " [5 0 1]]\n",
      "[[2 3 4]\n",
      " [0 1 5]]\n",
      "[[3 0 1]\n",
      " [5 2 4]]\n",
      "[0 1 2 3 4 5]\n"
     ]
    }
   ],
   "source": [
    "arr = np.array([[3, 2, 4], [5, 0, 1]])\n",
    "\n",
    "print(arr)\n",
    "\n",
    "print(np.sort(arr))\n",
    "\n",
    "print(np.sort(arr, axis=0))\n",
    "\n",
    "\n",
    "print(np.sort(arr, axis=None))"
   ]
  },
  {
   "cell_type": "markdown",
   "metadata": {},
   "source": [
    "È possibile specificare come parametro nominale `axis`. Se pari a `None` l'array verrà _flattened_ e poi verrà ordinato. Se pari a 1 l'ordinamento verrà effettuato sull'asse y:"
   ]
  },
  {
   "cell_type": "code",
   "execution_count": null,
   "metadata": {},
   "outputs": [],
   "source": []
  },
  {
   "cell_type": "markdown",
   "metadata": {},
   "source": [
    "È possibile inoltre usare la funzione di sort anche quando gli array sono formati da tipi complessi"
   ]
  },
  {
   "cell_type": "code",
   "execution_count": 4,
   "metadata": {},
   "outputs": [
    {
     "name": "stdout",
     "output_type": "stream",
     "text": [
      "<class 'numpy.ndarray'>\n",
      "[(b'Philip', 3., 41) (b'Viktor', 6., 35) (b'Andrew', 1., 25)\n",
      " (b'Jackie', 2., 41) (b'Johnny', 5., 36) (b'Thomas', 4., 35)]\n",
      "[(b'Andrew', 1., 25) (b'Jackie', 2., 41) (b'Johnny', 5., 36)\n",
      " (b'Philip', 3., 41) (b'Thomas', 4., 35) (b'Viktor', 6., 35)]\n",
      "[(b'Andrew', 1., 25) (b'Jackie', 2., 41) (b'Philip', 3., 41)\n",
      " (b'Thomas', 4., 35) (b'Johnny', 5., 36) (b'Viktor', 6., 35)]\n"
     ]
    }
   ],
   "source": [
    "dtype = [\n",
    "    (\"name\", \"S10\"),\n",
    "    (\"rank\", float),\n",
    "    (\"age\", int)\n",
    "]\n",
    "\n",
    "values = [\n",
    "    (\"Philip\", 3, 41),\n",
    "    (\"Viktor\", 6, 35),\n",
    "    (\"Andrew\", 1, 25),\n",
    "    (\"Jackie\", 2, 41),\n",
    "    (\"Johnny\", 5, 36),\n",
    "    (\"Thomas\", 4, 35),\n",
    "]\n",
    "\n",
    "a = np.array(values, dtype=dtype)\n",
    "print(type(a))\n",
    "print(a)\n",
    "\n",
    "print(np.sort(a, order=[\"name\", \"rank\"]))\n",
    "print(np.sort(a, order=[\"rank\", \"age\", \"name\"]))"
   ]
  },
  {
   "cell_type": "markdown",
   "metadata": {},
   "source": [
    "È inoltre possibile effettuare delle operazioni di filtraggio semplici o complesse:\n"
   ]
  },
  {
   "cell_type": "code",
   "execution_count": 5,
   "metadata": {},
   "outputs": [
    {
     "name": "stdout",
     "output_type": "stream",
     "text": [
      "27\n",
      "[ 40  43  46  49  52  55  58  61  64  67  70  73  76  79  82  85  88  91\n",
      "  94  97 100 103 106 109 112 115 118]\n",
      "[ 40  46  52  58  64  70  76  82  88  94 100 106 112 118]\n",
      "[True, False, True, False, True, False, True, False, True, False, True, False, True, False, True, False, True, False, True, False, True, False, True, False, True, False, True]\n"
     ]
    }
   ],
   "source": [
    "num = np.arange(40, 120, 3)\n",
    "print(num.size)\n",
    "print(num)\n",
    "\n",
    "print(num[num%2==0])\n",
    "\n",
    "filtered = []\n",
    "\n",
    "\n",
    "for element in num:\n",
    "    if element % 2 == 0:\n",
    "        filtered.append(True)\n",
    "    else: \n",
    "        filtered.append(False)\n",
    "        \n",
    "        \n",
    "print(filtered)"
   ]
  },
  {
   "cell_type": "code",
   "execution_count": null,
   "metadata": {},
   "outputs": [],
   "source": []
  }
 ],
 "metadata": {
  "kernelspec": {
   "display_name": "Python 3 (ipykernel)",
   "language": "python",
   "name": "python3"
  },
  "language_info": {
   "codemirror_mode": {
    "name": "ipython",
    "version": 3
   },
   "file_extension": ".py",
   "mimetype": "text/x-python",
   "name": "python",
   "nbconvert_exporter": "python",
   "pygments_lexer": "ipython3",
   "version": "3.10.0"
  }
 },
 "nbformat": 4,
 "nbformat_minor": 4
}
