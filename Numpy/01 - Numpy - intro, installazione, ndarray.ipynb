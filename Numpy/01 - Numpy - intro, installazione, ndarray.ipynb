{
 "cells": [
  {
   "cell_type": "markdown",
   "metadata": {
    "collapsed": true,
    "jupyter": {
     "outputs_hidden": true
    }
   },
   "source": [
    "# Perchè numpy\n",
    "\n",
    "Pur essendo un linguaggio \"batteries included\", python è un linguaggio che da solo non è adatto a performare dei task specifici proprio della data science. numpy è una libreria che ci consente di avere: \n",
    "- più velocità: gli algoritmi scritti in C che vengono eseguiti nell'ordine dei nanosecondi piuttosto che dei secondi\n",
    "- meno cicli: numpy contiene molte funzioni che se implementate a mano porterebbero via molto tempo e cicli\n",
    "- codice più chiaro\n",
    "\n",
    "È possibile installarlo normalmente come libreria con `pip`. Ricordiamo di lavorare in un ambiente virtuale utilizzando il comando `virtualenv`.\n",
    "\n"
   ]
  },
  {
   "cell_type": "markdown",
   "metadata": {},
   "source": [
    "`pip install numpy`"
   ]
  },
  {
   "cell_type": "markdown",
   "metadata": {},
   "source": [
    "Il processo di installazione potrebbe essere più lungo del previsto, vista la quantità di dipendenze e la loro grandezza in termini di byte. Ad ogni modo, una volta installato numpy possiamo importarlo come una qualsiasi libreria:"
   ]
  },
  {
   "cell_type": "code",
   "execution_count": 2,
   "metadata": {},
   "outputs": [],
   "source": [
    "import numpy as np"
   ]
  },
  {
   "cell_type": "markdown",
   "metadata": {},
   "source": [
    "Notiamo che l'import seguito dalla parola chiave `as` è un _import nominale_, cioè semplicemente un import in cui diamo un nome diverso ad una certa libreria. Da questo punto in poi potremo usare numpy nella forma contratta \"np\"."
   ]
  },
  {
   "cell_type": "markdown",
   "metadata": {},
   "source": [
    "La struttura dati principale di numpy è l'array. È diverso da una lista Python (più efficiente dal punto di vista dell'occupazione di memoria e della velocità di accesso ai dati) e sostanzialmente rappresenta una matrice, conservandone tutte le principali proprietà. In particolare la documentazione di numpy parla di `homogeneous multidimensional array`, vale a dire array:\n",
    "- multidimensionale\n",
    "- __omogeneo__\n",
    "- indicizzato da una tupla di numeri non negativi \n",
    "- le cui dimensioni prendono il nome di __assi__\n",
    "\n",
    "Inoltre spesso ci ri riferisce ad un array numpy come ad un ndarray (N-Dimensional Array). \n",
    "\n",
    "Si può creare un array in diversi modi in numpy.\n",
    "\n",
    "Caratteristiche principali di un ndarray:\n",
    "    - ndim -> numero di assi (dimensioni) dell'array\n",
    "    - shape -> tupla che indica la dimensione dell'array\n",
    "    - size -> numero totale di elementi di un array\n",
    "    - dtype -> il tipo degli elementi di un array"
   ]
  },
  {
   "cell_type": "code",
   "execution_count": 6,
   "metadata": {},
   "outputs": [
    {
     "name": "stdout",
     "output_type": "stream",
     "text": [
      "<class 'numpy.ndarray'>\n",
      "[2 3 4]\n",
      "1\n",
      "[[1 2 3]\n",
      " [4 5 6]]\n",
      "2\n",
      "shape ->  (2, 3) <class 'tuple'>\n",
      "6\n",
      "int64\n",
      "[[7. 8. 9.]\n",
      " [3. 6. 9.]]\n",
      "float32\n"
     ]
    }
   ],
   "source": [
    "a = np.array([2, 3, 4])\n",
    "print(type(a))\n",
    "print(a)\n",
    "print(a.ndim)\n",
    "\n",
    "\n",
    "a = np.array([[1, 2, 3], [4, 5, 6]])\n",
    "\n",
    "print(a)\n",
    "print(a.ndim)\n",
    "print(\"shape -> \", a.shape, type(a.shape))\n",
    "print(a.size)\n",
    "print(a.dtype)\n",
    "\n",
    "\n",
    "a = np.array([[7, 8, 9], [3, 6, 9]], dtype=np.float32)\n",
    "print(a)\n",
    "print(a.dtype)"
   ]
  },
  {
   "cell_type": "code",
   "execution_count": 20,
   "metadata": {},
   "outputs": [
    {
     "data": {
      "text/plain": [
       "array([[10, 11, 12, 13, 14],\n",
       "       [15, 16, 17, 18, 19]])"
      ]
     },
     "execution_count": 20,
     "metadata": {},
     "output_type": "execute_result"
    }
   ],
   "source": [
    "\n",
    "np.arange(10, 20).reshape(2, -1)"
   ]
  },
  {
   "cell_type": "markdown",
   "metadata": {},
   "source": [
    "Altri metodi per creare un ndarray sono:\n",
    "- arange (magari in combinazione con reshape)\n",
    "- zeros\n",
    "- ones\n",
    "- empty\n",
    "- full\n",
    "- eye\n",
    "- random.default_rng()"
   ]
  },
  {
   "cell_type": "code",
   "execution_count": 3,
   "metadata": {},
   "outputs": [
    {
     "name": "stdout",
     "output_type": "stream",
     "text": [
      "[[ 1  2  3  4  5]\n",
      " [ 6  7  8  9 10]]\n",
      "[1 4 7]\n",
      "[[0. 0. 0.]\n",
      " [0. 0. 0.]\n",
      " [0. 0. 0.]]\n",
      "[[1. 1. 1.]\n",
      " [1. 1. 1.]\n",
      " [1. 1. 1.]]\n",
      "[[4.9e-324 9.9e-324 1.5e-323]\n",
      " [2.0e-323 2.5e-323 3.0e-323]]\n",
      "[[5 5 5 5]\n",
      " [5 5 5 5]\n",
      " [5 5 5 5]\n",
      " [5 5 5 5]]\n",
      "[[1. 0. 0. 0. 0.]\n",
      " [0. 1. 0. 0. 0.]\n",
      " [0. 0. 1. 0. 0.]\n",
      " [0. 0. 0. 1. 0.]\n",
      " [0. 0. 0. 0. 1.]]\n",
      "[[0. 1. 0. 0. 0.]\n",
      " [0. 0. 1. 0. 0.]\n",
      " [0. 0. 0. 1. 0.]\n",
      " [0. 0. 0. 0. 1.]\n",
      " [0. 0. 0. 0. 0.]]\n",
      "[[0. 0. 0. 0. 0.]\n",
      " [1. 0. 0. 0. 0.]\n",
      " [0. 1. 0. 0. 0.]\n",
      " [0. 0. 1. 0. 0.]\n",
      " [0. 0. 0. 1. 0.]]\n"
     ]
    }
   ],
   "source": [
    "print(np.arange(1, 11).reshape(2, 5))\n",
    "print(np.arange(1, 10, 3))\n",
    "\n",
    "\n",
    "print(np.zeros((3,3)))\n",
    "\n",
    "print(np.ones((3, 3)))\n",
    "\n",
    "arr = np.empty((2, 3))\n",
    "print(arr)\n",
    "\n",
    "print(np.full((4, 4), 5))\n",
    "\n",
    "\n",
    "print(np.eye(5, 5))\n",
    "\n",
    "print(np.eye(5, 5, 1))\n",
    "\n",
    "print(np.eye(5, 5, -1))"
   ]
  },
  {
   "cell_type": "code",
   "execution_count": 26,
   "metadata": {},
   "outputs": [
    {
     "name": "stdout",
     "output_type": "stream",
     "text": [
      "[[0.35704283 0.33149881 0.87267428]\n",
      " [0.89625564 0.10149822 0.6006322 ]\n",
      " [0.67257161 0.3852029  0.37985452]]\n"
     ]
    }
   ],
   "source": [
    "generator = np.random.default_rng()\n",
    "print(generator.random((3, 3))) # rappresentazione di un'immagine RGB"
   ]
  },
  {
   "cell_type": "markdown",
   "metadata": {},
   "source": [
    "Esempio: creare una matrice di numeri interi randomici"
   ]
  },
  {
   "cell_type": "code",
   "execution_count": 27,
   "metadata": {},
   "outputs": [
    {
     "name": "stdout",
     "output_type": "stream",
     "text": [
      "2\n"
     ]
    }
   ],
   "source": [
    "x = np.random.randint(10)\n",
    "print(x)"
   ]
  },
  {
   "cell_type": "code",
   "execution_count": null,
   "metadata": {},
   "outputs": [],
   "source": []
  }
 ],
 "metadata": {
  "kernelspec": {
   "display_name": "Python 3 (ipykernel)",
   "language": "python",
   "name": "python3"
  },
  "language_info": {
   "codemirror_mode": {
    "name": "ipython",
    "version": 3
   },
   "file_extension": ".py",
   "mimetype": "text/x-python",
   "name": "python",
   "nbconvert_exporter": "python",
   "pygments_lexer": "ipython3",
   "version": "3.10.0"
  }
 },
 "nbformat": 4,
 "nbformat_minor": 4
}
