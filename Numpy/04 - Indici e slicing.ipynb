{
 "cells": [
  {
   "cell_type": "markdown",
   "metadata": {
    "collapsed": true,
    "jupyter": {
     "outputs_hidden": true
    }
   },
   "source": [
    "L'indicizzazione degli ndarray e il loro slicing è una delle feature più interessanti degli ndarray, e sono quello che differenzia (al netto di tutte le funzioni matematiche/trigonometriche/logiche) effettivamente gli ndarray dalle liste Python. \n",
    "\n",
    "Il primo esempio di indicizzazione che vediamo è quello che fa uso di un altro array. Per il momento ci limitiamo all'uso di array monodimensionali."
   ]
  },
  {
   "cell_type": "code",
   "execution_count": 4,
   "metadata": {},
   "outputs": [
    {
     "name": "stdout",
     "output_type": "stream",
     "text": [
      "[-100 -101 -102 -103 -104 -105 -106 -107 -108 -109 -110 -111 -112 -113\n",
      " -114 -115 -116 -117 -118 -119 -120 -121 -122 -123 -124 -125 -126 -127\n",
      " -128 -129 -130 -131 -132 -133 -134 -135 -136 -137 -138 -139 -140 -141\n",
      " -142 -143 -144 -145 -146 -147 -148 -149 -150 -151 -152 -153 -154 -155\n",
      " -156 -157 -158 -159 -160 -161 -162 -163 -164 -165 -166 -167 -168 -169\n",
      " -170 -171 -172 -173 -174 -175 -176 -177 -178 -179 -180 -181 -182 -183\n",
      " -184 -185 -186 -187 -188 -189 -190 -191 -192 -193 -194 -195 -196 -197\n",
      " -198 -199]\n"
     ]
    }
   ],
   "source": [
    "import numpy as np\n",
    "\n",
    "a = np.arange(-100, -200, -1)\n",
    "print(a)"
   ]
  },
  {
   "cell_type": "markdown",
   "metadata": {},
   "source": [
    "È possibile usare un array di __indici__ per estrarre alcuni elementi da un array di partenza:"
   ]
  },
  {
   "cell_type": "code",
   "execution_count": 5,
   "metadata": {},
   "outputs": [
    {
     "name": "stdout",
     "output_type": "stream",
     "text": [
      "-100\n",
      "-199\n",
      "[-104 -105 -106]\n",
      "[-180 -110 -100]\n"
     ]
    }
   ],
   "source": [
    "print(a[0])\n",
    "print(a[-1])\n",
    "\n",
    "print(a[np.array([4, 5, 6])])\n",
    "\n",
    "print(a[np.array([-20, 10, 0])])"
   ]
  },
  {
   "cell_type": "markdown",
   "metadata": {},
   "source": [
    "È possibile anche usare degli indici negativi (ricordando che l'indice negativo -1 corrisponde all'ultimo elemento di un array, -2 al penultimo, -3 al terzultimo etc etc)"
   ]
  },
  {
   "cell_type": "code",
   "execution_count": null,
   "metadata": {},
   "outputs": [],
   "source": []
  },
  {
   "cell_type": "markdown",
   "metadata": {},
   "source": [
    "## Slicing di base\n",
    "\n",
    "Di norma, lo slicing di un array è nella forma `x[index]`, dove `x` è l'array e `index` uno fra questi 3 elementi:\n",
    "- un numero intero\n",
    "- un oggetto nella forma `start:stop:step`\n",
    "- una tupla di oggetti slice e interi"
   ]
  },
  {
   "cell_type": "code",
   "execution_count": 6,
   "metadata": {},
   "outputs": [
    {
     "name": "stdout",
     "output_type": "stream",
     "text": [
      "[-110 -111 -112 -113 -114 -115 -116 -117 -118 -119 -120 -121 -122 -123\n",
      " -124 -125 -126 -127 -128 -129 -130 -131 -132 -133 -134 -135 -136 -137\n",
      " -138 -139 -140 -141 -142 -143 -144 -145 -146 -147 -148 -149 -150 -151\n",
      " -152 -153 -154 -155 -156 -157 -158 -159 -160 -161 -162 -163 -164 -165\n",
      " -166 -167 -168 -169 -170 -171 -172 -173 -174 -175 -176 -177 -178 -179\n",
      " -180 -181 -182 -183 -184 -185 -186 -187 -188 -189 -190 -191 -192 -193\n",
      " -194 -195 -196 -197 -198 -199]\n",
      "[-110 -112 -114 -116 -118 -120 -122 -124 -126 -128 -130 -132 -134 -136\n",
      " -138 -140 -142 -144 -146 -148 -150 -152 -154 -156 -158 -160 -162 -164\n",
      " -166 -168 -170 -172 -174 -176 -178 -180 -182 -184 -186 -188 -190 -192\n",
      " -194 -196 -198]\n",
      "[-100 -110 -120 -130 -140 -150]\n"
     ]
    }
   ],
   "source": [
    "print(a[10:100])\n",
    "print(a[10:100:2])\n",
    "\n",
    "print(a[0:-40:10])"
   ]
  },
  {
   "cell_type": "markdown",
   "metadata": {},
   "source": [
    "Vediamo anche lo slicing di oggetti multidimensionali. Per un array a N dimensioni possiamo avere fino ad N oggetti di slicing. Possiamo inoltre usare l'operatore ellpisis per non specificare tutte le dimensioni qualora dovessimo operare lo slicing solo su un asse. "
   ]
  },
  {
   "cell_type": "code",
   "execution_count": 7,
   "metadata": {},
   "outputs": [
    {
     "name": "stdout",
     "output_type": "stream",
     "text": [
      "[[-300 -299 -298 -297 -296 -295 -294 -293 -292 -291 -290 -289 -288 -287\n",
      "  -286 -285 -284 -283 -282 -281]\n",
      " [-280 -279 -278 -277 -276 -275 -274 -273 -272 -271 -270 -269 -268 -267\n",
      "  -266 -265 -264 -263 -262 -261]\n",
      " [-260 -259 -258 -257 -256 -255 -254 -253 -252 -251 -250 -249 -248 -247\n",
      "  -246 -245 -244 -243 -242 -241]\n",
      " [-240 -239 -238 -237 -236 -235 -234 -233 -232 -231 -230 -229 -228 -227\n",
      "  -226 -225 -224 -223 -222 -221]\n",
      " [-220 -219 -218 -217 -216 -215 -214 -213 -212 -211 -210 -209 -208 -207\n",
      "  -206 -205 -204 -203 -202 -201]]\n"
     ]
    }
   ],
   "source": [
    "b = np.arange(-300, -200).reshape(5, 20)\n",
    "print(b)"
   ]
  },
  {
   "cell_type": "code",
   "execution_count": 8,
   "metadata": {},
   "outputs": [
    {
     "name": "stdout",
     "output_type": "stream",
     "text": [
      "[[-300 -299 -298 -297 -296 -295 -294 -293 -292 -291 -290 -289 -288 -287\n",
      "  -286 -285 -284 -283 -282 -281]\n",
      " [-280 -279 -278 -277 -276 -275 -274 -273 -272 -271 -270 -269 -268 -267\n",
      "  -266 -265 -264 -263 -262 -261]]\n",
      "[[-300 -299 -298 -297 -296 -295 -294 -293 -292 -291]\n",
      " [-280 -279 -278 -277 -276 -275 -274 -273 -272 -271]]\n"
     ]
    }
   ],
   "source": [
    "print(b[0:2,0:20])\n",
    "print(b[0:2,0:10])"
   ]
  },
  {
   "cell_type": "code",
   "execution_count": 9,
   "metadata": {},
   "outputs": [
    {
     "name": "stdout",
     "output_type": "stream",
     "text": [
      "[[-300 -299 -298 -297 -296]\n",
      " [-280 -279 -278 -277 -276]\n",
      " [-260 -259 -258 -257 -256]\n",
      " [-240 -239 -238 -237 -236]\n",
      " [-220 -219 -218 -217 -216]]\n"
     ]
    }
   ],
   "source": [
    "print(b[...,0:5])"
   ]
  },
  {
   "cell_type": "code",
   "execution_count": null,
   "metadata": {},
   "outputs": [],
   "source": []
  },
  {
   "cell_type": "markdown",
   "metadata": {},
   "source": [
    "## Slicing avanzato\n",
    "\n",
    "Si parla di slicing avanzato quando in `x[obj]` l'oggetto di slicing `obj` è:\n",
    "- un array di interi o booleani\n",
    "- una tupla con almeno un oggetto di tipo \"sequence\"\n",
    "- un oggetto sequence non tupla\n",
    "\n"
   ]
  },
  {
   "cell_type": "code",
   "execution_count": 7,
   "metadata": {},
   "outputs": [
    {
     "name": "stdout",
     "output_type": "stream",
     "text": [
      "[[-300 -299 -298 -297 -296 -295 -294 -293 -292 -291 -290 -289 -288 -287\n",
      "  -286 -285 -284 -283 -282 -281]\n",
      " [-280 -279 -278 -277 -276 -275 -274 -273 -272 -271 -270 -269 -268 -267\n",
      "  -266 -265 -264 -263 -262 -261]\n",
      " [-260 -259 -258 -257 -256 -255 -254 -253 -252 -251 -250 -249 -248 -247\n",
      "  -246 -245 -244 -243 -242 -241]\n",
      " [-240 -239 -238 -237 -236 -235 -234 -233 -232 -231 -230 -229 -228 -227\n",
      "  -226 -225 -224 -223 -222 -221]\n",
      " [-220 -219 -218 -217 -216 -215 -214 -213 -212 -211 -210 -209 -208 -207\n",
      "  -206 -205 -204 -203 -202 -201]]\n",
      "[-250 -249 -248 -247 -246 -245 -244 -243 -242 -241 -240 -239 -238 -237\n",
      " -236 -235 -234 -233 -232 -231 -230 -229 -228 -227 -226 -225 -224 -223\n",
      " -222 -221 -220 -219 -218 -217 -216 -215 -214 -213 -212 -211 -210 -209\n",
      " -208 -207 -206 -205 -204 -203 -202 -201]\n",
      "[-299 -297 -295 -293 -291 -289 -287 -285 -283 -281 -279 -277 -275 -273\n",
      " -271 -269 -267 -265 -263 -261 -259 -257 -255 -253 -251 -249 -247 -245\n",
      " -243 -241 -239 -237 -235 -233 -231 -229 -227 -225 -223 -221 -219 -217\n",
      " -215 -213 -211 -209 -207 -205 -203 -201]\n"
     ]
    }
   ],
   "source": [
    "print(b)\n",
    "print(b[b>=-250])\n",
    "\n",
    "print(b[b%2==1])"
   ]
  },
  {
   "cell_type": "code",
   "execution_count": 9,
   "metadata": {},
   "outputs": [
    {
     "name": "stdout",
     "output_type": "stream",
     "text": [
      "[[ 5  5]\n",
      " [ 4  4]\n",
      " [ 1  5]\n",
      " [16  1]]\n",
      "[10  8  6 17]\n"
     ]
    }
   ],
   "source": [
    "b = np.array([[5,5], [4,4],[1, 5], [16, 1]])\n",
    "print(b)\n",
    "\n",
    "sum_x_axis = b.sum(axis=1)\n",
    "print(sum_x_axis)\n"
   ]
  },
  {
   "cell_type": "markdown",
   "metadata": {},
   "source": [
    "\n",
    "### Esercizio 1: Slicing di Sottomatrici\n",
    "\n",
    "**Obiettivo:** Estrarre sottomatrici specifiche utilizzando slicing.\n",
    "\n",
    "**Task:**\n",
    "\n",
    "1.  Crea una matrice di interi casuali `a` di dimensioni $6 \\times 6$ con valori compresi tra 1 e 20.\n",
    "2.  Utilizza lo slicing per estrarre e stampare le seguenti sottomatrici:\n",
    "    -   I primi 3 elementi delle prime 2 righe.\n",
    "    -   Gli ultimi 2 elementi delle ultime 3 righe.\n",
    "    -   La sottomatrice centrale di dimensioni $2\\times2$."
   ]
  },
  {
   "cell_type": "code",
   "execution_count": 24,
   "metadata": {},
   "outputs": [
    {
     "name": "stdout",
     "output_type": "stream",
     "text": [
      "[[ 3  5  6  5 16  5]\n",
      " [10 14 14  8 14 15]\n",
      " [ 3  7 17  3 18  2]\n",
      " [ 8  2  6 14 15 19]\n",
      " [ 4 18  9 19  8 11]\n",
      " [15 14 17  8 17 19]]\n",
      "(6, 6)\n"
     ]
    }
   ],
   "source": [
    "# Esercizio 1\n",
    "\n",
    "g = np.random.default_rng()\n",
    "\n",
    "a = g.integers(1, 20, (6, 6))\n",
    "\n",
    "print(a)\n",
    "print(a.shape)"
   ]
  },
  {
   "cell_type": "code",
   "execution_count": 33,
   "metadata": {},
   "outputs": [
    {
     "data": {
      "text/plain": [
       "array([[17, 19, 15, 12,  0, 24],\n",
       "       [ 5,  1,  3,  2, 20, 13],\n",
       "       [ 9, 28, 18, 33, 26,  6],\n",
       "       [29, 21,  8,  7, 31, 10],\n",
       "       [30, 11, 22,  4, 34, 14],\n",
       "       [32, 16, 25, 23, 27, 35]])"
      ]
     },
     "execution_count": 33,
     "metadata": {},
     "output_type": "execute_result"
    }
   ],
   "source": [
    "a.argsort(axis=None).reshape(6, -1)"
   ]
  },
  {
   "cell_type": "markdown",
   "metadata": {},
   "source": [
    "\n",
    "### Esercizio 2: Slicing di Righe e Colonne Specifiche\n",
    "\n",
    "**Obiettivo:** Selezionare righe e colonne specifiche di una matrice utilizzando slicing.\n",
    "\n",
    "**Task:**\n",
    "\n",
    "1.  Crea una matrice di interi casuali `c` di dimensioni $7 \\times 7 $ con valori compresi tra 1 e 25.\n",
    "2.  Utilizza lo slicing per estrarre e stampare le seguenti righe e colonne:\n",
    "    -   La terza e la quinta riga.\n",
    "    -   La seconda e l'ultima colonna."
   ]
  },
  {
   "cell_type": "code",
   "execution_count": null,
   "metadata": {},
   "outputs": [],
   "source": []
  }
 ],
 "metadata": {
  "kernelspec": {
   "display_name": "Python 3 (ipykernel)",
   "language": "python",
   "name": "python3"
  },
  "language_info": {
   "codemirror_mode": {
    "name": "ipython",
    "version": 3
   },
   "file_extension": ".py",
   "mimetype": "text/x-python",
   "name": "python",
   "nbconvert_exporter": "python",
   "pygments_lexer": "ipython3",
   "version": "3.10.0"
  }
 },
 "nbformat": 4,
 "nbformat_minor": 4
}
