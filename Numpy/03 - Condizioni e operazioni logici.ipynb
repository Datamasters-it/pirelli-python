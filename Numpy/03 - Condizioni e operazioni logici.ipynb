{
 "cells": [
  {
   "cell_type": "markdown",
   "metadata": {
    "collapsed": true,
    "jupyter": {
     "outputs_hidden": true
    }
   },
   "source": [
    "# Operatori logici\n",
    "\n",
    "numpy è dotato di un'ampia gamma di operatori logici, che restituiscono cioè dei valori True o False sotto determinate condizioni. Cominciamo creando una nuova matrice di interi casuali utilizzando il generatore default_rng().\n",
    "\n",
    "Il primo esempio è la funzione `all`, che restituisce `True` se tutti gli elementi di un array sono `True`. C'è da notare che in Python è possibile usare dei valori non booleani in contesto booleano. In questo caso si parla di valori _truthy_ e _falsy_. Sono valori _falsy_:\n",
    "- la stringa vuota\n",
    "- il numero 0\n",
    "- una tupla/lista/dizionario vuoto\n",
    "- `None`\n",
    "\n",
    "\n"
   ]
  },
  {
   "cell_type": "code",
   "execution_count": 1,
   "metadata": {},
   "outputs": [
    {
     "name": "stdout",
     "output_type": "stream",
     "text": [
      "[[-5  1]\n",
      " [-2  0]\n",
      " [ 1 -2]]\n"
     ]
    }
   ],
   "source": [
    "import numpy as np\n",
    "g = np.random.default_rng()\n",
    "\n",
    "a = g.integers(-5, 5, (3, 2))\n",
    "\n",
    "print(a)"
   ]
  },
  {
   "cell_type": "code",
   "execution_count": 4,
   "metadata": {},
   "outputs": [
    {
     "data": {
      "text/plain": [
       "(3, 2)"
      ]
     },
     "execution_count": 4,
     "metadata": {},
     "output_type": "execute_result"
    }
   ],
   "source": [
    "a.shape"
   ]
  },
  {
   "cell_type": "code",
   "execution_count": 5,
   "metadata": {},
   "outputs": [
    {
     "name": "stdout",
     "output_type": "stream",
     "text": [
      "False\n",
      "(2,)\n",
      "[ True False]\n",
      "(3,)\n",
      "[ True False  True]\n",
      "True\n",
      "[[0. 0.]\n",
      " [0. 0.]]\n",
      "[[1. 0.]\n",
      " [0. 0.]]\n",
      "[ True False]\n"
     ]
    }
   ],
   "source": [
    "print(np.all(a))\n",
    "print(np.all(a, axis=0).shape)\n",
    "print(np.all(a, axis=0))\n",
    "print(np.all(a, axis=1).shape)\n",
    "print(np.all(a, axis=1))\n",
    "\n",
    "print(np.any(a))\n",
    "\n",
    "zeros = np.zeros((2,2))\n",
    "print(zeros)\n",
    "zeros[0,0] = 1\n",
    "print(zeros)\n",
    "\n",
    "print(np.any(zeros, axis=1))"
   ]
  },
  {
   "cell_type": "markdown",
   "metadata": {},
   "source": [
    "Un altro esempio di funzione che restituisce un risultato booleano è `any`, che restituisce `True` se almeno un elemento in una matrice (o su un asse) è pari a `True`."
   ]
  },
  {
   "cell_type": "code",
   "execution_count": null,
   "metadata": {},
   "outputs": [],
   "source": []
  },
  {
   "cell_type": "markdown",
   "metadata": {},
   "source": [
    "## `where`\n",
    "\n",
    "\n",
    "`np.where` è una funzione di NumPy che offre un modo efficace e flessibile per eseguire operazioni condizionali su array. È particolarmente utile per applicare condizioni logiche e selezionare elementi da uno o più array in base a tali condizioni. Ecco una panoramica dettagliata di come utilizzare `np.where` con alcuni esempi pratici.\n",
    "\n",
    "### Sintassi di base\n",
    "\n",
    "La sintassi di base di `np.where` è la seguente:\n",
    "\n",
    "```phython\n",
    "np.where(condizione, [x, y])\n",
    "```\n",
    "\n",
    "-   `condizione`: un array di booleans o una condizione che può essere applicata agli elementi di un array.\n",
    "-   `x`: (opzionale) i valori da usare dove la condizione è vera.\n",
    "-   `y`: (opzionale) i valori da usare dove la condizione è falsa.\n",
    "\n",
    "### Utilizzo di base\n",
    "\n",
    "#### Esempio 1: Individuare indici\n",
    "\n",
    "Quando viene passato solo la condizione, `np.where` restituisce una tupla di array che indicano gli indici degli elementi che soddisfano la condizione.\n",
    "\n",
    "```python\n",
    "import numpy as np\n",
    "\n",
    "a = np.array([1, 2, 3, 4, 5])\n",
    "indices = np.where(a > 3)\n",
    "print(indices)  # (array([3, 4]),)\n",
    "```\n",
    "\n",
    "\n",
    "#### Esempio 2: Selezionare elementi da array\n",
    "\n",
    "Quando vengono passati tutti e tre i parametri, `np.where` restituirà un array in cui ogni elemento è preso da `x` se la condizione è vera, altrimenti da `y`.\n",
    "\n",
    "```python\n",
    "a = np.array([1, 2, 3, 4, 5])\n",
    "b = np.where(a > 3, a, -a)\n",
    "print(b)  # [-1 -2 -3  4  5]\n",
    "\n",
    "```\n",
    "\n",
    "#### Esempio 3: Sostituzione di valori\n",
    "\n",
    "`np.where` può essere usato per sostituire valori in un array in base a una condizione.\n",
    "\n",
    "```python\n",
    "a = np.array([1, 2, 3, 4, 5])\n",
    "b = np.where(a % 2 == 0, a * 2, a * -1)\n",
    "print(b)  # [-1  4 -3  8 -5]\n",
    "\n",
    "```"
   ]
  },
  {
   "cell_type": "markdown",
   "metadata": {},
   "source": [
    "Ci sono poi altre funzioni element-wise che restituiscono `True` o `False`:\n",
    "- `isnan` -> restituisce  True se l'elemento passato in input è NaN\n",
    "- `isscalar` -> restituisce True se l'elemento passato in input è uno scalare\n",
    "- `isreal` -> restituisce True se un numero è reale (anche se un numero complesso ha una parte immaginaria pari a 0)"
   ]
  },
  {
   "cell_type": "code",
   "execution_count": 3,
   "metadata": {},
   "outputs": [
    {
     "name": "stdout",
     "output_type": "stream",
     "text": [
      "True\n",
      "[[0 1]\n",
      " [1 1]]\n",
      "False\n",
      "[False  True]\n"
     ]
    }
   ],
   "source": [
    "print(np.isnan(np.nan))\n",
    "\n",
    "b = g.choice([1, 0], (2, 2))\n",
    "print(b)\n",
    "print(np.isscalar(b))\n",
    "\n",
    "print(np.isreal(\n",
    "    np.array([3+0.5j, 3 + 0j])\n",
    "))"
   ]
  },
  {
   "cell_type": "markdown",
   "metadata": {},
   "source": [
    "Ci sono poi le funzioni logiche che effettuano le classiche operazioni (and, or, xor, not) logiche applicandole in maniera element-wise.\n",
    "- `logical_and`\n",
    "- `logical_or`\n",
    "- `logical_not`\n",
    "- `logical_xor`"
   ]
  },
  {
   "cell_type": "code",
   "execution_count": 4,
   "metadata": {},
   "outputs": [
    {
     "name": "stdout",
     "output_type": "stream",
     "text": [
      "[[False False]\n",
      " [False False]] [[False False]\n",
      " [ True False]]\n",
      "[[False False]\n",
      " [False False]]\n",
      "[[False False]\n",
      " [ True False]]\n"
     ]
    }
   ],
   "source": [
    "a = g.choice([True, False], (2, 2))\n",
    "b = g.choice([True, False], (2, 2))\n",
    "\n",
    "\n",
    "print(a, b)\n",
    "\n",
    "print(np.logical_and(a, b))\n",
    "print(np.logical_or(a, b))"
   ]
  },
  {
   "cell_type": "code",
   "execution_count": null,
   "metadata": {},
   "outputs": [],
   "source": []
  },
  {
   "cell_type": "markdown",
   "metadata": {},
   "source": [
    "Esistono poi anche degli operatori di confronto fra ndarray:\n",
    "- `array_equal`: restituisce True se due ndarray hanno stessa shape ed elementi\n",
    "- `array_equiv`: restituisce True se due ndarray sono _consistenti_ e hanno gli stessi elementi. \n",
    "\n",
    "Due ndarray sono consistenti se hanno la stessa shape o se può essere fatta un'operazione di _broadcast_ per uniformare la shape. Il __broadcast__ è l'operazione di far \"matchare\" fra loro dimensioni di array con shape diverse per permettere l'esecuzione di operazioni sugli array (es. operazioni aritmetiche)\n"
   ]
  },
  {
   "cell_type": "code",
   "execution_count": 5,
   "metadata": {},
   "outputs": [
    {
     "name": "stdout",
     "output_type": "stream",
     "text": [
      "[2 3]\n",
      "[2 3]\n",
      "True\n",
      "True\n",
      "False\n",
      "True\n"
     ]
    }
   ],
   "source": [
    "a = np.array([2, 3])\n",
    "b = np.array([2, 3])\n",
    "c = np.array([[2, 3], [2, 3]])\n",
    "\n",
    "print(a)\n",
    "print(b)\n",
    "\n",
    "print(np.array_equal(a, b))\n",
    "print(np.array_equiv(a, b))\n",
    "print(np.array_equal(a, c))\n",
    "print(np.array_equiv(a, c))"
   ]
  },
  {
   "cell_type": "markdown",
   "metadata": {},
   "source": [
    "Altre funzioni element-wise sono le funzioni per il confronto. Queste funzioni hanno anche un corrispettivo con gli operatori di confronto \"classici\" come `>`, `<`, `>=`, `<=`, etc:\n",
    "- `greater`\n",
    "- `greater_equal`\n",
    "- `less`\n",
    "- `less_equal`\n",
    "- `equal`\n",
    "- `not_equal`"
   ]
  },
  {
   "cell_type": "code",
   "execution_count": 6,
   "metadata": {},
   "outputs": [
    {
     "name": "stdout",
     "output_type": "stream",
     "text": [
      "[False False False False]\n"
     ]
    }
   ],
   "source": [
    "a = np.array([1, 2, 3, 4])\n",
    "a_eq = np.array([1, 2, 3, 4])\n",
    "\n",
    "print( a > a_eq)\n"
   ]
  },
  {
   "cell_type": "markdown",
   "metadata": {},
   "source": [
    "\n",
    "### Esercizio 1: Somma con Broadcasting\n",
    "\n",
    "**Obiettivo:** Utilizzare il broadcasting per sommare una matrice e un vettore.\n",
    "\n",
    "**Task:**\n",
    "\n",
    "1.  Crea una matrice di interi casuali `a` di dimensioni $4 \\times 3$ con valori compresi tra 1 e 10.\n",
    "2.  Crea un vettore `b` di dimensioni $1 \\times 3$ con valori compresi tra 1 e 10.\n",
    "3.  Utilizza il broadcasting per sommare `a` e `b` e stampa il risultato."
   ]
  },
  {
   "cell_type": "code",
   "execution_count": 11,
   "metadata": {},
   "outputs": [
    {
     "name": "stdout",
     "output_type": "stream",
     "text": [
      "Matrice a:\n",
      " [[ 2  6  9]\n",
      " [ 8 10  8]\n",
      " [ 1  4  5]\n",
      " [ 1  9  5]]\n",
      "Vettore b:\n",
      " [9 9 6]\n",
      "[[11 15 15]\n",
      " [17 19 14]\n",
      " [10 13 11]\n",
      " [10 18 11]]\n"
     ]
    }
   ],
   "source": [
    "g = np.random.default_rng()\n",
    "\n",
    "a = g.integers(1, 11, (4, 3))\n",
    "b = g.integers(1, 11, (3,))\n",
    "print(\"Matrice a:\\n\", a)\n",
    "print(\"Vettore b:\\n\", b)\n",
    "\n",
    "print(a + b)"
   ]
  },
  {
   "cell_type": "markdown",
   "metadata": {},
   "source": [
    "\n",
    "### Esercizio 2: Normalizzazione di Righe con Broadcasting\n",
    "\n",
    "**Obiettivo:** Utilizzare il broadcasting per normalizzare le righe di una matrice.\n",
    "\n",
    "**Task:**\n",
    "\n",
    "1.  Crea una matrice di interi casuali `e` di dimensioni $3 \\times 5$ con valori compresi tra 1 e 10.\n",
    "2.  Calcola la somma di ogni riga e utilizza il broadcasting per dividere ogni elemento della matrice per la somma della sua riga.\n",
    "3.  Stampa la matrice normalizzata."
   ]
  },
  {
   "cell_type": "code",
   "execution_count": 13,
   "metadata": {},
   "outputs": [
    {
     "name": "stdout",
     "output_type": "stream",
     "text": [
      "[[ 7  1  8  3  4]\n",
      " [ 9 10  6  2  5]\n",
      " [ 1 10  1  9  3]]\n"
     ]
    }
   ],
   "source": [
    "g = np.random.default_rng()\n",
    "\n",
    "a = g.integers(1, 11, (3, 5))\n",
    "\n",
    "print(a)\n"
   ]
  },
  {
   "cell_type": "code",
   "execution_count": 18,
   "metadata": {},
   "outputs": [
    {
     "name": "stdout",
     "output_type": "stream",
     "text": [
      "[[23]\n",
      " [32]\n",
      " [24]]\n",
      "[[0.30434783 0.04347826 0.34782609 0.13043478 0.17391304]\n",
      " [0.28125    0.3125     0.1875     0.0625     0.15625   ]\n",
      " [0.04166667 0.41666667 0.04166667 0.375      0.125     ]]\n"
     ]
    }
   ],
   "source": [
    "# rows = a.sum(axis=1).reshape((3, -1))\n",
    "rows = a.sum(axis=1, keepdims=True)\n",
    "\n",
    "print(rows)\n",
    "\n",
    "norm = a / rows\n",
    "\n",
    "print(norm)"
   ]
  },
  {
   "cell_type": "markdown",
   "metadata": {},
   "source": [
    "\n",
    "### Esercizio 4: Trasformazione di Coordinate con Broadcasting\n",
    "\n",
    "**Obiettivo:** Utilizzare il broadcasting per trasformare un insieme di punti in 2D.\n",
    "\n",
    "**Task:**\n",
    "\n",
    "1.  Crea una matrice `points` di dimensioni $5\\times 2$ che rappresenta 5 punti in un piano 2D con valori compresi tra 0 e 10.\n",
    "2.  Crea un vettore `translation` di dimensioni $1 \\times 2$ che rappresenta una traslazione (dx, dy).\n",
    "3.  Utilizza il broadcasting per applicare la traslazione a tutti i punti e stampa i nuovi punti trasformati."
   ]
  },
  {
   "cell_type": "code",
   "execution_count": null,
   "metadata": {},
   "outputs": [],
   "source": []
  }
 ],
 "metadata": {
  "kernelspec": {
   "display_name": "Python 3 (ipykernel)",
   "language": "python",
   "name": "python3"
  },
  "language_info": {
   "codemirror_mode": {
    "name": "ipython",
    "version": 3
   },
   "file_extension": ".py",
   "mimetype": "text/x-python",
   "name": "python",
   "nbconvert_exporter": "python",
   "pygments_lexer": "ipython3",
   "version": "3.10.0"
  }
 },
 "nbformat": 4,
 "nbformat_minor": 4
}
