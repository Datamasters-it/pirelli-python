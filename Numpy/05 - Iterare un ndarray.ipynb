{
 "cells": [
  {
   "cell_type": "markdown",
   "metadata": {
    "collapsed": true,
    "jupyter": {
     "outputs_hidden": true
    }
   },
   "source": [
    "Il package numpy contiene l'oggetto `nditer`, che viene usato per generare un iteratore su un `ndarray`. Ogni elemento è visitato quindi utilizzando l'interfaccia standard di Python \"Iterator\"."
   ]
  },
  {
   "cell_type": "code",
   "execution_count": 1,
   "metadata": {},
   "outputs": [
    {
     "name": "stdout",
     "output_type": "stream",
     "text": [
      "[[0 1 2]\n",
      " [3 4 5]]\n"
     ]
    }
   ],
   "source": [
    "import numpy as np\n",
    "\n",
    "a  = np.arange(0, 6).reshape(2, 3)\n",
    "b = np.array([[5, 6,7], [8, 9, 0]], order=\"f\")\n",
    "\n",
    "print(a)"
   ]
  },
  {
   "cell_type": "code",
   "execution_count": 2,
   "metadata": {},
   "outputs": [
    {
     "name": "stdout",
     "output_type": "stream",
     "text": [
      "0 1 2 3 4 5 \n",
      "\n",
      "5 8 6 9 7 0 "
     ]
    }
   ],
   "source": [
    "for x in np.nditer(a):\n",
    "    print(x, end=\" \")\n",
    "print(\"\\n\")\n",
    "for x in np.nditer(b):\n",
    "    print(x, end=\" \")"
   ]
  },
  {
   "cell_type": "markdown",
   "metadata": {},
   "source": [
    "Notiamo che nditer visita gli elementi in base a come sono memorizzati, quindi anche nel caso di trasposta in realtà l'ordine di visita non cambia:"
   ]
  },
  {
   "cell_type": "code",
   "execution_count": 3,
   "metadata": {},
   "outputs": [
    {
     "name": "stdout",
     "output_type": "stream",
     "text": [
      "[[0 1 2]\n",
      " [3 4 5]]\n",
      "[[0 3]\n",
      " [1 4]\n",
      " [2 5]]\n",
      "0 3 1 4 2 5 \n",
      "\n",
      "0 1 2 3 4 5 "
     ]
    }
   ],
   "source": [
    "print(a)\n",
    "print(a.T)\n",
    "\n",
    "for x in np.nditer(a, order=\"f\"):\n",
    "    print(x, end = \" \")\n",
    "    \n",
    "print(\"\\n\")\n",
    "\n",
    "for x in np.nditer(a.T):\n",
    "    print(x, end=\" \")"
   ]
  },
  {
   "cell_type": "markdown",
   "metadata": {},
   "source": [
    "Ricordiamo che l'ordinamento in memoria F (Fortran) è un ordinamento column-major, mentre l'ordinamento in memoria C è row-major. Possiamo passare un certo ordinamento anche ad nditer:"
   ]
  },
  {
   "cell_type": "markdown",
   "metadata": {},
   "source": [
    "Di default un iteratore può solo leggere i valori di un nd-array, ma tramite un argomento chiamato `op_flags` possiamo modificare questo comportamento:"
   ]
  },
  {
   "cell_type": "code",
   "execution_count": 4,
   "metadata": {},
   "outputs": [
    {
     "name": "stdout",
     "output_type": "stream",
     "text": [
      "[[0 1 2]\n",
      " [3 4 5]]\n",
      "[[ 0  2  4]\n",
      " [ 6  8 10]]\n"
     ]
    }
   ],
   "source": [
    "print(a)\n",
    "\n",
    "with np.nditer(a, op_flags=['readwrite']) as it:\n",
    "    for x in it:\n",
    "        x[...] = 2*x\n",
    "print(a)"
   ]
  },
  {
   "cell_type": "markdown",
   "metadata": {},
   "source": [
    "Notiamo come usiamo il costrutto `with/as` di python, che ci consente di creare un context manager che si \"auto-chiude\" una volta terminate le operazioni specificate al suo interno (in questo caso il calcolo del doppio di ogni elemento). \n",
    "\n",
    "È possibile inoltre specificare una lista di flag. Ad esempio, `external_loop` esegue il loop non sul singolo elemento ma sulla struttura intera di più basso livello rispetto alla struttura originaria, risultando in un numero minore di iterazioni e quindi ad un'ottimizzazione migliore. "
   ]
  },
  {
   "cell_type": "code",
   "execution_count": 5,
   "metadata": {},
   "outputs": [
    {
     "name": "stdout",
     "output_type": "stream",
     "text": [
      "[[ 0  2  4]\n",
      " [ 6  8 10]]\n",
      "[0 6]\n",
      "[2 8]\n",
      "[ 4 10]\n"
     ]
    }
   ],
   "source": [
    "print(a)\n",
    "\n",
    "for x in np.nditer(a, flags=[\"external_loop\"], order=\"F\"):\n",
    "    print(x)"
   ]
  },
  {
   "cell_type": "markdown",
   "metadata": {},
   "source": [
    "È possibile inoltre usare il flag \"f_index\", \"c_index\", \"multi_index\" (incompatibili con `external_loop`) per indicizzare gli elementi secondo la notazione fortran, c o multi_indice (una tupla contenente l'indirizzo dell'elemento)\n"
   ]
  },
  {
   "cell_type": "code",
   "execution_count": 6,
   "metadata": {},
   "outputs": [
    {
     "name": "stdout",
     "output_type": "stream",
     "text": [
      "[[ 0  2  4]\n",
      " [ 6  8 10]]\n",
      "0 (0, 0)\n",
      "2 (0, 1)\n",
      "4 (0, 2)\n",
      "6 (1, 0)\n",
      "8 (1, 1)\n",
      "10 (1, 2)\n"
     ]
    }
   ],
   "source": [
    "it = np.nditer(a, flags=[\"multi_index\"])\n",
    "print(a)\n",
    "for x in it:\n",
    "    print(x, it.multi_index)"
   ]
  },
  {
   "cell_type": "markdown",
   "metadata": {},
   "source": [
    "Come abbiamo appena visto è possibile anche utilizzare una sintassi alternativa, che prevede l'assegnazione esplicita di un iteratore ad una variabile. Questa variabile può successivamente essere usata con un ciclo `while`:\n"
   ]
  },
  {
   "cell_type": "code",
   "execution_count": 7,
   "metadata": {},
   "outputs": [
    {
     "name": "stdout",
     "output_type": "stream",
     "text": [
      "0 - 0\n",
      "2 - 1\n",
      "4 - 2\n",
      "6 - 3\n",
      "8 - 4\n",
      "10 - 5\n"
     ]
    }
   ],
   "source": [
    "it = np.nditer(a, flags=[\"c_index\"])\n",
    "\n",
    "while not it.finished:\n",
    "    print(\"%d - %d\" % (it[0], it.index))\n",
    "    is_not_finished = it.iternext()"
   ]
  },
  {
   "cell_type": "markdown",
   "metadata": {},
   "source": [
    "È possibile utilizzare un iteratore anche su array che sono `broadcastable`, ovvero che hanno shape diverse ma possono comunque essere utilizzati in operazioni matematico/aritmetiche per i quali apparentemente sarebbero incompatibili.\n",
    "\n",
    "È sufficiente passare a nditer il _broadcast_ dei due ndarray: \n",
    "`[a, b, c, ..., N]`\n",
    "\n"
   ]
  },
  {
   "cell_type": "code",
   "execution_count": 8,
   "metadata": {},
   "outputs": [
    {
     "name": "stdout",
     "output_type": "stream",
     "text": [
      "[0 1 2 3 4]\n",
      "[[0 1 2 3 4]\n",
      " [5 6 7 8 9]]\n"
     ]
    }
   ],
   "source": [
    "a = np.arange(0,5)\n",
    "b = np.arange(10).reshape(2, 5)\n",
    "\n",
    "print(a)\n",
    "print(b)"
   ]
  },
  {
   "cell_type": "code",
   "execution_count": 14,
   "metadata": {},
   "outputs": [
    {
     "name": "stdout",
     "output_type": "stream",
     "text": [
      "[0 1 2 3 4] [[0 1 2 3 4]\n",
      " [5 6 7 8 9]]\n",
      "[0 1 2 3 4] [[0 1 2 3 4]\n",
      " [5 6 7 8 9]]\n",
      "[0 1 2 3 4] [[0 1 2 3 4]\n",
      " [5 6 7 8 9]]\n",
      "[0 1 2 3 4] [[0 1 2 3 4]\n",
      " [5 6 7 8 9]]\n",
      "[0 1 2 3 4] [[0 1 2 3 4]\n",
      " [5 6 7 8 9]]\n",
      "[0 1 2 3 4] [[0 1 2 3 4]\n",
      " [5 6 7 8 9]]\n",
      "[0 1 2 3 4] [[0 1 2 3 4]\n",
      " [5 6 7 8 9]]\n",
      "[0 1 2 3 4] [[0 1 2 3 4]\n",
      " [5 6 7 8 9]]\n",
      "[0 1 2 3 4] [[0 1 2 3 4]\n",
      " [5 6 7 8 9]]\n",
      "[0 1 2 3 4] [[0 1 2 3 4]\n",
      " [5 6 7 8 9]]\n"
     ]
    }
   ],
   "source": [
    "for x, y in np.nditer([a, b]):\n",
    "    print(a, b)"
   ]
  },
  {
   "cell_type": "code",
   "execution_count": null,
   "metadata": {},
   "outputs": [],
   "source": []
  }
 ],
 "metadata": {
  "kernelspec": {
   "display_name": "Python 3 (ipykernel)",
   "language": "python",
   "name": "python3"
  },
  "language_info": {
   "codemirror_mode": {
    "name": "ipython",
    "version": 3
   },
   "file_extension": ".py",
   "mimetype": "text/x-python",
   "name": "python",
   "nbconvert_exporter": "python",
   "pygments_lexer": "ipython3",
   "version": "3.10.0"
  }
 },
 "nbformat": 4,
 "nbformat_minor": 4
}
