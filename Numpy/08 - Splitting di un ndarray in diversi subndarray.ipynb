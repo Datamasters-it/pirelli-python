{
 "cells": [
  {
   "cell_type": "markdown",
   "metadata": {
    "collapsed": true,
    "jupyter": {
     "outputs_hidden": true
    }
   },
   "source": [
    "È possibile suddividere un array in sotto-array utilizzando le funzioni di split. Esse restituiscono una lista nativa Python formata da ndarray.\n",
    "\n",
    "La funzione split se usata con vettori monodimensionali accetta l'ndarray da splittare come primo argomento e il numero di elementi in cui dividere la struttura dati."
   ]
  },
  {
   "cell_type": "code",
   "execution_count": 1,
   "metadata": {},
   "outputs": [],
   "source": [
    "import numpy as np"
   ]
  },
  {
   "cell_type": "code",
   "execution_count": 2,
   "metadata": {
    "pycharm": {
     "name": "#%%\n"
    }
   },
   "outputs": [
    {
     "name": "stdout",
     "output_type": "stream",
     "text": [
      "[ 0  1  2  3  4  5  6  7  8  9 10 11 12 13 14 15 16 17 18 19 20 21 22 23\n",
      " 24 25 26 27 28 29]\n",
      "<class 'list'>\n",
      "<class 'numpy.ndarray'>\n",
      "10 [0 1 2 3 4 5 6 7 8 9]\n",
      "<class 'numpy.ndarray'>\n",
      "10 [10 11 12 13 14 15 16 17 18 19]\n",
      "<class 'numpy.ndarray'>\n",
      "10 [20 21 22 23 24 25 26 27 28 29]\n"
     ]
    }
   ],
   "source": [
    "a = np.arange(30)\n",
    "\n",
    "sub_arrays = np.split(a, 3)\n",
    "\n",
    "print(a)\n",
    "\n",
    "print(type(sub_arrays))\n",
    "\n",
    "for array in sub_arrays:\n",
    "    print(type(array))\n",
    "    print(len(array), array)"
   ]
  },
  {
   "cell_type": "markdown",
   "metadata": {},
   "source": [
    "Ecco un esempio di utilizzo con le matrici. Notiamo che gli elementi della lista sono _ancora_ delle matrici, di dimensione 1x3:"
   ]
  },
  {
   "cell_type": "code",
   "execution_count": 3,
   "metadata": {
    "pycharm": {
     "name": "#%%\n"
    }
   },
   "outputs": [
    {
     "name": "stdout",
     "output_type": "stream",
     "text": [
      "<class 'list'>\n",
      "<class 'numpy.ndarray'>\n",
      "(1, 3)\n",
      "[[  1  10 100]] \n",
      "\n",
      "<class 'numpy.ndarray'>\n",
      "(1, 3)\n",
      "[[  2  20 200]] \n",
      "\n"
     ]
    }
   ],
   "source": [
    "a = np.array([\n",
    "    [1, 10, 100],\n",
    "    [2, 20, 200]\n",
    "])\n",
    "\n",
    "sub = np.split(a, 2)\n",
    "\n",
    "print(type(sub))\n",
    "\n",
    "for ar in sub:\n",
    "    print(type(ar))\n",
    "    print(ar.shape)\n",
    "    print(ar, \"\\n\")"
   ]
  },
  {
   "cell_type": "markdown",
   "metadata": {},
   "source": [
    "\"vsplit\" (vertical split) viene utilizzata per fare uno split sull'asse y. "
   ]
  },
  {
   "cell_type": "code",
   "execution_count": 4,
   "metadata": {
    "pycharm": {
     "name": "#%%\n"
    }
   },
   "outputs": [
    {
     "name": "stdout",
     "output_type": "stream",
     "text": [
      "[[1]\n",
      " [2]\n",
      " [3]\n",
      " [4]]\n",
      "[[10]\n",
      " [20]\n",
      " [30]\n",
      " [40]]\n",
      "[[100]\n",
      " [200]\n",
      " [300]\n",
      " [400]]\n",
      "[[1]\n",
      " [2]\n",
      " [3]\n",
      " [4]]\n",
      "[[10]\n",
      " [20]\n",
      " [30]\n",
      " [40]]\n",
      "[[100]\n",
      " [200]\n",
      " [300]\n",
      " [400]]\n"
     ]
    }
   ],
   "source": [
    "a = np.array([\n",
    "    [1, 10, 100],\n",
    "    [2, 20, 200],\n",
    "    [3, 30, 300],\n",
    "    [4, 40, 400]\n",
    "])\n",
    "\n",
    "array_col = np.split(a, 3, axis=1)\n",
    "\n",
    "for ar in array_col:\n",
    "    print(ar)\n",
    "    \n"
   ]
  },
  {
   "cell_type": "markdown",
   "metadata": {},
   "source": [
    "Risultato analogo si può ottenere con hsplit (split orizzontale)"
   ]
  },
  {
   "cell_type": "code",
   "execution_count": null,
   "metadata": {
    "pycharm": {
     "name": "#%%\n"
    }
   },
   "outputs": [],
   "source": [
    "array_col = np.hsplit(a, 3)\n",
    "\n",
    "for ar in array_col:\n",
    "    print(ar)"
   ]
  },
  {
   "cell_type": "markdown",
   "metadata": {},
   "source": [
    "`array_split` funziona in maniera analoga a `split`, senza tuttavia sollevare eccezioni qualora non passassimo un numero di parti non perfettamente proporzionale all'array di partenza:"
   ]
  },
  {
   "cell_type": "code",
   "execution_count": 5,
   "metadata": {
    "pycharm": {
     "name": "#%%\n"
    }
   },
   "outputs": [
    {
     "name": "stdout",
     "output_type": "stream",
     "text": [
      "[[  1  10 100]\n",
      " [  2  20 200]]\n",
      "(1, 3)\n",
      "[[  1  10 100]]\n",
      "(1, 3)\n",
      "[[  2  20 200]]\n",
      "(0, 3)\n",
      "[]\n"
     ]
    }
   ],
   "source": [
    "a = np.array([\n",
    "    [1, 10, 100],\n",
    "    [2, 20, 200]\n",
    "])\n",
    "\n",
    "\n",
    "print(a)\n",
    "\n",
    "sub = np.array_split(a, 3)\n",
    "\n",
    "for ar in sub:\n",
    "    print(ar.shape)\n",
    "    print(ar)"
   ]
  },
  {
   "cell_type": "code",
   "execution_count": null,
   "metadata": {
    "pycharm": {
     "name": "#%%\n"
    }
   },
   "outputs": [],
   "source": []
  }
 ],
 "metadata": {
  "kernelspec": {
   "display_name": "Python 3 (ipykernel)",
   "language": "python",
   "name": "python3"
  },
  "language_info": {
   "codemirror_mode": {
    "name": "ipython",
    "version": 3
   },
   "file_extension": ".py",
   "mimetype": "text/x-python",
   "name": "python",
   "nbconvert_exporter": "python",
   "pygments_lexer": "ipython3",
   "version": "3.10.0"
  }
 },
 "nbformat": 4,
 "nbformat_minor": 4
}
