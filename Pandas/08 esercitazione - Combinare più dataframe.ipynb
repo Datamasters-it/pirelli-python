{
 "cells": [
  {
   "cell_type": "code",
   "execution_count": 6,
   "id": "6a2c817d",
   "metadata": {},
   "outputs": [],
   "source": [
    "import pandas as pd\n",
    "import matplotlib.pyplot as plt\n",
    "\n",
    "import seaborn as sns\n",
    "\n",
    "# plt.rcParams['figure.figsize'] = [10.0, 8.0]\n",
    "plt.rcParams['figure.dpi'] = 200\n",
    "plt.rc('legend',fontsize=16)\n",
    "\n",
    "\n"
   ]
  },
  {
   "cell_type": "markdown",
   "id": "2cd91c80-8efa-43a4-8e04-20f1a106f92d",
   "metadata": {},
   "source": [
    "\n",
    "In questo esercizio, utilizzerai Python e Pandas per importare, trasformare e unire dati scolastici e studenteschi relativi a diversi anni scolastici. Il tuo compito sarà leggere i file CSV, eseguire operazioni di pulizia e trasformazione dei dati, e infine unire i dataset per ottenere un unico DataFrame consolidato. Alla fine, salverai questo DataFrame in un file CSV. Segui i passaggi descritti di seguito:\n",
    "\n",
    "#### Passaggi:\n",
    "\n",
    "1.  **Definizione delle Variabili di Base**:\n",
    "    \n",
    "    -   Hai a disposizione le variabili di prefisso per i file delle scuole pubbliche, paritarie e degli studenti per entrambi i tipi di scuole e i dataset scaricati dal portale degli Open Data della scuola.\n",
    "    -   Hai anche a disposizione una lista di anni scolastici che utilizzerai per importare i dati.\n",
    "2.  **Inizializzazione della Lista per i DataFrame**:\n",
    "    -   Crea una lista vuota che conterrà i DataFrame per ciascun anno.\n",
    "3.  **Ciclo per l'Importazione e la Trasformazione dei Dati**:\n",
    "    -   Per ogni anno scolastico nella lista degli anni:\n",
    "        -   Importa i file CSV delle scuole pubbliche e paritarie.\n",
    "        -   Aggiungi una colonna per indicare se la scuola è pubblica o paritaria.\n",
    "        -   Unisci i DataFrame delle scuole pubbliche e paritarie.\n",
    "        -   Elimina le colonne non necessarie dai DataFrame delle scuole.\n",
    "        -   Importa i file CSV degli studenti pubblici e paritari.\n",
    "        -   Unisci i DataFrame degli studenti pubblici e paritari.\n",
    "        -   Unisci i dati degli studenti con quelli delle scuole basandoti sul codice scuola.\n",
    "        -   Aggiungi il DataFrame risultante alla lista dei DataFrame.\n",
    "4.  **Unione Finale dei DataFrame**:\n",
    "    -   Unisci tutti i DataFrame presenti nella lista in un unico DataFrame.\n",
    "    -   Resetta l'indice del DataFrame.\n",
    "    -   Aggiungi una colonna per il totale degli studenti (maschi più femmine).\n",
    "    -   Salva il DataFrame finale in un file CSV."
   ]
  },
  {
   "cell_type": "code",
   "execution_count": 15,
   "id": "bdeb4add",
   "metadata": {},
   "outputs": [
    {
     "name": "stdout",
     "output_type": "stream",
     "text": [
      "(51122, 21)\n",
      "(13418, 15)\n",
      "(64540, 21)\n",
      "Index(['ANNOSCOLASTICO', 'AREAGEOGRAFICA', 'REGIONE', 'PROVINCIA',\n",
      "       'CODICEISTITUTORIFERIMENTO', 'DENOMINAZIONEISTITUTORIFERIMENTO',\n",
      "       'CODICESCUOLA', 'DENOMINAZIONESCUOLA', 'INDIRIZZOSCUOLA', 'CAPSCUOLA',\n",
      "       'CODICECOMUNESCUOLA', 'DESCRIZIONECOMUNE',\n",
      "       'DESCRIZIONECARATTERISTICASCUOLA',\n",
      "       'DESCRIZIONETIPOLOGIAGRADOISTRUZIONESCUOLA', 'INDICAZIONESEDEDIRETTIVO',\n",
      "       'INDICAZIONESEDEOMNICOMPRENSIVO', 'INDIRIZZOEMAILSCUOLA',\n",
      "       'INDIRIZZOPECSCUOLA', 'SITOWEBSCUOLA', 'SEDESCOLASTICA',\n",
      "       'PUBBLICA_PRIVATA'],\n",
      "      dtype='object')\n"
     ]
    }
   ],
   "source": [
    "public_students_base_prefix = 'scuola/ALUCORSOINDCLASTA'\n",
    "charter_students_base_prefix = 'scuola/ALUCORSOINDCLAPAR'\n",
    "public_school_nation_prefix = 'scuola/ALUITASTRACITSTA'\n",
    "charter_school_nation_prefix = 'scuola/ALUITASTRACITPAR'\n",
    "public_school_prefix = 'scuola/SCUANAGRAFESTAT'\n",
    "charter_school_prefix  = 'scuola/SCUANAGRAFEPAR'\n",
    "\n",
    "years = ['20152016', '20162017', '20172018', '20182019', '20192020', '20202021', '20212022', '20222023']\n",
    "dataframes = []\n",
    "\n",
    "for current_year in years:\n",
    "    print(f\"Importing schools and students for year {current_year}\")\n",
    "\n",
    "    current_year_public_schools = pd.read_csv(f\"{public_school_prefix}{current_year}.csv\")\n",
    "    current_year_charter_schools = pd.read_csv(f\"{charter_school_prefix}{current_year}.csv\")\n",
    "\n",
    "    current_year_public_schools['PUBBLICA_PARITARIA'] = \"PUBBLICA\"\n",
    "    current_year_charter_schools['PUBBLICA_PARITARIA'] = \"PARITARIA\"\n",
    "\n",
    "    current_year_schools = pd.concat([current_year_public_schools, current_year_charter_schools], axis=0)\n",
    "    \n",
    "    \n",
    "    current_year_schools.drop([\n",
    "        'ANNOSCOLASTICO', \n",
    "        #'CODICEISTITUTORIFERIMENTO',\n",
    "        #'DENOMINAZIONEISTITUTORIFERIMENTO',\n",
    "        # 'DENOMINAZIONESCUOLA',\n",
    "        'INDIRIZZOSCUOLA', \n",
    "        'CAPSCUOLA',\n",
    "        'DESCRIZIONECARATTERISTICASCUOLA', \n",
    "        'DESCRIZIONETIPOLOGIAGRADOISTRUZIONESCUOLA',\n",
    "        'INDICAZIONESEDEDIRETTIVO',\n",
    "        'INDICAZIONESEDEOMNICOMPRENSIVO',\n",
    "        'INDIRIZZOEMAILSCUOLA',\n",
    "        'INDIRIZZOPECSCUOLA',\n",
    "        'SITOWEBSCUOLA',\n",
    "        'SEDESCOLASTICA'\n",
    "    ], axis=1, inplace=True)\n",
    "    \n",
    "    print(f\"Schools for {current_year}: {current_year_schools.shape}\")\n",
    "\n",
    "    current_year_public_students = pd.read_csv(f\"{public_students_base_prefix}{current_year}.csv\")\n",
    "    current_year_charter_students = pd.read_csv(f\"{charter_students_base_prefix}{current_year}.csv\")\n",
    "    current_year_students = pd.concat([current_year_public_students, current_year_charter_students], axis=0)\n",
    "\n",
    "    print(f\"Students for {current_year}: {current_year_students.shape}\")\n",
    "\n",
    "    merged = current_year_students.merge(current_year_schools, on=\"CODICESCUOLA\", how=\"inner\")\n",
    "\n",
    "    print(f\"Merged for {current_year}: {merged.shape}\")\n",
    "    \n",
    "    print(\"\\n\")\n",
    "    \n",
    "    dataframes.append(merged)\n",
    "\n",
    "    \n",
    "df = pd.concat(dataframes, axis=0)\n",
    "\n",
    "df.reset_index()\n",
    "df['ALUNNITOT'] = df['ALUNNIMASCHI'] + df['ALUNNIFEMMINE']\n",
    "df.to_csv(\"scuola/students_schools_years.csv\")"
   ]
  },
  {
   "cell_type": "code",
   "execution_count": 16,
   "id": "1ea6f4ed",
   "metadata": {},
   "outputs": [],
   "source": [
    "# Mostra le sole scuole medie pubbliche di Bari"
   ]
  },
  {
   "cell_type": "code",
   "execution_count": 2,
   "id": "c8551cba",
   "metadata": {},
   "outputs": [],
   "source": [
    "# Estrai il numero totale di studenti per ordine di scuola raggruppati per scuole pubbliche e private"
   ]
  },
  {
   "cell_type": "code",
   "execution_count": 4,
   "id": "225886a1",
   "metadata": {},
   "outputs": [],
   "source": [
    "# Crea una tabella pivot e mostra il totale di studenti di classe prima primaria di scuole pubbliche e paritarie raggruppati per anno scolastico "
   ]
  },
  {
   "cell_type": "code",
   "execution_count": null,
   "id": "f6820d22",
   "metadata": {},
   "outputs": [],
   "source": []
  }
 ],
 "metadata": {
  "kernelspec": {
   "display_name": "Python 3 (ipykernel)",
   "language": "python",
   "name": "python3"
  },
  "language_info": {
   "codemirror_mode": {
    "name": "ipython",
    "version": 3
   },
   "file_extension": ".py",
   "mimetype": "text/x-python",
   "name": "python",
   "nbconvert_exporter": "python",
   "pygments_lexer": "ipython3",
   "version": "3.10.0"
  }
 },
 "nbformat": 4,
 "nbformat_minor": 5
}
