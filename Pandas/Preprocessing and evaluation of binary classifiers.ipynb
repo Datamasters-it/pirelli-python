{
 "cells": [
  {
   "cell_type": "code",
   "execution_count": 1,
   "id": "013b53fd",
   "metadata": {},
   "outputs": [],
   "source": [
    "import matplotlib.pyplot as plt\n",
    "import pandas as pd\n",
    "import numpy as np\n",
    "import seaborn as sns\n",
    "\n",
    "from sklearn.model_selection import train_test_split\n",
    "from sklearn.metrics import classification_report, log_loss, accuracy_score, precision_score, recall_score, f1_score, confusion_matrix, roc_curve, roc_auc_score, precision_recall_curve\n",
    "from sklearn.metrics import ConfusionMatrixDisplay\n",
    "from sklearn.impute import SimpleImputer\n",
    "from sklearn.preprocessing import OneHotEncoder, StandardScaler, MinMaxScaler\n",
    "from sklearn.utils import compute_class_weight"
   ]
  },
  {
   "cell_type": "code",
   "execution_count": 2,
   "id": "dd9828a1",
   "metadata": {},
   "outputs": [
    {
     "name": "stdout",
     "output_type": "stream",
     "text": [
      "Requirement already satisfied: imbalanced-learn in /Users/giumast/miniforge3/envs/tensorflow/lib/python3.10/site-packages (0.12.2)\n",
      "Requirement already satisfied: numpy>=1.17.3 in /Users/giumast/miniforge3/envs/tensorflow/lib/python3.10/site-packages (from imbalanced-learn) (1.22.4)\n",
      "Requirement already satisfied: scipy>=1.5.0 in /Users/giumast/miniforge3/envs/tensorflow/lib/python3.10/site-packages (from imbalanced-learn) (1.8.1)\n",
      "Requirement already satisfied: threadpoolctl>=2.0.0 in /Users/giumast/miniforge3/envs/tensorflow/lib/python3.10/site-packages (from imbalanced-learn) (3.1.0)\n",
      "Requirement already satisfied: joblib>=1.1.1 in /Users/giumast/miniforge3/envs/tensorflow/lib/python3.10/site-packages (from imbalanced-learn) (1.3.2)\n",
      "Requirement already satisfied: scikit-learn>=1.0.2 in /Users/giumast/miniforge3/envs/tensorflow/lib/python3.10/site-packages (from imbalanced-learn) (1.1.1)\n"
     ]
    }
   ],
   "source": [
    "!pip install -U imbalanced-learn"
   ]
  },
  {
   "cell_type": "code",
   "execution_count": 3,
   "id": "14540ae4",
   "metadata": {},
   "outputs": [],
   "source": [
    "# plt.rcParams[\"figure.dpi\"] = 300\n",
    "plt.rcParams['savefig.dpi'] = 300\n",
    "\n",
    "# import matplotlib_inline\n",
    "# matplotlib_inline.backend_inline.set_matplotlib_formats('svg')\n"
   ]
  },
  {
   "cell_type": "code",
   "execution_count": 4,
   "id": "21bf01c9",
   "metadata": {},
   "outputs": [
    {
     "name": "stdout",
     "output_type": "stream",
     "text": [
      "(5110, 11)\n",
      "<class 'pandas.core.frame.DataFrame'>\n",
      "Int64Index: 5110 entries, 9046 to 44679\n",
      "Data columns (total 11 columns):\n",
      " #   Column             Non-Null Count  Dtype  \n",
      "---  ------             --------------  -----  \n",
      " 0   gender             5110 non-null   object \n",
      " 1   age                5110 non-null   float64\n",
      " 2   hypertension       5110 non-null   int64  \n",
      " 3   heart_disease      5110 non-null   int64  \n",
      " 4   ever_married       5110 non-null   object \n",
      " 5   work_type          5110 non-null   object \n",
      " 6   Residence_type     5110 non-null   object \n",
      " 7   avg_glucose_level  5110 non-null   float64\n",
      " 8   bmi                4909 non-null   float64\n",
      " 9   smoking_status     5110 non-null   object \n",
      " 10  stroke             5110 non-null   int64  \n",
      "dtypes: float64(3), int64(3), object(5)\n",
      "memory usage: 479.1+ KB\n"
     ]
    }
   ],
   "source": [
    "df = pd.read_csv(\n",
    "    'datasets/healthcare-dataset-stroke-data.csv',\n",
    "    index_col=\"id\"\n",
    ")\n",
    "\n",
    "\n",
    "\n",
    "print(df.shape)\n",
    "df.info()"
   ]
  },
  {
   "cell_type": "code",
   "execution_count": 5,
   "id": "b103e65a",
   "metadata": {},
   "outputs": [
    {
     "data": {
      "text/html": [
       "<div>\n",
       "<style scoped>\n",
       "    .dataframe tbody tr th:only-of-type {\n",
       "        vertical-align: middle;\n",
       "    }\n",
       "\n",
       "    .dataframe tbody tr th {\n",
       "        vertical-align: top;\n",
       "    }\n",
       "\n",
       "    .dataframe thead th {\n",
       "        text-align: right;\n",
       "    }\n",
       "</style>\n",
       "<table border=\"1\" class=\"dataframe\">\n",
       "  <thead>\n",
       "    <tr style=\"text-align: right;\">\n",
       "      <th></th>\n",
       "      <th>gender</th>\n",
       "      <th>age</th>\n",
       "      <th>hypertension</th>\n",
       "      <th>heart_disease</th>\n",
       "      <th>ever_married</th>\n",
       "      <th>work_type</th>\n",
       "      <th>Residence_type</th>\n",
       "      <th>avg_glucose_level</th>\n",
       "      <th>bmi</th>\n",
       "      <th>smoking_status</th>\n",
       "      <th>stroke</th>\n",
       "    </tr>\n",
       "  </thead>\n",
       "  <tbody>\n",
       "    <tr>\n",
       "      <th>0</th>\n",
       "      <td>Male</td>\n",
       "      <td>67.0</td>\n",
       "      <td>0</td>\n",
       "      <td>1</td>\n",
       "      <td>Yes</td>\n",
       "      <td>Private</td>\n",
       "      <td>Urban</td>\n",
       "      <td>228.69</td>\n",
       "      <td>36.6</td>\n",
       "      <td>formerly smoked</td>\n",
       "      <td>1</td>\n",
       "    </tr>\n",
       "    <tr>\n",
       "      <th>1</th>\n",
       "      <td>Female</td>\n",
       "      <td>61.0</td>\n",
       "      <td>0</td>\n",
       "      <td>0</td>\n",
       "      <td>Yes</td>\n",
       "      <td>Self-employed</td>\n",
       "      <td>Rural</td>\n",
       "      <td>202.21</td>\n",
       "      <td>NaN</td>\n",
       "      <td>never smoked</td>\n",
       "      <td>1</td>\n",
       "    </tr>\n",
       "    <tr>\n",
       "      <th>2</th>\n",
       "      <td>Male</td>\n",
       "      <td>80.0</td>\n",
       "      <td>0</td>\n",
       "      <td>1</td>\n",
       "      <td>Yes</td>\n",
       "      <td>Private</td>\n",
       "      <td>Rural</td>\n",
       "      <td>105.92</td>\n",
       "      <td>32.5</td>\n",
       "      <td>never smoked</td>\n",
       "      <td>1</td>\n",
       "    </tr>\n",
       "    <tr>\n",
       "      <th>3</th>\n",
       "      <td>Female</td>\n",
       "      <td>49.0</td>\n",
       "      <td>0</td>\n",
       "      <td>0</td>\n",
       "      <td>Yes</td>\n",
       "      <td>Private</td>\n",
       "      <td>Urban</td>\n",
       "      <td>171.23</td>\n",
       "      <td>34.4</td>\n",
       "      <td>smokes</td>\n",
       "      <td>1</td>\n",
       "    </tr>\n",
       "    <tr>\n",
       "      <th>4</th>\n",
       "      <td>Female</td>\n",
       "      <td>79.0</td>\n",
       "      <td>1</td>\n",
       "      <td>0</td>\n",
       "      <td>Yes</td>\n",
       "      <td>Self-employed</td>\n",
       "      <td>Rural</td>\n",
       "      <td>174.12</td>\n",
       "      <td>24.0</td>\n",
       "      <td>never smoked</td>\n",
       "      <td>1</td>\n",
       "    </tr>\n",
       "  </tbody>\n",
       "</table>\n",
       "</div>"
      ],
      "text/plain": [
       "   gender   age  hypertension  heart_disease ever_married      work_type  \\\n",
       "0    Male  67.0             0              1          Yes        Private   \n",
       "1  Female  61.0             0              0          Yes  Self-employed   \n",
       "2    Male  80.0             0              1          Yes        Private   \n",
       "3  Female  49.0             0              0          Yes        Private   \n",
       "4  Female  79.0             1              0          Yes  Self-employed   \n",
       "\n",
       "  Residence_type  avg_glucose_level   bmi   smoking_status  stroke  \n",
       "0          Urban             228.69  36.6  formerly smoked       1  \n",
       "1          Rural             202.21   NaN     never smoked       1  \n",
       "2          Rural             105.92  32.5     never smoked       1  \n",
       "3          Urban             171.23  34.4           smokes       1  \n",
       "4          Rural             174.12  24.0     never smoked       1  "
      ]
     },
     "execution_count": 5,
     "metadata": {},
     "output_type": "execute_result"
    }
   ],
   "source": [
    "df.reset_index(drop=True, inplace=True)\n",
    "df.head()"
   ]
  },
  {
   "cell_type": "code",
   "execution_count": 6,
   "id": "d5aeb045",
   "metadata": {},
   "outputs": [
    {
     "name": "stdout",
     "output_type": "stream",
     "text": [
      "['Male' 'Female' 'Other']\n",
      "['Yes' 'No']\n",
      "['Private' 'Self-employed' 'Govt_job' 'children' 'Never_worked']\n",
      "['Urban' 'Rural']\n",
      "['formerly smoked' 'never smoked' 'smokes' 'Unknown']\n"
     ]
    }
   ],
   "source": [
    "print(df['gender'].unique())\n",
    "print(df['ever_married'].unique())\n",
    "print(df['work_type'].unique())\n",
    "print(df['Residence_type'].unique())\n",
    "print(df['smoking_status'].unique())"
   ]
  },
  {
   "cell_type": "markdown",
   "id": "4ec25330",
   "metadata": {},
   "source": [
    "# Handling missing values in `bmi` column\n",
    "\n",
    "Usiamo il SimpleImputer di sklearn"
   ]
  },
  {
   "cell_type": "code",
   "execution_count": 7,
   "id": "ff4f6280",
   "metadata": {},
   "outputs": [
    {
     "name": "stdout",
     "output_type": "stream",
     "text": [
      "Missing values before imputation: 201\n"
     ]
    }
   ],
   "source": [
    "print(\"Missing values before imputation:\", df['bmi'].isnull().sum())"
   ]
  },
  {
   "cell_type": "code",
   "execution_count": 8,
   "id": "d62360c4",
   "metadata": {},
   "outputs": [],
   "source": [
    "imputer = SimpleImputer(strategy='mean')\n",
    "\n",
    "# Fit the imputer on the 'bmi' column\n",
    "imputer.fit(df[['bmi']])\n",
    "\n",
    "# Transform the 'bmi' column by replacing missing values with the mean\n",
    "df['bmi'] = imputer.transform(df[['bmi']])"
   ]
  },
  {
   "cell_type": "code",
   "execution_count": 9,
   "id": "a03eaa34",
   "metadata": {},
   "outputs": [
    {
     "name": "stdout",
     "output_type": "stream",
     "text": [
      "Missing values after imputation: 0\n"
     ]
    }
   ],
   "source": [
    "print(\"Missing values after imputation:\", df['bmi'].isnull().sum())"
   ]
  },
  {
   "cell_type": "code",
   "execution_count": 10,
   "id": "1bcfb87f",
   "metadata": {},
   "outputs": [
    {
     "name": "stdout",
     "output_type": "stream",
     "text": [
      "      gender ever_married      work_type Residence_type   smoking_status\n",
      "0       Male          Yes        Private          Urban  formerly smoked\n",
      "1     Female          Yes  Self-employed          Rural     never smoked\n",
      "2       Male          Yes        Private          Rural     never smoked\n",
      "3     Female          Yes        Private          Urban           smokes\n",
      "4     Female          Yes  Self-employed          Rural     never smoked\n",
      "...      ...          ...            ...            ...              ...\n",
      "5105  Female          Yes        Private          Urban     never smoked\n",
      "5106  Female          Yes  Self-employed          Urban     never smoked\n",
      "5107  Female          Yes  Self-employed          Rural     never smoked\n",
      "5108    Male          Yes        Private          Rural  formerly smoked\n",
      "5109  Female          Yes       Govt_job          Urban          Unknown\n",
      "\n",
      "[5110 rows x 5 columns]\n",
      "Index(['gender', 'ever_married', 'work_type', 'Residence_type',\n",
      "       'smoking_status'],\n",
      "      dtype='object')\n",
      "['gender', 'ever_married', 'work_type', 'Residence_type', 'smoking_status']\n"
     ]
    }
   ],
   "source": [
    "print(df.select_dtypes(include=['object']))         # <- stampiamo il sottoinsieme del dataframe con tipo 'object'\n",
    "print(df.select_dtypes(include=['object']).columns) # <- stampiamo solo i nomi delle colonne di tipo 'object'\n",
    "categorical_cols = list(df.select_dtypes(include=['object']).columns)\n",
    "print(categorical_cols)\n",
    "\n",
    "\n"
   ]
  },
  {
   "cell_type": "code",
   "execution_count": 11,
   "id": "c1726026",
   "metadata": {},
   "outputs": [
    {
     "name": "stderr",
     "output_type": "stream",
     "text": [
      "/Users/giumast/miniforge3/envs/tensorflow/lib/python3.10/site-packages/sklearn/utils/deprecation.py:87: FutureWarning: Function get_feature_names is deprecated; get_feature_names is deprecated in 1.0 and will be removed in 1.2. Please use get_feature_names_out instead.\n",
      "  warnings.warn(msg, category=FutureWarning)\n"
     ]
    },
    {
     "data": {
      "text/html": [
       "<div>\n",
       "<style scoped>\n",
       "    .dataframe tbody tr th:only-of-type {\n",
       "        vertical-align: middle;\n",
       "    }\n",
       "\n",
       "    .dataframe tbody tr th {\n",
       "        vertical-align: top;\n",
       "    }\n",
       "\n",
       "    .dataframe thead th {\n",
       "        text-align: right;\n",
       "    }\n",
       "</style>\n",
       "<table border=\"1\" class=\"dataframe\">\n",
       "  <thead>\n",
       "    <tr style=\"text-align: right;\">\n",
       "      <th></th>\n",
       "      <th>gender_Female</th>\n",
       "      <th>gender_Male</th>\n",
       "      <th>gender_Other</th>\n",
       "      <th>ever_married_No</th>\n",
       "      <th>ever_married_Yes</th>\n",
       "      <th>work_type_Govt_job</th>\n",
       "      <th>work_type_Never_worked</th>\n",
       "      <th>work_type_Private</th>\n",
       "      <th>work_type_Self-employed</th>\n",
       "      <th>work_type_children</th>\n",
       "      <th>Residence_type_Rural</th>\n",
       "      <th>Residence_type_Urban</th>\n",
       "      <th>smoking_status_Unknown</th>\n",
       "      <th>smoking_status_formerly smoked</th>\n",
       "      <th>smoking_status_never smoked</th>\n",
       "      <th>smoking_status_smokes</th>\n",
       "    </tr>\n",
       "  </thead>\n",
       "  <tbody>\n",
       "    <tr>\n",
       "      <th>0</th>\n",
       "      <td>0.0</td>\n",
       "      <td>1.0</td>\n",
       "      <td>0.0</td>\n",
       "      <td>0.0</td>\n",
       "      <td>1.0</td>\n",
       "      <td>0.0</td>\n",
       "      <td>0.0</td>\n",
       "      <td>1.0</td>\n",
       "      <td>0.0</td>\n",
       "      <td>0.0</td>\n",
       "      <td>0.0</td>\n",
       "      <td>1.0</td>\n",
       "      <td>0.0</td>\n",
       "      <td>1.0</td>\n",
       "      <td>0.0</td>\n",
       "      <td>0.0</td>\n",
       "    </tr>\n",
       "    <tr>\n",
       "      <th>1</th>\n",
       "      <td>1.0</td>\n",
       "      <td>0.0</td>\n",
       "      <td>0.0</td>\n",
       "      <td>0.0</td>\n",
       "      <td>1.0</td>\n",
       "      <td>0.0</td>\n",
       "      <td>0.0</td>\n",
       "      <td>0.0</td>\n",
       "      <td>1.0</td>\n",
       "      <td>0.0</td>\n",
       "      <td>1.0</td>\n",
       "      <td>0.0</td>\n",
       "      <td>0.0</td>\n",
       "      <td>0.0</td>\n",
       "      <td>1.0</td>\n",
       "      <td>0.0</td>\n",
       "    </tr>\n",
       "    <tr>\n",
       "      <th>2</th>\n",
       "      <td>0.0</td>\n",
       "      <td>1.0</td>\n",
       "      <td>0.0</td>\n",
       "      <td>0.0</td>\n",
       "      <td>1.0</td>\n",
       "      <td>0.0</td>\n",
       "      <td>0.0</td>\n",
       "      <td>1.0</td>\n",
       "      <td>0.0</td>\n",
       "      <td>0.0</td>\n",
       "      <td>1.0</td>\n",
       "      <td>0.0</td>\n",
       "      <td>0.0</td>\n",
       "      <td>0.0</td>\n",
       "      <td>1.0</td>\n",
       "      <td>0.0</td>\n",
       "    </tr>\n",
       "    <tr>\n",
       "      <th>3</th>\n",
       "      <td>1.0</td>\n",
       "      <td>0.0</td>\n",
       "      <td>0.0</td>\n",
       "      <td>0.0</td>\n",
       "      <td>1.0</td>\n",
       "      <td>0.0</td>\n",
       "      <td>0.0</td>\n",
       "      <td>1.0</td>\n",
       "      <td>0.0</td>\n",
       "      <td>0.0</td>\n",
       "      <td>0.0</td>\n",
       "      <td>1.0</td>\n",
       "      <td>0.0</td>\n",
       "      <td>0.0</td>\n",
       "      <td>0.0</td>\n",
       "      <td>1.0</td>\n",
       "    </tr>\n",
       "    <tr>\n",
       "      <th>4</th>\n",
       "      <td>1.0</td>\n",
       "      <td>0.0</td>\n",
       "      <td>0.0</td>\n",
       "      <td>0.0</td>\n",
       "      <td>1.0</td>\n",
       "      <td>0.0</td>\n",
       "      <td>0.0</td>\n",
       "      <td>0.0</td>\n",
       "      <td>1.0</td>\n",
       "      <td>0.0</td>\n",
       "      <td>1.0</td>\n",
       "      <td>0.0</td>\n",
       "      <td>0.0</td>\n",
       "      <td>0.0</td>\n",
       "      <td>1.0</td>\n",
       "      <td>0.0</td>\n",
       "    </tr>\n",
       "    <tr>\n",
       "      <th>...</th>\n",
       "      <td>...</td>\n",
       "      <td>...</td>\n",
       "      <td>...</td>\n",
       "      <td>...</td>\n",
       "      <td>...</td>\n",
       "      <td>...</td>\n",
       "      <td>...</td>\n",
       "      <td>...</td>\n",
       "      <td>...</td>\n",
       "      <td>...</td>\n",
       "      <td>...</td>\n",
       "      <td>...</td>\n",
       "      <td>...</td>\n",
       "      <td>...</td>\n",
       "      <td>...</td>\n",
       "      <td>...</td>\n",
       "    </tr>\n",
       "    <tr>\n",
       "      <th>5105</th>\n",
       "      <td>1.0</td>\n",
       "      <td>0.0</td>\n",
       "      <td>0.0</td>\n",
       "      <td>0.0</td>\n",
       "      <td>1.0</td>\n",
       "      <td>0.0</td>\n",
       "      <td>0.0</td>\n",
       "      <td>1.0</td>\n",
       "      <td>0.0</td>\n",
       "      <td>0.0</td>\n",
       "      <td>0.0</td>\n",
       "      <td>1.0</td>\n",
       "      <td>0.0</td>\n",
       "      <td>0.0</td>\n",
       "      <td>1.0</td>\n",
       "      <td>0.0</td>\n",
       "    </tr>\n",
       "    <tr>\n",
       "      <th>5106</th>\n",
       "      <td>1.0</td>\n",
       "      <td>0.0</td>\n",
       "      <td>0.0</td>\n",
       "      <td>0.0</td>\n",
       "      <td>1.0</td>\n",
       "      <td>0.0</td>\n",
       "      <td>0.0</td>\n",
       "      <td>0.0</td>\n",
       "      <td>1.0</td>\n",
       "      <td>0.0</td>\n",
       "      <td>0.0</td>\n",
       "      <td>1.0</td>\n",
       "      <td>0.0</td>\n",
       "      <td>0.0</td>\n",
       "      <td>1.0</td>\n",
       "      <td>0.0</td>\n",
       "    </tr>\n",
       "    <tr>\n",
       "      <th>5107</th>\n",
       "      <td>1.0</td>\n",
       "      <td>0.0</td>\n",
       "      <td>0.0</td>\n",
       "      <td>0.0</td>\n",
       "      <td>1.0</td>\n",
       "      <td>0.0</td>\n",
       "      <td>0.0</td>\n",
       "      <td>0.0</td>\n",
       "      <td>1.0</td>\n",
       "      <td>0.0</td>\n",
       "      <td>1.0</td>\n",
       "      <td>0.0</td>\n",
       "      <td>0.0</td>\n",
       "      <td>0.0</td>\n",
       "      <td>1.0</td>\n",
       "      <td>0.0</td>\n",
       "    </tr>\n",
       "    <tr>\n",
       "      <th>5108</th>\n",
       "      <td>0.0</td>\n",
       "      <td>1.0</td>\n",
       "      <td>0.0</td>\n",
       "      <td>0.0</td>\n",
       "      <td>1.0</td>\n",
       "      <td>0.0</td>\n",
       "      <td>0.0</td>\n",
       "      <td>1.0</td>\n",
       "      <td>0.0</td>\n",
       "      <td>0.0</td>\n",
       "      <td>1.0</td>\n",
       "      <td>0.0</td>\n",
       "      <td>0.0</td>\n",
       "      <td>1.0</td>\n",
       "      <td>0.0</td>\n",
       "      <td>0.0</td>\n",
       "    </tr>\n",
       "    <tr>\n",
       "      <th>5109</th>\n",
       "      <td>1.0</td>\n",
       "      <td>0.0</td>\n",
       "      <td>0.0</td>\n",
       "      <td>0.0</td>\n",
       "      <td>1.0</td>\n",
       "      <td>1.0</td>\n",
       "      <td>0.0</td>\n",
       "      <td>0.0</td>\n",
       "      <td>0.0</td>\n",
       "      <td>0.0</td>\n",
       "      <td>0.0</td>\n",
       "      <td>1.0</td>\n",
       "      <td>1.0</td>\n",
       "      <td>0.0</td>\n",
       "      <td>0.0</td>\n",
       "      <td>0.0</td>\n",
       "    </tr>\n",
       "  </tbody>\n",
       "</table>\n",
       "<p>5110 rows × 16 columns</p>\n",
       "</div>"
      ],
      "text/plain": [
       "      gender_Female  gender_Male  gender_Other  ever_married_No  \\\n",
       "0               0.0          1.0           0.0              0.0   \n",
       "1               1.0          0.0           0.0              0.0   \n",
       "2               0.0          1.0           0.0              0.0   \n",
       "3               1.0          0.0           0.0              0.0   \n",
       "4               1.0          0.0           0.0              0.0   \n",
       "...             ...          ...           ...              ...   \n",
       "5105            1.0          0.0           0.0              0.0   \n",
       "5106            1.0          0.0           0.0              0.0   \n",
       "5107            1.0          0.0           0.0              0.0   \n",
       "5108            0.0          1.0           0.0              0.0   \n",
       "5109            1.0          0.0           0.0              0.0   \n",
       "\n",
       "      ever_married_Yes  work_type_Govt_job  work_type_Never_worked  \\\n",
       "0                  1.0                 0.0                     0.0   \n",
       "1                  1.0                 0.0                     0.0   \n",
       "2                  1.0                 0.0                     0.0   \n",
       "3                  1.0                 0.0                     0.0   \n",
       "4                  1.0                 0.0                     0.0   \n",
       "...                ...                 ...                     ...   \n",
       "5105               1.0                 0.0                     0.0   \n",
       "5106               1.0                 0.0                     0.0   \n",
       "5107               1.0                 0.0                     0.0   \n",
       "5108               1.0                 0.0                     0.0   \n",
       "5109               1.0                 1.0                     0.0   \n",
       "\n",
       "      work_type_Private  work_type_Self-employed  work_type_children  \\\n",
       "0                   1.0                      0.0                 0.0   \n",
       "1                   0.0                      1.0                 0.0   \n",
       "2                   1.0                      0.0                 0.0   \n",
       "3                   1.0                      0.0                 0.0   \n",
       "4                   0.0                      1.0                 0.0   \n",
       "...                 ...                      ...                 ...   \n",
       "5105                1.0                      0.0                 0.0   \n",
       "5106                0.0                      1.0                 0.0   \n",
       "5107                0.0                      1.0                 0.0   \n",
       "5108                1.0                      0.0                 0.0   \n",
       "5109                0.0                      0.0                 0.0   \n",
       "\n",
       "      Residence_type_Rural  Residence_type_Urban  smoking_status_Unknown  \\\n",
       "0                      0.0                   1.0                     0.0   \n",
       "1                      1.0                   0.0                     0.0   \n",
       "2                      1.0                   0.0                     0.0   \n",
       "3                      0.0                   1.0                     0.0   \n",
       "4                      1.0                   0.0                     0.0   \n",
       "...                    ...                   ...                     ...   \n",
       "5105                   0.0                   1.0                     0.0   \n",
       "5106                   0.0                   1.0                     0.0   \n",
       "5107                   1.0                   0.0                     0.0   \n",
       "5108                   1.0                   0.0                     0.0   \n",
       "5109                   0.0                   1.0                     1.0   \n",
       "\n",
       "      smoking_status_formerly smoked  smoking_status_never smoked  \\\n",
       "0                                1.0                          0.0   \n",
       "1                                0.0                          1.0   \n",
       "2                                0.0                          1.0   \n",
       "3                                0.0                          0.0   \n",
       "4                                0.0                          1.0   \n",
       "...                              ...                          ...   \n",
       "5105                             0.0                          1.0   \n",
       "5106                             0.0                          1.0   \n",
       "5107                             0.0                          1.0   \n",
       "5108                             1.0                          0.0   \n",
       "5109                             0.0                          0.0   \n",
       "\n",
       "      smoking_status_smokes  \n",
       "0                       0.0  \n",
       "1                       0.0  \n",
       "2                       0.0  \n",
       "3                       1.0  \n",
       "4                       0.0  \n",
       "...                     ...  \n",
       "5105                    0.0  \n",
       "5106                    0.0  \n",
       "5107                    0.0  \n",
       "5108                    0.0  \n",
       "5109                    0.0  \n",
       "\n",
       "[5110 rows x 16 columns]"
      ]
     },
     "execution_count": 11,
     "metadata": {},
     "output_type": "execute_result"
    }
   ],
   "source": [
    "encoder = OneHotEncoder(handle_unknown='ignore')\n",
    "\n",
    "encoded_cols = pd.DataFrame(\n",
    "    encoder.fit_transform(df[categorical_cols]).toarray(), \n",
    "    columns=encoder.get_feature_names(categorical_cols)\n",
    ")\n",
    "\n",
    "encoded_cols"
   ]
  },
  {
   "cell_type": "code",
   "execution_count": 12,
   "id": "b32c6415",
   "metadata": {},
   "outputs": [],
   "source": [
    "df_encoded = pd.concat(\n",
    "    [df, encoded_cols], \n",
    "    axis=1\n",
    ")\n",
    "df_encoded.drop(categorical_cols, axis=1, inplace=True)\n",
    "\n",
    "df = df_encoded.copy()"
   ]
  },
  {
   "cell_type": "code",
   "execution_count": 13,
   "id": "9a8918ee",
   "metadata": {},
   "outputs": [
    {
     "data": {
      "text/plain": [
       "age                                67.00\n",
       "hypertension                        0.00\n",
       "heart_disease                       1.00\n",
       "avg_glucose_level                 228.69\n",
       "bmi                                36.60\n",
       "stroke                              1.00\n",
       "gender_Female                       0.00\n",
       "gender_Male                         1.00\n",
       "gender_Other                        0.00\n",
       "ever_married_No                     0.00\n",
       "ever_married_Yes                    1.00\n",
       "work_type_Govt_job                  0.00\n",
       "work_type_Never_worked              0.00\n",
       "work_type_Private                   1.00\n",
       "work_type_Self-employed             0.00\n",
       "work_type_children                  0.00\n",
       "Residence_type_Rural                0.00\n",
       "Residence_type_Urban                1.00\n",
       "smoking_status_Unknown              0.00\n",
       "smoking_status_formerly smoked      1.00\n",
       "smoking_status_never smoked         0.00\n",
       "smoking_status_smokes               0.00\n",
       "Name: 0, dtype: float64"
      ]
     },
     "execution_count": 13,
     "metadata": {},
     "output_type": "execute_result"
    }
   ],
   "source": [
    "df_encoded.iloc[0, :]"
   ]
  },
  {
   "cell_type": "code",
   "execution_count": 14,
   "id": "43e2b792",
   "metadata": {},
   "outputs": [
    {
     "name": "stdout",
     "output_type": "stream",
     "text": [
      "<class 'pandas.core.frame.DataFrame'>\n",
      "RangeIndex: 5110 entries, 0 to 5109\n",
      "Data columns (total 22 columns):\n",
      " #   Column                          Non-Null Count  Dtype  \n",
      "---  ------                          --------------  -----  \n",
      " 0   age                             5110 non-null   float64\n",
      " 1   hypertension                    5110 non-null   int64  \n",
      " 2   heart_disease                   5110 non-null   int64  \n",
      " 3   avg_glucose_level               5110 non-null   float64\n",
      " 4   bmi                             5110 non-null   float64\n",
      " 5   stroke                          5110 non-null   int64  \n",
      " 6   gender_Female                   5110 non-null   float64\n",
      " 7   gender_Male                     5110 non-null   float64\n",
      " 8   gender_Other                    5110 non-null   float64\n",
      " 9   ever_married_No                 5110 non-null   float64\n",
      " 10  ever_married_Yes                5110 non-null   float64\n",
      " 11  work_type_Govt_job              5110 non-null   float64\n",
      " 12  work_type_Never_worked          5110 non-null   float64\n",
      " 13  work_type_Private               5110 non-null   float64\n",
      " 14  work_type_Self-employed         5110 non-null   float64\n",
      " 15  work_type_children              5110 non-null   float64\n",
      " 16  Residence_type_Rural            5110 non-null   float64\n",
      " 17  Residence_type_Urban            5110 non-null   float64\n",
      " 18  smoking_status_Unknown          5110 non-null   float64\n",
      " 19  smoking_status_formerly smoked  5110 non-null   float64\n",
      " 20  smoking_status_never smoked     5110 non-null   float64\n",
      " 21  smoking_status_smokes           5110 non-null   float64\n",
      "dtypes: float64(19), int64(3)\n",
      "memory usage: 878.4 KB\n"
     ]
    }
   ],
   "source": [
    "df.info()"
   ]
  },
  {
   "cell_type": "code",
   "execution_count": 15,
   "id": "aecc4b9b",
   "metadata": {},
   "outputs": [
    {
     "name": "stdout",
     "output_type": "stream",
     "text": [
      "['age', 'avg_glucose_level', 'bmi']\n"
     ]
    },
    {
     "data": {
      "image/png": "[encoded data removed]",
      "text/plain": [
       "<Figure size 432x288 with 1 Axes>"
      ]
     },
     "metadata": {
      "needs_background": "light"
     },
     "output_type": "display_data"
    }
   ],
   "source": [
    "float_columns = ['age', 'avg_glucose_level', 'bmi']\n",
    "\n",
    "print(float_columns)\n",
    "\n",
    "sns.boxplot(data = df[float_columns], orient = \"h\")\n",
    "plt.show()"
   ]
  },
  {
   "cell_type": "code",
   "execution_count": 16,
   "id": "b4e4edd6",
   "metadata": {},
   "outputs": [
    {
     "data": {
      "text/plain": [
       "<AxesSubplot:ylabel='Density'>"
      ]
     },
     "execution_count": 16,
     "metadata": {},
     "output_type": "execute_result"
    },
    {
     "data": {
      "image/png": "[encoded data removed]",
      "text/plain": [
       "<Figure size 432x288 with 1 Axes>"
      ]
     },
     "metadata": {
      "needs_background": "light"
     },
     "output_type": "display_data"
    }
   ],
   "source": [
    "df['age'].plot(kind='kde')"
   ]
  },
  {
   "cell_type": "code",
   "execution_count": 17,
   "id": "87ab97ad",
   "metadata": {},
   "outputs": [
    {
     "data": {
      "text/plain": [
       "<AxesSubplot:ylabel='Density'>"
      ]
     },
     "execution_count": 17,
     "metadata": {},
     "output_type": "execute_result"
    },
    {
     "data": {
      "image/png": "[encoded data removed]",
      "text/plain": [
       "<Figure size 432x288 with 1 Axes>"
      ]
     },
     "metadata": {
      "needs_background": "light"
     },
     "output_type": "display_data"
    }
   ],
   "source": [
    "df['avg_glucose_level'].plot(kind='kde')"
   ]
  },
  {
   "cell_type": "code",
   "execution_count": 18,
   "id": "c48e4fb0",
   "metadata": {},
   "outputs": [
    {
     "data": {
      "text/plain": [
       "<AxesSubplot:ylabel='Density'>"
      ]
     },
     "execution_count": 18,
     "metadata": {},
     "output_type": "execute_result"
    },
    {
     "data": {
      "image/png": "[encoded data removed]",
      "text/plain": [
       "<Figure size 432x288 with 1 Axes>"
      ]
     },
     "metadata": {
      "needs_background": "light"
     },
     "output_type": "display_data"
    }
   ],
   "source": [
    "df['bmi'].plot(kind='kde')"
   ]
  },
  {
   "cell_type": "code",
   "execution_count": 19,
   "id": "73549b6c",
   "metadata": {},
   "outputs": [
    {
     "data": {
      "text/html": [
       "<div>\n",
       "<style scoped>\n",
       "    .dataframe tbody tr th:only-of-type {\n",
       "        vertical-align: middle;\n",
       "    }\n",
       "\n",
       "    .dataframe tbody tr th {\n",
       "        vertical-align: top;\n",
       "    }\n",
       "\n",
       "    .dataframe thead th {\n",
       "        text-align: right;\n",
       "    }\n",
       "</style>\n",
       "<table border=\"1\" class=\"dataframe\">\n",
       "  <thead>\n",
       "    <tr style=\"text-align: right;\">\n",
       "      <th></th>\n",
       "      <th>age</th>\n",
       "      <th>hypertension</th>\n",
       "      <th>heart_disease</th>\n",
       "      <th>avg_glucose_level</th>\n",
       "      <th>bmi</th>\n",
       "      <th>stroke</th>\n",
       "      <th>gender_Female</th>\n",
       "      <th>gender_Male</th>\n",
       "      <th>gender_Other</th>\n",
       "      <th>ever_married_No</th>\n",
       "      <th>...</th>\n",
       "      <th>work_type_Never_worked</th>\n",
       "      <th>work_type_Private</th>\n",
       "      <th>work_type_Self-employed</th>\n",
       "      <th>work_type_children</th>\n",
       "      <th>Residence_type_Rural</th>\n",
       "      <th>Residence_type_Urban</th>\n",
       "      <th>smoking_status_Unknown</th>\n",
       "      <th>smoking_status_formerly smoked</th>\n",
       "      <th>smoking_status_never smoked</th>\n",
       "      <th>smoking_status_smokes</th>\n",
       "    </tr>\n",
       "  </thead>\n",
       "  <tbody>\n",
       "    <tr>\n",
       "      <th>0</th>\n",
       "      <td>67.0</td>\n",
       "      <td>0</td>\n",
       "      <td>1</td>\n",
       "      <td>228.69</td>\n",
       "      <td>36.600000</td>\n",
       "      <td>1</td>\n",
       "      <td>0.0</td>\n",
       "      <td>1.0</td>\n",
       "      <td>0.0</td>\n",
       "      <td>0.0</td>\n",
       "      <td>...</td>\n",
       "      <td>0.0</td>\n",
       "      <td>1.0</td>\n",
       "      <td>0.0</td>\n",
       "      <td>0.0</td>\n",
       "      <td>0.0</td>\n",
       "      <td>1.0</td>\n",
       "      <td>0.0</td>\n",
       "      <td>1.0</td>\n",
       "      <td>0.0</td>\n",
       "      <td>0.0</td>\n",
       "    </tr>\n",
       "    <tr>\n",
       "      <th>1</th>\n",
       "      <td>61.0</td>\n",
       "      <td>0</td>\n",
       "      <td>0</td>\n",
       "      <td>202.21</td>\n",
       "      <td>28.893237</td>\n",
       "      <td>1</td>\n",
       "      <td>1.0</td>\n",
       "      <td>0.0</td>\n",
       "      <td>0.0</td>\n",
       "      <td>0.0</td>\n",
       "      <td>...</td>\n",
       "      <td>0.0</td>\n",
       "      <td>0.0</td>\n",
       "      <td>1.0</td>\n",
       "      <td>0.0</td>\n",
       "      <td>1.0</td>\n",
       "      <td>0.0</td>\n",
       "      <td>0.0</td>\n",
       "      <td>0.0</td>\n",
       "      <td>1.0</td>\n",
       "      <td>0.0</td>\n",
       "    </tr>\n",
       "    <tr>\n",
       "      <th>2</th>\n",
       "      <td>80.0</td>\n",
       "      <td>0</td>\n",
       "      <td>1</td>\n",
       "      <td>105.92</td>\n",
       "      <td>32.500000</td>\n",
       "      <td>1</td>\n",
       "      <td>0.0</td>\n",
       "      <td>1.0</td>\n",
       "      <td>0.0</td>\n",
       "      <td>0.0</td>\n",
       "      <td>...</td>\n",
       "      <td>0.0</td>\n",
       "      <td>1.0</td>\n",
       "      <td>0.0</td>\n",
       "      <td>0.0</td>\n",
       "      <td>1.0</td>\n",
       "      <td>0.0</td>\n",
       "      <td>0.0</td>\n",
       "      <td>0.0</td>\n",
       "      <td>1.0</td>\n",
       "      <td>0.0</td>\n",
       "    </tr>\n",
       "    <tr>\n",
       "      <th>3</th>\n",
       "      <td>49.0</td>\n",
       "      <td>0</td>\n",
       "      <td>0</td>\n",
       "      <td>171.23</td>\n",
       "      <td>34.400000</td>\n",
       "      <td>1</td>\n",
       "      <td>1.0</td>\n",
       "      <td>0.0</td>\n",
       "      <td>0.0</td>\n",
       "      <td>0.0</td>\n",
       "      <td>...</td>\n",
       "      <td>0.0</td>\n",
       "      <td>1.0</td>\n",
       "      <td>0.0</td>\n",
       "      <td>0.0</td>\n",
       "      <td>0.0</td>\n",
       "      <td>1.0</td>\n",
       "      <td>0.0</td>\n",
       "      <td>0.0</td>\n",
       "      <td>0.0</td>\n",
       "      <td>1.0</td>\n",
       "    </tr>\n",
       "    <tr>\n",
       "      <th>4</th>\n",
       "      <td>79.0</td>\n",
       "      <td>1</td>\n",
       "      <td>0</td>\n",
       "      <td>174.12</td>\n",
       "      <td>24.000000</td>\n",
       "      <td>1</td>\n",
       "      <td>1.0</td>\n",
       "      <td>0.0</td>\n",
       "      <td>0.0</td>\n",
       "      <td>0.0</td>\n",
       "      <td>...</td>\n",
       "      <td>0.0</td>\n",
       "      <td>0.0</td>\n",
       "      <td>1.0</td>\n",
       "      <td>0.0</td>\n",
       "      <td>1.0</td>\n",
       "      <td>0.0</td>\n",
       "      <td>0.0</td>\n",
       "      <td>0.0</td>\n",
       "      <td>1.0</td>\n",
       "      <td>0.0</td>\n",
       "    </tr>\n",
       "  </tbody>\n",
       "</table>\n",
       "<p>5 rows × 22 columns</p>\n",
       "</div>"
      ],
      "text/plain": [
       "    age  hypertension  heart_disease  avg_glucose_level        bmi  stroke  \\\n",
       "0  67.0             0              1             228.69  36.600000       1   \n",
       "1  61.0             0              0             202.21  28.893237       1   \n",
       "2  80.0             0              1             105.92  32.500000       1   \n",
       "3  49.0             0              0             171.23  34.400000       1   \n",
       "4  79.0             1              0             174.12  24.000000       1   \n",
       "\n",
       "   gender_Female  gender_Male  gender_Other  ever_married_No  ...  \\\n",
       "0            0.0          1.0           0.0              0.0  ...   \n",
       "1            1.0          0.0           0.0              0.0  ...   \n",
       "2            0.0          1.0           0.0              0.0  ...   \n",
       "3            1.0          0.0           0.0              0.0  ...   \n",
       "4            1.0          0.0           0.0              0.0  ...   \n",
       "\n",
       "   work_type_Never_worked  work_type_Private  work_type_Self-employed  \\\n",
       "0                     0.0                1.0                      0.0   \n",
       "1                     0.0                0.0                      1.0   \n",
       "2                     0.0                1.0                      0.0   \n",
       "3                     0.0                1.0                      0.0   \n",
       "4                     0.0                0.0                      1.0   \n",
       "\n",
       "   work_type_children  Residence_type_Rural  Residence_type_Urban  \\\n",
       "0                 0.0                   0.0                   1.0   \n",
       "1                 0.0                   1.0                   0.0   \n",
       "2                 0.0                   1.0                   0.0   \n",
       "3                 0.0                   0.0                   1.0   \n",
       "4                 0.0                   1.0                   0.0   \n",
       "\n",
       "   smoking_status_Unknown  smoking_status_formerly smoked  \\\n",
       "0                     0.0                             1.0   \n",
       "1                     0.0                             0.0   \n",
       "2                     0.0                             0.0   \n",
       "3                     0.0                             0.0   \n",
       "4                     0.0                             0.0   \n",
       "\n",
       "   smoking_status_never smoked  smoking_status_smokes  \n",
       "0                          0.0                    0.0  \n",
       "1                          1.0                    0.0  \n",
       "2                          1.0                    0.0  \n",
       "3                          0.0                    1.0  \n",
       "4                          1.0                    0.0  \n",
       "\n",
       "[5 rows x 22 columns]"
      ]
     },
     "execution_count": 19,
     "metadata": {},
     "output_type": "execute_result"
    }
   ],
   "source": [
    "scaler = StandardScaler()\n",
    "\n",
    "# Fit and transform the selected numerical columns\n",
    "df_encoded[float_columns] = scaler.fit_transform(df_encoded[float_columns])\n",
    "\n",
    "# Print the updated DataFrame\n",
    "df.head()"
   ]
  },
  {
   "cell_type": "code",
   "execution_count": 20,
   "id": "2f952ae4",
   "metadata": {},
   "outputs": [
    {
     "name": "stdout",
     "output_type": "stream",
     "text": [
      "['age', 'avg_glucose_level', 'bmi']\n"
     ]
    },
    {
     "data": {
      "image/png": "[encoded data removed]",
      "text/plain": [
       "<Figure size 432x288 with 1 Axes>"
      ]
     },
     "metadata": {
      "needs_background": "light"
     },
     "output_type": "display_data"
    }
   ],
   "source": [
    "print(float_columns)\n",
    "\n",
    "sns.boxplot(data = df_encoded[float_columns], orient = \"h\")\n",
    "plt.show()"
   ]
  },
  {
   "cell_type": "markdown",
   "id": "65de2829",
   "metadata": {},
   "source": [
    "## Gestire gli outlier con IQR\n",
    "\n",
    "Un approccio consiste nell'utilizzare percentili, come l'intervallo interquartile (IQR), per identificare i valori anomali. Le osservazioni che scendono al di sotto del quartile inferiore meno una certa soglia o al di sopra del quartile superiore più una certa soglia possono essere considerate valori anomali.\n",
    "\n"
   ]
  },
  {
   "cell_type": "code",
   "execution_count": 21,
   "id": "6e68427e",
   "metadata": {},
   "outputs": [
    {
     "name": "stdout",
     "output_type": "stream",
     "text": [
      "age -> -3.194393101644997, 3.1743479772447083\n",
      "avg_glucose_level -> -1.858917758723901, 1.3960035056466606\n",
      "bmi -> -2.461034925572104, 2.163984745475581\n"
     ]
    },
    {
     "data": {
      "text/plain": [
       "(4383, 22)"
      ]
     },
     "execution_count": 21,
     "metadata": {},
     "output_type": "execute_result"
    }
   ],
   "source": [
    "outlier_threshold = 1.5\n",
    "\n",
    "for col in float_columns:\n",
    "    # Calculate the IQR\n",
    "    Q1 = df_encoded[col].quantile(0.25)\n",
    "    Q3 = df_encoded[col].quantile(0.75)\n",
    "    IQR = Q3 - Q1\n",
    "    \n",
    "    # Define the upper and lower bounds for outliers\n",
    "    lower_bound = Q1 - outlier_threshold * IQR\n",
    "    upper_bound = Q3 + outlier_threshold * IQR\n",
    "    \n",
    "    print(f\"{col} -> {lower_bound}, {upper_bound}\")\n",
    "    \n",
    "    # remove outliers\n",
    "    df_encoded = df_encoded[(df_encoded[col] >= lower_bound) & (df_encoded[col] <= upper_bound)]\n",
    "\n",
    "\n",
    "# Print the updated DataFrame\n",
    "df_encoded.shape"
   ]
  },
  {
   "cell_type": "code",
   "execution_count": 22,
   "id": "06441337",
   "metadata": {},
   "outputs": [
    {
     "name": "stdout",
     "output_type": "stream",
     "text": [
      "['age', 'avg_glucose_level', 'bmi']\n"
     ]
    },
    {
     "data": {
      "image/png": "[encoded data removed]",
      "text/plain": [
       "<Figure size 432x288 with 1 Axes>"
      ]
     },
     "metadata": {
      "needs_background": "light"
     },
     "output_type": "display_data"
    }
   ],
   "source": [
    "print(float_columns)\n",
    "\n",
    "sns.boxplot(data = df_encoded[float_columns], orient = \"h\")\n",
    "plt.show()"
   ]
  },
  {
   "cell_type": "code",
   "execution_count": 23,
   "id": "f29a9751",
   "metadata": {},
   "outputs": [
    {
     "data": {
      "text/plain": [
       "array([[<AxesSubplot:xlabel='age', ylabel='age'>,\n",
       "        <AxesSubplot:xlabel='avg_glucose_level', ylabel='age'>,\n",
       "        <AxesSubplot:xlabel='bmi', ylabel='age'>],\n",
       "       [<AxesSubplot:xlabel='age', ylabel='avg_glucose_level'>,\n",
       "        <AxesSubplot:xlabel='avg_glucose_level', ylabel='avg_glucose_level'>,\n",
       "        <AxesSubplot:xlabel='bmi', ylabel='avg_glucose_level'>],\n",
       "       [<AxesSubplot:xlabel='age', ylabel='bmi'>,\n",
       "        <AxesSubplot:xlabel='avg_glucose_level', ylabel='bmi'>,\n",
       "        <AxesSubplot:xlabel='bmi', ylabel='bmi'>]], dtype=object)"
      ]
     },
     "execution_count": 23,
     "metadata": {},
     "output_type": "execute_result"
    },
    {
     "data": {
      "image/png": "[encoded data removed]",
      "text/plain": [
       "<Figure size 432x288 with 9 Axes>"
      ]
     },
     "metadata": {
      "needs_background": "light"
     },
     "output_type": "display_data"
    }
   ],
   "source": [
    "pd.plotting.scatter_matrix(df_encoded[float_columns], alpha=0.2)"
   ]
  },
  {
   "cell_type": "code",
   "execution_count": 24,
   "id": "074164ba",
   "metadata": {},
   "outputs": [
    {
     "name": "stdout",
     "output_type": "stream",
     "text": [
      "stroke\n",
      "0    4219\n",
      "1     164\n",
      "dtype: int64\n"
     ]
    },
    {
     "data": {
      "text/plain": [
       "<AxesSubplot:title={'center':'Distribuzione'}, xlabel='stroke'>"
      ]
     },
     "execution_count": 24,
     "metadata": {},
     "output_type": "execute_result"
    },
    {
     "data": {
      "image/png": "[encoded data removed]",
      "text/plain": [
       "<Figure size 432x288 with 1 Axes>"
      ]
     },
     "metadata": {
      "needs_background": "light"
     },
     "output_type": "display_data"
    }
   ],
   "source": [
    "y_fieldname = \"stroke\"\n",
    "\n",
    "print(df_encoded.pivot_table(index=y_fieldname, aggfunc=\"size\"))\n",
    "df_encoded.pivot_table(index=y_fieldname, aggfunc=\"size\").plot(kind='bar', title=\"Distribuzione\")"
   ]
  },
  {
   "cell_type": "code",
   "execution_count": 25,
   "id": "34931ca0",
   "metadata": {},
   "outputs": [
    {
     "name": "stdout",
     "output_type": "stream",
     "text": [
      "(3287, 22)\n",
      "(1096, 22)\n"
     ]
    }
   ],
   "source": [
    "X_train, X_test, y_train, y_test = train_test_split(\n",
    "    df_encoded, \n",
    "    df_encoded[y_fieldname], \n",
    "    stratify=df_encoded[y_fieldname], \n",
    "    random_state=42\n",
    ")\n",
    "X_train.drop([y_fieldname], axis=1)\n",
    "X_test.drop([y_fieldname], axis=1)\n",
    "\n",
    "\n",
    "print(X_train.shape)\n",
    "print(X_test.shape)\n"
   ]
  },
  {
   "cell_type": "code",
   "execution_count": 26,
   "id": "f29c3c2a",
   "metadata": {},
   "outputs": [
    {
     "data": {
      "text/plain": [
       "<AxesSubplot:title={'center':'Distribuzione'}, xlabel='stroke'>"
      ]
     },
     "execution_count": 26,
     "metadata": {},
     "output_type": "execute_result"
    },
    {
     "data": {
      "image/png": "[encoded data removed]",
      "text/plain": [
       "<Figure size 432x288 with 1 Axes>"
      ]
     },
     "metadata": {
      "needs_background": "light"
     },
     "output_type": "display_data"
    }
   ],
   "source": [
    "X_train.pivot_table(index=y_fieldname, aggfunc=\"size\").plot(kind='bar', title=\"Distribuzione\")"
   ]
  },
  {
   "cell_type": "code",
   "execution_count": 27,
   "id": "d02a5522",
   "metadata": {},
   "outputs": [
    {
     "data": {
      "text/plain": [
       "<AxesSubplot:title={'center':'Distribuzione'}, xlabel='stroke'>"
      ]
     },
     "execution_count": 27,
     "metadata": {},
     "output_type": "execute_result"
    },
    {
     "data": {
      "image/png": "[encoded data removed]",
      "text/plain": [
       "<Figure size 432x288 with 1 Axes>"
      ]
     },
     "metadata": {
      "needs_background": "light"
     },
     "output_type": "display_data"
    }
   ],
   "source": [
    "X_test.pivot_table(index=y_fieldname, aggfunc=\"size\").plot(kind='bar', title=\"Distribuzione\")"
   ]
  },
  {
   "cell_type": "code",
   "execution_count": 28,
   "id": "2eb9f51b",
   "metadata": {},
   "outputs": [
    {
     "data": {
      "text/html": [
       "<div>\n",
       "<style scoped>\n",
       "    .dataframe tbody tr th:only-of-type {\n",
       "        vertical-align: middle;\n",
       "    }\n",
       "\n",
       "    .dataframe tbody tr th {\n",
       "        vertical-align: top;\n",
       "    }\n",
       "\n",
       "    .dataframe thead th {\n",
       "        text-align: right;\n",
       "    }\n",
       "</style>\n",
       "<table border=\"1\" class=\"dataframe\">\n",
       "  <thead>\n",
       "    <tr style=\"text-align: right;\">\n",
       "      <th></th>\n",
       "      <th>age</th>\n",
       "      <th>hypertension</th>\n",
       "      <th>heart_disease</th>\n",
       "      <th>avg_glucose_level</th>\n",
       "      <th>bmi</th>\n",
       "      <th>gender_Female</th>\n",
       "      <th>gender_Male</th>\n",
       "      <th>gender_Other</th>\n",
       "      <th>ever_married_No</th>\n",
       "      <th>ever_married_Yes</th>\n",
       "      <th>...</th>\n",
       "      <th>work_type_Never_worked</th>\n",
       "      <th>work_type_Private</th>\n",
       "      <th>work_type_Self-employed</th>\n",
       "      <th>work_type_children</th>\n",
       "      <th>Residence_type_Rural</th>\n",
       "      <th>Residence_type_Urban</th>\n",
       "      <th>smoking_status_Unknown</th>\n",
       "      <th>smoking_status_formerly smoked</th>\n",
       "      <th>smoking_status_never smoked</th>\n",
       "      <th>smoking_status_smokes</th>\n",
       "    </tr>\n",
       "  </thead>\n",
       "  <tbody>\n",
       "    <tr>\n",
       "      <th>1490</th>\n",
       "      <td>0.255342</td>\n",
       "      <td>1</td>\n",
       "      <td>0</td>\n",
       "      <td>0.038921</td>\n",
       "      <td>-5.057949e-01</td>\n",
       "      <td>1.0</td>\n",
       "      <td>0.0</td>\n",
       "      <td>0.0</td>\n",
       "      <td>0.0</td>\n",
       "      <td>1.0</td>\n",
       "      <td>...</td>\n",
       "      <td>0.0</td>\n",
       "      <td>0.0</td>\n",
       "      <td>0.0</td>\n",
       "      <td>0.0</td>\n",
       "      <td>1.0</td>\n",
       "      <td>0.0</td>\n",
       "      <td>1.0</td>\n",
       "      <td>0.0</td>\n",
       "      <td>0.0</td>\n",
       "      <td>0.0</td>\n",
       "    </tr>\n",
       "    <tr>\n",
       "      <th>3214</th>\n",
       "      <td>-0.540751</td>\n",
       "      <td>0</td>\n",
       "      <td>0</td>\n",
       "      <td>-0.417801</td>\n",
       "      <td>4.615554e-16</td>\n",
       "      <td>1.0</td>\n",
       "      <td>0.0</td>\n",
       "      <td>0.0</td>\n",
       "      <td>0.0</td>\n",
       "      <td>1.0</td>\n",
       "      <td>...</td>\n",
       "      <td>0.0</td>\n",
       "      <td>0.0</td>\n",
       "      <td>1.0</td>\n",
       "      <td>0.0</td>\n",
       "      <td>0.0</td>\n",
       "      <td>1.0</td>\n",
       "      <td>0.0</td>\n",
       "      <td>1.0</td>\n",
       "      <td>0.0</td>\n",
       "      <td>0.0</td>\n",
       "    </tr>\n",
       "    <tr>\n",
       "      <th>553</th>\n",
       "      <td>0.520706</td>\n",
       "      <td>0</td>\n",
       "      <td>0</td>\n",
       "      <td>-0.661401</td>\n",
       "      <td>-1.290376e-01</td>\n",
       "      <td>1.0</td>\n",
       "      <td>0.0</td>\n",
       "      <td>0.0</td>\n",
       "      <td>0.0</td>\n",
       "      <td>1.0</td>\n",
       "      <td>...</td>\n",
       "      <td>0.0</td>\n",
       "      <td>0.0</td>\n",
       "      <td>1.0</td>\n",
       "      <td>0.0</td>\n",
       "      <td>1.0</td>\n",
       "      <td>0.0</td>\n",
       "      <td>0.0</td>\n",
       "      <td>0.0</td>\n",
       "      <td>1.0</td>\n",
       "      <td>0.0</td>\n",
       "    </tr>\n",
       "    <tr>\n",
       "      <th>4900</th>\n",
       "      <td>-1.602208</td>\n",
       "      <td>0</td>\n",
       "      <td>0</td>\n",
       "      <td>-0.641083</td>\n",
       "      <td>-1.337259e+00</td>\n",
       "      <td>0.0</td>\n",
       "      <td>1.0</td>\n",
       "      <td>0.0</td>\n",
       "      <td>1.0</td>\n",
       "      <td>0.0</td>\n",
       "      <td>...</td>\n",
       "      <td>0.0</td>\n",
       "      <td>0.0</td>\n",
       "      <td>0.0</td>\n",
       "      <td>1.0</td>\n",
       "      <td>0.0</td>\n",
       "      <td>1.0</td>\n",
       "      <td>1.0</td>\n",
       "      <td>0.0</td>\n",
       "      <td>0.0</td>\n",
       "      <td>0.0</td>\n",
       "    </tr>\n",
       "    <tr>\n",
       "      <th>3539</th>\n",
       "      <td>-1.425298</td>\n",
       "      <td>0</td>\n",
       "      <td>0</td>\n",
       "      <td>-0.828807</td>\n",
       "      <td>-1.389226e+00</td>\n",
       "      <td>0.0</td>\n",
       "      <td>1.0</td>\n",
       "      <td>0.0</td>\n",
       "      <td>1.0</td>\n",
       "      <td>0.0</td>\n",
       "      <td>...</td>\n",
       "      <td>0.0</td>\n",
       "      <td>0.0</td>\n",
       "      <td>0.0</td>\n",
       "      <td>1.0</td>\n",
       "      <td>1.0</td>\n",
       "      <td>0.0</td>\n",
       "      <td>1.0</td>\n",
       "      <td>0.0</td>\n",
       "      <td>0.0</td>\n",
       "      <td>0.0</td>\n",
       "    </tr>\n",
       "    <tr>\n",
       "      <th>...</th>\n",
       "      <td>...</td>\n",
       "      <td>...</td>\n",
       "      <td>...</td>\n",
       "      <td>...</td>\n",
       "      <td>...</td>\n",
       "      <td>...</td>\n",
       "      <td>...</td>\n",
       "      <td>...</td>\n",
       "      <td>...</td>\n",
       "      <td>...</td>\n",
       "      <td>...</td>\n",
       "      <td>...</td>\n",
       "      <td>...</td>\n",
       "      <td>...</td>\n",
       "      <td>...</td>\n",
       "      <td>...</td>\n",
       "      <td>...</td>\n",
       "      <td>...</td>\n",
       "      <td>...</td>\n",
       "      <td>...</td>\n",
       "      <td>...</td>\n",
       "    </tr>\n",
       "    <tr>\n",
       "      <th>56</th>\n",
       "      <td>1.714845</td>\n",
       "      <td>0</td>\n",
       "      <td>0</td>\n",
       "      <td>-1.034200</td>\n",
       "      <td>5.595187e-01</td>\n",
       "      <td>1.0</td>\n",
       "      <td>0.0</td>\n",
       "      <td>0.0</td>\n",
       "      <td>0.0</td>\n",
       "      <td>1.0</td>\n",
       "      <td>...</td>\n",
       "      <td>0.0</td>\n",
       "      <td>1.0</td>\n",
       "      <td>0.0</td>\n",
       "      <td>0.0</td>\n",
       "      <td>1.0</td>\n",
       "      <td>0.0</td>\n",
       "      <td>0.0</td>\n",
       "      <td>0.0</td>\n",
       "      <td>1.0</td>\n",
       "      <td>0.0</td>\n",
       "    </tr>\n",
       "    <tr>\n",
       "      <th>3368</th>\n",
       "      <td>-0.275387</td>\n",
       "      <td>0</td>\n",
       "      <td>0</td>\n",
       "      <td>-0.929295</td>\n",
       "      <td>-1.160460e-01</td>\n",
       "      <td>0.0</td>\n",
       "      <td>1.0</td>\n",
       "      <td>0.0</td>\n",
       "      <td>0.0</td>\n",
       "      <td>1.0</td>\n",
       "      <td>...</td>\n",
       "      <td>0.0</td>\n",
       "      <td>1.0</td>\n",
       "      <td>0.0</td>\n",
       "      <td>0.0</td>\n",
       "      <td>0.0</td>\n",
       "      <td>1.0</td>\n",
       "      <td>1.0</td>\n",
       "      <td>0.0</td>\n",
       "      <td>0.0</td>\n",
       "      <td>0.0</td>\n",
       "    </tr>\n",
       "    <tr>\n",
       "      <th>1719</th>\n",
       "      <td>-0.408069</td>\n",
       "      <td>0</td>\n",
       "      <td>0</td>\n",
       "      <td>-0.433703</td>\n",
       "      <td>4.615554e-16</td>\n",
       "      <td>0.0</td>\n",
       "      <td>1.0</td>\n",
       "      <td>0.0</td>\n",
       "      <td>0.0</td>\n",
       "      <td>1.0</td>\n",
       "      <td>...</td>\n",
       "      <td>0.0</td>\n",
       "      <td>1.0</td>\n",
       "      <td>0.0</td>\n",
       "      <td>0.0</td>\n",
       "      <td>1.0</td>\n",
       "      <td>0.0</td>\n",
       "      <td>0.0</td>\n",
       "      <td>1.0</td>\n",
       "      <td>0.0</td>\n",
       "      <td>0.0</td>\n",
       "    </tr>\n",
       "    <tr>\n",
       "      <th>3568</th>\n",
       "      <td>-0.186932</td>\n",
       "      <td>1</td>\n",
       "      <td>0</td>\n",
       "      <td>-0.396820</td>\n",
       "      <td>5.984935e-01</td>\n",
       "      <td>0.0</td>\n",
       "      <td>1.0</td>\n",
       "      <td>0.0</td>\n",
       "      <td>0.0</td>\n",
       "      <td>1.0</td>\n",
       "      <td>...</td>\n",
       "      <td>0.0</td>\n",
       "      <td>1.0</td>\n",
       "      <td>0.0</td>\n",
       "      <td>0.0</td>\n",
       "      <td>1.0</td>\n",
       "      <td>0.0</td>\n",
       "      <td>0.0</td>\n",
       "      <td>0.0</td>\n",
       "      <td>0.0</td>\n",
       "      <td>1.0</td>\n",
       "    </tr>\n",
       "    <tr>\n",
       "      <th>2357</th>\n",
       "      <td>0.830297</td>\n",
       "      <td>0</td>\n",
       "      <td>0</td>\n",
       "      <td>0.866234</td>\n",
       "      <td>5.725103e-01</td>\n",
       "      <td>0.0</td>\n",
       "      <td>1.0</td>\n",
       "      <td>0.0</td>\n",
       "      <td>0.0</td>\n",
       "      <td>1.0</td>\n",
       "      <td>...</td>\n",
       "      <td>0.0</td>\n",
       "      <td>1.0</td>\n",
       "      <td>0.0</td>\n",
       "      <td>0.0</td>\n",
       "      <td>0.0</td>\n",
       "      <td>1.0</td>\n",
       "      <td>1.0</td>\n",
       "      <td>0.0</td>\n",
       "      <td>0.0</td>\n",
       "      <td>0.0</td>\n",
       "    </tr>\n",
       "  </tbody>\n",
       "</table>\n",
       "<p>1096 rows × 21 columns</p>\n",
       "</div>"
      ],
      "text/plain": [
       "           age  hypertension  heart_disease  avg_glucose_level           bmi  \\\n",
       "1490  0.255342             1              0           0.038921 -5.057949e-01   \n",
       "3214 -0.540751             0              0          -0.417801  4.615554e-16   \n",
       "553   0.520706             0              0          -0.661401 -1.290376e-01   \n",
       "4900 -1.602208             0              0          -0.641083 -1.337259e+00   \n",
       "3539 -1.425298             0              0          -0.828807 -1.389226e+00   \n",
       "...        ...           ...            ...                ...           ...   \n",
       "56    1.714845             0              0          -1.034200  5.595187e-01   \n",
       "3368 -0.275387             0              0          -0.929295 -1.160460e-01   \n",
       "1719 -0.408069             0              0          -0.433703  4.615554e-16   \n",
       "3568 -0.186932             1              0          -0.396820  5.984935e-01   \n",
       "2357  0.830297             0              0           0.866234  5.725103e-01   \n",
       "\n",
       "      gender_Female  gender_Male  gender_Other  ever_married_No  \\\n",
       "1490            1.0          0.0           0.0              0.0   \n",
       "3214            1.0          0.0           0.0              0.0   \n",
       "553             1.0          0.0           0.0              0.0   \n",
       "4900            0.0          1.0           0.0              1.0   \n",
       "3539            0.0          1.0           0.0              1.0   \n",
       "...             ...          ...           ...              ...   \n",
       "56              1.0          0.0           0.0              0.0   \n",
       "3368            0.0          1.0           0.0              0.0   \n",
       "1719            0.0          1.0           0.0              0.0   \n",
       "3568            0.0          1.0           0.0              0.0   \n",
       "2357            0.0          1.0           0.0              0.0   \n",
       "\n",
       "      ever_married_Yes  ...  work_type_Never_worked  work_type_Private  \\\n",
       "1490               1.0  ...                     0.0                0.0   \n",
       "3214               1.0  ...                     0.0                0.0   \n",
       "553                1.0  ...                     0.0                0.0   \n",
       "4900               0.0  ...                     0.0                0.0   \n",
       "3539               0.0  ...                     0.0                0.0   \n",
       "...                ...  ...                     ...                ...   \n",
       "56                 1.0  ...                     0.0                1.0   \n",
       "3368               1.0  ...                     0.0                1.0   \n",
       "1719               1.0  ...                     0.0                1.0   \n",
       "3568               1.0  ...                     0.0                1.0   \n",
       "2357               1.0  ...                     0.0                1.0   \n",
       "\n",
       "      work_type_Self-employed  work_type_children  Residence_type_Rural  \\\n",
       "1490                      0.0                 0.0                   1.0   \n",
       "3214                      1.0                 0.0                   0.0   \n",
       "553                       1.0                 0.0                   1.0   \n",
       "4900                      0.0                 1.0                   0.0   \n",
       "3539                      0.0                 1.0                   1.0   \n",
       "...                       ...                 ...                   ...   \n",
       "56                        0.0                 0.0                   1.0   \n",
       "3368                      0.0                 0.0                   0.0   \n",
       "1719                      0.0                 0.0                   1.0   \n",
       "3568                      0.0                 0.0                   1.0   \n",
       "2357                      0.0                 0.0                   0.0   \n",
       "\n",
       "      Residence_type_Urban  smoking_status_Unknown  \\\n",
       "1490                   0.0                     1.0   \n",
       "3214                   1.0                     0.0   \n",
       "553                    0.0                     0.0   \n",
       "4900                   1.0                     1.0   \n",
       "3539                   0.0                     1.0   \n",
       "...                    ...                     ...   \n",
       "56                     0.0                     0.0   \n",
       "3368                   1.0                     1.0   \n",
       "1719                   0.0                     0.0   \n",
       "3568                   0.0                     0.0   \n",
       "2357                   1.0                     1.0   \n",
       "\n",
       "      smoking_status_formerly smoked  smoking_status_never smoked  \\\n",
       "1490                             0.0                          0.0   \n",
       "3214                             1.0                          0.0   \n",
       "553                              0.0                          1.0   \n",
       "4900                             0.0                          0.0   \n",
       "3539                             0.0                          0.0   \n",
       "...                              ...                          ...   \n",
       "56                               0.0                          1.0   \n",
       "3368                             0.0                          0.0   \n",
       "1719                             1.0                          0.0   \n",
       "3568                             0.0                          0.0   \n",
       "2357                             0.0                          0.0   \n",
       "\n",
       "      smoking_status_smokes  \n",
       "1490                    0.0  \n",
       "3214                    0.0  \n",
       "553                     0.0  \n",
       "4900                    0.0  \n",
       "3539                    0.0  \n",
       "...                     ...  \n",
       "56                      0.0  \n",
       "3368                    0.0  \n",
       "1719                    0.0  \n",
       "3568                    1.0  \n",
       "2357                    0.0  \n",
       "\n",
       "[1096 rows x 21 columns]"
      ]
     },
     "execution_count": 28,
     "metadata": {},
     "output_type": "execute_result"
    }
   ],
   "source": [
    "X_train.drop([y_fieldname], axis=1)\n",
    "X_test.drop([y_fieldname], axis=1)\n"
   ]
  },
  {
   "cell_type": "code",
   "execution_count": 29,
   "id": "0d4b232b",
   "metadata": {},
   "outputs": [
    {
     "name": "stdout",
     "output_type": "stream",
     "text": [
      "Accuracy: 0.9625912408759124\n"
     ]
    }
   ],
   "source": [
    "bad_preds = [0]*len(X_test)\n",
    "# print(bad_preds)\n",
    "print(\"Accuracy: {}\".format(accuracy_score(y_test, bad_preds)))"
   ]
  },
  {
   "cell_type": "code",
   "execution_count": 30,
   "id": "7a7a23c8",
   "metadata": {},
   "outputs": [
    {
     "name": "stdout",
     "output_type": "stream",
     "text": [
      "Precision: 0.0\n",
      "Recall: 0.0\n",
      "F1-Score: 0.0\n"
     ]
    }
   ],
   "source": [
    "# Se prediciamo sempre 0 tutte le metriche ci ritorneranno 0\n",
    "# Se prediciamo sempre 1 avremo una recall pari a 1 perchè delle persone che comprano, il nostro modello ne rileva il 100%\n",
    "\n",
    "\n",
    "print(\"Precision: {}\".format(precision_score(y_test, bad_preds, zero_division=0)))\n",
    "print(\"Recall: {}\".format(recall_score(y_test, bad_preds)))\n",
    "print(\"F1-Score: {}\".format(f1_score(y_test, bad_preds)))\n",
    "\n",
    "\n",
    "def evaluate(classifier, X_test, y_test, preds):\n",
    "  tn, fp, fn, tp = confusion_matrix(y_test, preds).ravel()\n",
    "  print('True negatives: ', tn)\n",
    "  print('\\nFalse positives: ', fp)\n",
    "  print('\\nFalse negatives: ', fn)\n",
    "  print('\\nTrue Positives: ', tp)\n",
    "  # print('Accuracy: ', accuracy_score(y_test, preds))\n",
    "  # print('Precision: ', precision_score(y_test, preds))\n",
    "  # print('Recall: ', recall_score(y_test, preds))\n",
    "  # print('F1-Score: ', f1_score(y_test, preds))\n",
    "  ConfusionMatrixDisplay.from_estimator(classifier, X_test, y_test)"
   ]
  },
  {
   "cell_type": "code",
   "execution_count": 31,
   "id": "3e6e049a",
   "metadata": {},
   "outputs": [
    {
     "name": "stdout",
     "output_type": "stream",
     "text": [
      "Mean for age -> -0.10064619910787798\n",
      "Mean for avg_glucose_level -> -0.32447027538305245\n",
      "Mean for bmi -> -0.14001495855264856\n",
      "bern_X_train shape -> (3511, 21)\n",
      "bern_X_test shape  -> (1022, 21)\n",
      "True negatives:  943\n",
      "\n",
      "False positives:  29\n",
      "\n",
      "False negatives:  45\n",
      "\n",
      "True Positives:  5\n",
      "              precision    recall  f1-score   support\n",
      "\n",
      "           0       0.95      0.97      0.96       972\n",
      "           1       0.15      0.10      0.12        50\n",
      "\n",
      "    accuracy                           0.93      1022\n",
      "   macro avg       0.55      0.54      0.54      1022\n",
      "weighted avg       0.91      0.93      0.92      1022\n",
      "\n"
     ]
    },
    {
     "data": {
      "image/png": "[encoded data removed]",
      "text/plain": [
       "<Figure size 432x288 with 2 Axes>"
      ]
     },
     "metadata": {
      "needs_background": "light"
     },
     "output_type": "display_data"
    }
   ],
   "source": [
    "# Bernoulli Naive Bayes\n",
    "from sklearn.naive_bayes import BernoulliNB\n",
    "from sklearn.model_selection import cross_val_score\n",
    "\n",
    "\n",
    "df_bernoulli = df.copy()\n",
    "\n",
    "X = df_bernoulli.drop(y_fieldname, axis=1)\n",
    "y = df_bernoulli[y_fieldname]\n",
    "\n",
    "\n",
    "bern_X_train, bern_X_test, bern_y_train, bern_y_test = train_test_split(\n",
    "    X, \n",
    "    y,\n",
    "    stratify=df_bernoulli[y_fieldname],\n",
    "    test_size=0.2, \n",
    "    random_state=42\n",
    ")\n",
    "\n",
    "float_columns = ['age', 'avg_glucose_level', 'bmi']\n",
    "\n",
    "\n",
    "scaler = StandardScaler()\n",
    "\n",
    "# Fit the scaler on the training data without outliers\n",
    "scaler.fit(bern_X_train[float_columns])\n",
    "\n",
    "# Transform both the training and test sets\n",
    "bern_X_train[float_columns] = scaler.transform(bern_X_train[float_columns])\n",
    "bern_X_test[float_columns] = scaler.transform(bern_X_test[float_columns])\n",
    "\n",
    "\n",
    "\n",
    "# Calculate the IQR for these columns\n",
    "Q1 = bern_X_train[float_columns].quantile(0.25)\n",
    "Q3 = bern_X_train[float_columns].quantile(0.75)\n",
    "IQR = Q3 - Q1\n",
    "\n",
    "# Define the outlier bounds\n",
    "lower_bound = Q1 - 1.5 * IQR\n",
    "upper_bound = Q3 + 1.5 * IQR\n",
    "\n",
    "# Crea una maschera per definire chi si trova nel range\n",
    "mask = (bern_X_train[float_columns] >= lower_bound) & (bern_X_train[float_columns] <= upper_bound)\n",
    "\n",
    "# We want to keep rows where all column conditions are True, so we use 'all' across the columns\n",
    "mask = mask.all(axis=1)\n",
    "\n",
    "# print(mask)\n",
    "\n",
    "# Output -> [True, False, True, True, False, ...]\n",
    "\n",
    "# Apply the mask to the DataFrame to filter out outliers\n",
    "bern_X_train = bern_X_train[mask]\n",
    "bern_y_train = bern_y_train[mask]\n",
    "\n",
    "bern_X_test[float_columns].clip(\n",
    "    lower=lower_bound, \n",
    "    upper=upper_bound, \n",
    "    axis=1\n",
    ")\n",
    "\n",
    "\n",
    "for col in float_columns:\n",
    "    print(f\"Mean for {col} -> {bern_X_train[col].mean()}\")\n",
    "    bern_X_train[col] = (bern_X_train[col] > bern_X_train[col].mean()).astype(int)\n",
    "    bern_X_test[col] = (bern_X_test[col] > bern_X_train[col].mean()).astype(int)\n",
    "\n",
    "print(f'bern_X_train shape -> {bern_X_train.shape}')\n",
    "print(f'bern_X_test shape  -> {bern_X_test.shape}')\n",
    "\n",
    "bernoulli_nb_classifier = BernoulliNB()\n",
    "bernoulli_nb_classifier.fit(bern_X_train, bern_y_train)\n",
    "bern_nb_preds = bernoulli_nb_classifier.predict(bern_X_test)\n",
    "evaluate(bernoulli_nb_classifier, bern_X_test, bern_y_test, bern_nb_preds)\n",
    "print(classification_report(bern_y_test, bern_nb_preds))\n",
    "\n",
    "\n",
    "# cv_scores = cross_val_score(nb_classifier, X_train, y_train, cv=5)\n",
    "# print(cv_scores)"
   ]
  },
  {
   "cell_type": "code",
   "execution_count": 32,
   "id": "8ce91bd3",
   "metadata": {},
   "outputs": [
    {
     "name": "stdout",
     "output_type": "stream",
     "text": [
      "gauss_X_train shape -> (3511, 3)\n",
      "gauss_X_test shape  -> (1022, 3)\n",
      "True negatives:  921\n",
      "\n",
      "False positives:  51\n",
      "\n",
      "False negatives:  36\n",
      "\n",
      "True Positives:  14\n",
      "              precision    recall  f1-score   support\n",
      "\n",
      "           0       0.96      0.95      0.95       972\n",
      "           1       0.22      0.28      0.24        50\n",
      "\n",
      "    accuracy                           0.91      1022\n",
      "   macro avg       0.59      0.61      0.60      1022\n",
      "weighted avg       0.93      0.91      0.92      1022\n",
      "\n"
     ]
    },
    {
     "data": {
      "image/png": "[encoded data removed]",
      "text/plain": [
       "<Figure size 432x288 with 2 Axes>"
      ]
     },
     "metadata": {
      "needs_background": "light"
     },
     "output_type": "display_data"
    }
   ],
   "source": [
    "# Gaussian Naive Bayes\n",
    "from sklearn.naive_bayes import GaussianNB\n",
    "from sklearn.model_selection import cross_val_score\n",
    "\n",
    "\n",
    "\n",
    "df_gauss = df.copy()[['avg_glucose_level', 'bmi', 'age', 'stroke']]\n",
    "\n",
    "X = df_gauss.drop(y_fieldname, axis=1)\n",
    "y = df_gauss[y_fieldname]\n",
    "\n",
    "\n",
    "gauss_X_train, gauss_X_test, gauss_y_train, gauss_y_test = train_test_split(\n",
    "    X, \n",
    "    y,\n",
    "    stratify=df_gauss[y_fieldname],\n",
    "    test_size=0.2, \n",
    "    random_state=42\n",
    ")\n",
    "\n",
    "\n",
    "scaler = StandardScaler()\n",
    "\n",
    "# Fit the scaler on the training data without outliers\n",
    "scaler.fit(gauss_X_train[float_columns])\n",
    "\n",
    "# Transform both the training and test sets\n",
    "gauss_X_train[float_columns] = scaler.transform(gauss_X_train[float_columns])\n",
    "gauss_X_test[float_columns] = scaler.transform(gauss_X_test[float_columns])\n",
    "\n",
    "\n",
    "\n",
    "# Calculate the IQR for these columns\n",
    "Q1 = gauss_X_train[float_columns].quantile(0.25)\n",
    "Q3 = gauss_X_train[float_columns].quantile(0.75)\n",
    "IQR = Q3 - Q1\n",
    "\n",
    "# Define the outlier bounds\n",
    "lower_bound = Q1 - 1.5 * IQR\n",
    "upper_bound = Q3 + 1.5 * IQR\n",
    "\n",
    "# Crea una maschera per definire chi si trova nel range\n",
    "mask = (gauss_X_train[float_columns] >= lower_bound) & (gauss_X_train[float_columns] <= upper_bound)\n",
    "\n",
    "# We want to keep rows where all column conditions are True, so we use 'all' across the columns\n",
    "mask = mask.all(axis=1)\n",
    "\n",
    "# print(mask)\n",
    "\n",
    "# Output -> [True, False, True, True, False, ...]\n",
    "\n",
    "# Apply the mask to the DataFrame to filter out outliers\n",
    "gauss_X_train = gauss_X_train[mask]\n",
    "gauss_y_train = gauss_y_train[mask]\n",
    "\n",
    "gauss_X_test[float_columns].clip(\n",
    "    lower=lower_bound, \n",
    "    upper=upper_bound, \n",
    "    axis=1\n",
    ")\n",
    "\n",
    "print(f'gauss_X_train shape -> {gauss_X_train.shape}')\n",
    "print(f'gauss_X_test shape  -> {gauss_X_test.shape}')\n",
    "\n",
    "gaussian_nb_classifier = GaussianNB()\n",
    "gaussian_nb_classifier.fit(gauss_X_train, gauss_y_train)\n",
    "gaussian_nb_preds = gaussian_nb_classifier.predict(gauss_X_test)\n",
    "evaluate(gaussian_nb_classifier, gauss_X_test, gauss_y_test, gaussian_nb_preds)\n",
    "print(classification_report(gauss_y_test, gaussian_nb_preds))\n",
    "\n",
    "\n",
    "# cv_scores = cross_val_score(nb_classifier, X_train, y_train, cv=5)\n",
    "# print(cv_scores)"
   ]
  },
  {
   "cell_type": "code",
   "execution_count": 33,
   "id": "7853badb",
   "metadata": {},
   "outputs": [
    {
     "name": "stdout",
     "output_type": "stream",
     "text": [
      "knn_X_train shape -> (3511, 3)\n",
      "knn_X_test shape  -> (1022, 3)\n",
      "True negatives:  950\n",
      "\n",
      "False positives:  22\n",
      "\n",
      "False negatives:  47\n",
      "\n",
      "True Positives:  3\n",
      "              precision    recall  f1-score   support\n",
      "\n",
      "           0       0.95      0.98      0.96       972\n",
      "           1       0.12      0.06      0.08        50\n",
      "\n",
      "    accuracy                           0.93      1022\n",
      "   macro avg       0.54      0.52      0.52      1022\n",
      "weighted avg       0.91      0.93      0.92      1022\n",
      "\n"
     ]
    },
    {
     "data": {
      "image/png": "[encoded data removed]",
      "text/plain": [
       "<Figure size 432x288 with 2 Axes>"
      ]
     },
     "metadata": {
      "needs_background": "light"
     },
     "output_type": "display_data"
    }
   ],
   "source": [
    "from sklearn.neighbors import KNeighborsClassifier\n",
    "\n",
    "\n",
    "df_knn = df.copy()[['avg_glucose_level', 'bmi', 'age', 'stroke']]\n",
    "\n",
    "X = df_knn.drop(y_fieldname, axis=1)\n",
    "y = df_knn[y_fieldname]\n",
    "\n",
    "\n",
    "knn_X_train, knn_X_test, knn_y_train, knn_y_test = train_test_split(\n",
    "    X, \n",
    "    y,\n",
    "    stratify=df_knn[y_fieldname],\n",
    "    test_size=0.2, \n",
    "    random_state=42\n",
    ")\n",
    "\n",
    "\n",
    "scaler = StandardScaler()\n",
    "\n",
    "# Fit the scaler on the training data without outliers\n",
    "scaler.fit(knn_X_train[float_columns])\n",
    "\n",
    "# Transform both the training and test sets\n",
    "knn_X_train[float_columns] = scaler.transform(knn_X_train[float_columns])\n",
    "knn_X_test[float_columns] = scaler.transform(knn_X_test[float_columns])\n",
    "\n",
    "\n",
    "\n",
    "# Calculate the IQR for these columns\n",
    "Q1 = knn_X_train[float_columns].quantile(0.25)\n",
    "Q3 = knn_X_train[float_columns].quantile(0.75)\n",
    "IQR = Q3 - Q1\n",
    "\n",
    "# Define the outlier bounds\n",
    "lower_bound = Q1 - 1.5 * IQR\n",
    "upper_bound = Q3 + 1.5 * IQR\n",
    "\n",
    "# Crea una maschera per definire chi si trova nel range\n",
    "mask = (knn_X_train[float_columns] >= lower_bound) & (knn_X_train[float_columns] <= upper_bound)\n",
    "\n",
    "# We want to keep rows where all column conditions are True, so we use 'all' across the columns\n",
    "mask = mask.all(axis=1)\n",
    "\n",
    "# print(mask)\n",
    "\n",
    "# Output -> [True, False, True, True, False, ...]\n",
    "\n",
    "# Apply the mask to the DataFrame to filter out outliers\n",
    "knn_X_train = knn_X_train[mask]\n",
    "knn_y_train = knn_y_train[mask]\n",
    "\n",
    "knn_X_test[float_columns].clip(\n",
    "    lower=lower_bound, \n",
    "    upper=upper_bound, \n",
    "    axis=1\n",
    ")\n",
    "\n",
    "print(f'knn_X_train shape -> {knn_X_train.shape}')\n",
    "print(f'knn_X_test shape  -> {knn_X_test.shape}')\n",
    "\n",
    "\n",
    "knn_classifier = KNeighborsClassifier(n_neighbors=3)\n",
    "\n",
    "knn_classifier.fit(knn_X_train, knn_y_train)\n",
    "knn_preds = knn_classifier.predict(knn_X_test)\n",
    "\n",
    "evaluate(knn_classifier, knn_X_test, knn_y_test, knn_preds)\n",
    "print(classification_report(knn_y_test, knn_preds))"
   ]
  },
  {
   "cell_type": "code",
   "execution_count": 34,
   "id": "b0639da2",
   "metadata": {},
   "outputs": [
    {
     "name": "stdout",
     "output_type": "stream",
     "text": [
      "svm_X_train shape -> (3511, 3)\n",
      "svm_X_test shape  -> (1022, 3)\n",
      "True negatives:  972\n",
      "\n",
      "False positives:  0\n",
      "\n",
      "False negatives:  50\n",
      "\n",
      "True Positives:  0\n",
      "              precision    recall  f1-score   support\n",
      "\n",
      "           0       0.95      1.00      0.97       972\n",
      "           1       0.00      0.00      0.00        50\n",
      "\n",
      "    accuracy                           0.95      1022\n",
      "   macro avg       0.48      0.50      0.49      1022\n",
      "weighted avg       0.90      0.95      0.93      1022\n",
      "\n"
     ]
    },
    {
     "name": "stderr",
     "output_type": "stream",
     "text": [
      "/Users/giumast/miniforge3/envs/tensorflow/lib/python3.10/site-packages/sklearn/metrics/_classification.py:1327: UndefinedMetricWarning: Precision and F-score are ill-defined and being set to 0.0 in labels with no predicted samples. Use `zero_division` parameter to control this behavior.\n",
      "  _warn_prf(average, modifier, msg_start, len(result))\n",
      "/Users/giumast/miniforge3/envs/tensorflow/lib/python3.10/site-packages/sklearn/metrics/_classification.py:1327: UndefinedMetricWarning: Precision and F-score are ill-defined and being set to 0.0 in labels with no predicted samples. Use `zero_division` parameter to control this behavior.\n",
      "  _warn_prf(average, modifier, msg_start, len(result))\n",
      "/Users/giumast/miniforge3/envs/tensorflow/lib/python3.10/site-packages/sklearn/metrics/_classification.py:1327: UndefinedMetricWarning: Precision and F-score are ill-defined and being set to 0.0 in labels with no predicted samples. Use `zero_division` parameter to control this behavior.\n",
      "  _warn_prf(average, modifier, msg_start, len(result))\n"
     ]
    },
    {
     "data": {
      "image/png": "[encoded data removed]",
      "text/plain": [
       "<Figure size 432x288 with 2 Axes>"
      ]
     },
     "metadata": {
      "needs_background": "light"
     },
     "output_type": "display_data"
    }
   ],
   "source": [
    "from sklearn.svm import SVC\n",
    "\n",
    "\n",
    "\n",
    "df_svm = df.copy()[['avg_glucose_level', 'bmi', 'age', 'stroke']]\n",
    "\n",
    "X = df_svm.drop(y_fieldname, axis=1)\n",
    "y = df_svm[y_fieldname]\n",
    "\n",
    "\n",
    "svm_X_train, svm_X_test, svm_y_train, svm_y_test = train_test_split(\n",
    "    X, \n",
    "    y,\n",
    "    stratify=df_svm[y_fieldname],\n",
    "    test_size=0.2, \n",
    "    random_state=42\n",
    ")\n",
    "\n",
    "\n",
    "scaler = StandardScaler()\n",
    "\n",
    "# Fit the scaler on the training data without outliers\n",
    "scaler.fit(svm_X_train[float_columns])\n",
    "\n",
    "# Transform both the training and test sets\n",
    "svm_X_train[float_columns] = scaler.transform(svm_X_train[float_columns])\n",
    "svm_X_test[float_columns] = scaler.transform(svm_X_test[float_columns])\n",
    "\n",
    "\n",
    "\n",
    "# Calculate the IQR for these columns\n",
    "Q1 = svm_X_train[float_columns].quantile(0.25)\n",
    "Q3 = svm_X_train[float_columns].quantile(0.75)\n",
    "IQR = Q3 - Q1\n",
    "\n",
    "# Define the outlier bounds\n",
    "lower_bound = Q1 - 1.5 * IQR\n",
    "upper_bound = Q3 + 1.5 * IQR\n",
    "\n",
    "# Crea una maschera per definire chi si trova nel range\n",
    "mask = (svm_X_train[float_columns] >= lower_bound) & (svm_X_train[float_columns] <= upper_bound)\n",
    "\n",
    "# We want to keep rows where all column conditions are True, so we use 'all' across the columns\n",
    "mask = mask.all(axis=1)\n",
    "\n",
    "# print(mask)\n",
    "\n",
    "# Output -> [True, False, True, True, False, ...]\n",
    "\n",
    "# Apply the mask to the DataFrame to filter out outliers\n",
    "svm_X_train = svm_X_train[mask]\n",
    "svm_y_train = svm_y_train[mask]\n",
    "\n",
    "svm_X_test[float_columns].clip(\n",
    "    lower=lower_bound, \n",
    "    upper=upper_bound, \n",
    "    axis=1\n",
    ")\n",
    "\n",
    "print(f'svm_X_train shape -> {svm_X_train.shape}')\n",
    "print(f'svm_X_test shape  -> {svm_X_test.shape}')\n",
    "\n",
    "\n",
    "svm_classifier = SVC(\n",
    "    kernel='rbf',\n",
    "    probability=True # ci dà accesso al numero calcolato effettivamente, non solo alla label di uscita\n",
    ")\n",
    "# svm_classifier = SVC(kernel='rbf') \n",
    "\n",
    "svm_classifier.fit(svm_X_train, svm_y_train)\n",
    "svm_preds = svm_classifier.predict(svm_X_test)\n",
    "evaluate(svm_classifier, svm_X_test, svm_y_test, svm_preds)\n",
    "print(classification_report(svm_y_test, svm_preds))"
   ]
  },
  {
   "cell_type": "code",
   "execution_count": 35,
   "id": "f658b13f",
   "metadata": {},
   "outputs": [
    {
     "name": "stdout",
     "output_type": "stream",
     "text": [
      "rf_X_train shape -> (3511, 3)\n",
      "rf_X_test shape  -> (1022, 3)\n"
     ]
    },
    {
     "name": "stderr",
     "output_type": "stream",
     "text": [
      "/Users/giumast/miniforge3/envs/tensorflow/lib/python3.10/site-packages/sklearn/metrics/_classification.py:1327: UndefinedMetricWarning: Precision and F-score are ill-defined and being set to 0.0 in labels with no predicted samples. Use `zero_division` parameter to control this behavior.\n",
      "  _warn_prf(average, modifier, msg_start, len(result))\n",
      "/Users/giumast/miniforge3/envs/tensorflow/lib/python3.10/site-packages/sklearn/metrics/_classification.py:1327: UndefinedMetricWarning: Precision and F-score are ill-defined and being set to 0.0 in labels with no predicted samples. Use `zero_division` parameter to control this behavior.\n",
      "  _warn_prf(average, modifier, msg_start, len(result))\n",
      "/Users/giumast/miniforge3/envs/tensorflow/lib/python3.10/site-packages/sklearn/metrics/_classification.py:1327: UndefinedMetricWarning: Precision and F-score are ill-defined and being set to 0.0 in labels with no predicted samples. Use `zero_division` parameter to control this behavior.\n",
      "  _warn_prf(average, modifier, msg_start, len(result))\n"
     ]
    },
    {
     "name": "stdout",
     "output_type": "stream",
     "text": [
      "True negatives:  972\n",
      "\n",
      "False positives:  0\n",
      "\n",
      "False negatives:  50\n",
      "\n",
      "True Positives:  0\n",
      "              precision    recall  f1-score   support\n",
      "\n",
      "           0       0.95      1.00      0.97       972\n",
      "           1       0.00      0.00      0.00        50\n",
      "\n",
      "    accuracy                           0.95      1022\n",
      "   macro avg       0.48      0.50      0.49      1022\n",
      "weighted avg       0.90      0.95      0.93      1022\n",
      "\n"
     ]
    },
    {
     "data": {
      "image/png": "[encoded data removed]",
      "text/plain": [
       "<Figure size 432x288 with 2 Axes>"
      ]
     },
     "metadata": {
      "needs_background": "light"
     },
     "output_type": "display_data"
    }
   ],
   "source": [
    "# Random Forest\n",
    "from sklearn.ensemble import RandomForestClassifier\n",
    "\n",
    "\n",
    "df_rf = df.copy()[['avg_glucose_level', 'bmi', 'age', 'stroke']]\n",
    "\n",
    "X = df_rf.drop(y_fieldname, axis=1)\n",
    "y = df_rf[y_fieldname]\n",
    "\n",
    "\n",
    "rf_X_train, rf_X_test, rf_y_train, rf_y_test = train_test_split(\n",
    "    X, \n",
    "    y,\n",
    "    stratify=df_rf[y_fieldname],\n",
    "    test_size=0.2, \n",
    "    random_state=42\n",
    ")\n",
    "\n",
    "\n",
    "scaler = StandardScaler()\n",
    "\n",
    "# Fit the scaler on the training data without outliers\n",
    "scaler.fit(rf_X_train[float_columns])\n",
    "\n",
    "# Transform both the training and test sets\n",
    "rf_X_train[float_columns] = scaler.transform(rf_X_train[float_columns])\n",
    "rf_X_test[float_columns] = scaler.transform(rf_X_test[float_columns])\n",
    "\n",
    "\n",
    "\n",
    "# Calculate the IQR for these columns\n",
    "Q1 = rf_X_train[float_columns].quantile(0.25)\n",
    "Q3 = rf_X_train[float_columns].quantile(0.75)\n",
    "IQR = Q3 - Q1\n",
    "\n",
    "# Define the outlier bounds\n",
    "lower_bound = Q1 - 1.5 * IQR\n",
    "upper_bound = Q3 + 1.5 * IQR\n",
    "\n",
    "# Crea una maschera per definire chi si trova nel range\n",
    "mask = (rf_X_train[float_columns] >= lower_bound) & (rf_X_train[float_columns] <= upper_bound)\n",
    "\n",
    "# We want to keep rows where all column conditions are True, so we use 'all' across the columns\n",
    "mask = mask.all(axis=1)\n",
    "\n",
    "# print(mask)\n",
    "\n",
    "# Output -> [True, False, True, True, False, ...]\n",
    "\n",
    "# Apply the mask to the DataFrame to filter out outliers\n",
    "rf_X_train = rf_X_train[mask]\n",
    "rf_y_train = rf_y_train[mask]\n",
    "\n",
    "rf_X_test[float_columns].clip(\n",
    "    lower=lower_bound, \n",
    "    upper=upper_bound, \n",
    "    axis=1\n",
    ")\n",
    "\n",
    "print(f'rf_X_train shape -> {rf_X_train.shape}')\n",
    "print(f'rf_X_test shape  -> {rf_X_test.shape}')\n",
    "\n",
    "\n",
    "\n",
    "\n",
    "\n",
    "rf_classifier = RandomForestClassifier(\n",
    "    n_estimators=100,\n",
    "    max_depth=3\n",
    ")\n",
    "\n",
    "rf_classifier.fit(rf_X_train, rf_y_train)\n",
    "rf_preds = rf_classifier.predict(rf_X_test)\n",
    "evaluate(rf_classifier, rf_X_test, rf_y_test, rf_preds)\n",
    "print(classification_report(rf_y_test, rf_preds))\n"
   ]
  },
  {
   "cell_type": "code",
   "execution_count": 36,
   "id": "594fd8c9",
   "metadata": {},
   "outputs": [
    {
     "name": "stdout",
     "output_type": "stream",
     "text": [
      "[0.94007451 0.05992549]\n",
      "0\n"
     ]
    }
   ],
   "source": [
    "# Calcoliamo la AUC per i modelli. predict_proba ci restituisce il numero finale che verrà arrotondato alla classe finale\n",
    "\n",
    "knn_probs = knn_classifier.predict_proba(knn_X_test)\n",
    "svm_probs = svm_classifier.predict_proba(svm_X_test)\n",
    "gaussian_nb_probs  = gaussian_nb_classifier.predict_proba(gauss_X_test)\n",
    "bernoulli_nb_probs  = bernoulli_nb_classifier.predict_proba(bern_X_test)\n",
    "rf_probs  = rf_classifier.predict_proba(rf_X_test)\n",
    "\n",
    "\n",
    "print(svm_classifier.predict_proba(svm_X_test)[0])\n",
    "print(svm_classifier.predict(svm_X_test)[0])\n",
    "\n"
   ]
  },
  {
   "cell_type": "code",
   "execution_count": 37,
   "id": "36b152d3",
   "metadata": {},
   "outputs": [
    {
     "name": "stdout",
     "output_type": "stream",
     "text": [
      "SVM ROC AUC 0.7545679012345679\n",
      "KNN ROC AUC 0.6433230452674896\n",
      "Gaussian NB  ROC AUC 0.8147736625514405\n",
      "Bernoulli NB  ROC AUC 0.5350823045267491\n",
      "RF  ROC AUC 0.8093415637860082\n"
     ]
    }
   ],
   "source": [
    "svm_preds = svm_probs[:,1]\n",
    "svm_fpr, svm_tpr, svm_threshold = roc_curve(svm_y_test, svm_preds)\n",
    "svm_auc = roc_auc_score(svm_y_test, svm_preds)\n",
    "\n",
    "knn_preds = knn_probs[:,1]\n",
    "knn_fpr, knn_tpr, knn_threshold = roc_curve(knn_y_test, knn_preds)\n",
    "knn_auc = roc_auc_score(knn_y_test, knn_preds)\n",
    "\n",
    "gaussian_nb_preds = gaussian_nb_probs[:,1]\n",
    "gaussian_nb_fpr, gaussian_nb_tpr, gaussian_nb_threshold = roc_curve(gauss_y_test, gaussian_nb_preds)\n",
    "gaussian_nb_auc = roc_auc_score(gauss_y_test, gaussian_nb_preds)\n",
    "\n",
    "bernoulli_nb_preds = bernoulli_nb_probs[:,1]\n",
    "bernoulli_nb_fpr, bernoulli_nb_tpr, bernoulli_nb_threshold = roc_curve(bern_y_test, bern_nb_preds)\n",
    "bernoulli_nb_auc = roc_auc_score(bern_y_test, bern_nb_preds)\n",
    "\n",
    "rf_preds = rf_probs[:,1]\n",
    "rf_fpr, rf_tpr, rf_threshold = roc_curve(rf_y_test, rf_preds)\n",
    "rf_auc = roc_auc_score(rf_y_test, rf_preds)\n",
    "\n",
    "print(\"SVM ROC AUC {}\".format(svm_auc))\n",
    "print(\"KNN ROC AUC {}\".format(knn_auc))\n",
    "print(\"Gaussian NB  ROC AUC {}\".format(gaussian_nb_auc))\n",
    "print(\"Bernoulli NB  ROC AUC {}\".format(bernoulli_nb_auc))\n",
    "print(\"RF  ROC AUC {}\".format(rf_auc))"
   ]
  },
  {
   "cell_type": "code",
   "execution_count": 38,
   "id": "9588319f",
   "metadata": {},
   "outputs": [
    {
     "data": {
      "image/png": "[encoded data removed]",
      "text/plain": [
       "<Figure size 720x720 with 1 Axes>"
      ]
     },
     "metadata": {
      "needs_background": "light"
     },
     "output_type": "display_data"
    }
   ],
   "source": [
    "plt.figure(figsize=(10,10))\n",
    "# plt.style.use('seaborn')\n",
    "plt.plot(svm_fpr, svm_tpr, linestyle='--',color='orange', label='SVM')\n",
    "plt.plot(knn_fpr, knn_tpr, linestyle='dotted',color='green', label='KNN')\n",
    "plt.plot(bernoulli_nb_fpr, bernoulli_nb_tpr, linestyle='-.',color='red', label='Bernoulli NB')\n",
    "plt.plot(gaussian_nb_fpr, gaussian_nb_tpr, linestyle='-.',color='purple', label='Gaussian NB')\n",
    "plt.plot(rf_fpr, rf_tpr, color='pink', label='RF')\n",
    "plt.plot([0, 1], [0, 1], color=\"blue\")\n",
    "\n",
    "\n",
    "# title\n",
    "plt.title('ROC curve')\n",
    "# x label\n",
    "plt.xlabel('False Positive Rate')\n",
    "# y label\n",
    "plt.ylabel('True Positive rate')\n",
    "plt.tight_layout()\n",
    "plt.legend(loc='best')\n",
    "plt.savefig('ROC',dpi=300)\n",
    "plt.show();"
   ]
  },
  {
   "cell_type": "markdown",
   "id": "71a7adcb",
   "metadata": {},
   "source": [
    "### Lavorare con la curva ROC e AUC\n",
    "\n",
    "È possibile **massimizzare** la performance di un classificatore senza riaddestrarlo ricorrendo alla scelta della soglia ottimale. \n",
    "\n",
    "L'espressione `rf_tpr + (1 - rf_fpr)` combina la **Sensitivity** (_True Positive Rate_, TPR) con il complemento del **Tasso di Falsi Positivi** (_False Positive Rate_, FPR), che se sottratto ad 1 rappresenta la **Specificity** (_True Negative Rate_). Questa combinazione è nota anche come [indice di Youden](https://en.wikipedia.org/wiki/Youden%27s_J_statistic), che varia da 0 a 1, dove un valore più alto indica una migliore capacità discriminante del modello.\n",
    "\n",
    "### Obiettivi dell'espressione\n",
    "- **Massimizzare la Sensibilità** (TPR): aumentare la proporzione dei positivi reali correttamente identificati.\n",
    "- **Massimizzare la Specificità** (1 - FPR): aumentare la proporzione dei negativi reali correttamente identificati.\n",
    "\n",
    "### Relazione con la curva ROC e l'AUC\n",
    "- La **Curva ROC** mostra la capacità diagnostica di un classificatore binario al variare della soglia di discriminazione, rappresentando TPR contro FPR.\n",
    "- L'**AUC** (_Area Under the ROC Curve_) misura l'area totale sotto la curva ROC. Un AUC elevato indica una migliore performance complessiva del classificatore.\n",
    "- Massimizzare `rf_tpr + (1 - rf_fpr)` aiuta a trovare il punto ottimale sulla curva ROC che equilibra sensibilità e specificità, spostandosi idealmente verso l'angolo superiore sinistro del grafico (alta TPR, bassa FPR)."
   ]
  },
  {
   "cell_type": "code",
   "execution_count": 39,
   "id": "d1f743ba",
   "metadata": {},
   "outputs": [
    {
     "name": "stdout",
     "output_type": "stream",
     "text": [
      "True negatives:  768\n",
      "\n",
      "False positives:  204\n",
      "\n",
      "False negatives:  14\n",
      "\n",
      "True Positives:  36\n"
     ]
    },
    {
     "data": {
      "image/png": "[encoded data removed]",
      "text/plain": [
       "<Figure size 432x288 with 2 Axes>"
      ]
     },
     "metadata": {
      "needs_background": "light"
     },
     "output_type": "display_data"
    }
   ],
   "source": [
    "\n",
    "\n",
    "optimal_threshold_auc = rf_threshold[np.argmax(rf_tpr + (1 - rf_fpr))]\n",
    "predictions_auc = (rf_preds > optimal_threshold_auc).astype(int)\n",
    "\n",
    "\n",
    "evaluate(rf_classifier, rf_X_test, rf_y_test, predictions_auc)\n",
    "# print(classification_report(rf_y_test, predictions_auc))"
   ]
  },
  {
   "cell_type": "code",
   "execution_count": 40,
   "id": "50ca044a",
   "metadata": {},
   "outputs": [
    {
     "name": "stdout",
     "output_type": "stream",
     "text": [
      "Numero di entries: 4383\n",
      "Senza infarto:     4219\n",
      "Con infarto:       164\n",
      "Sbilanciamento:    0.03741729409080539\n"
     ]
    }
   ],
   "source": [
    "num_rows = df_encoded.shape[0] # Quante righe abbiamo nel dataset\n",
    "zero_labels_num = len(df_encoded[df_encoded[y_fieldname] == 0] ) # Label pari a zero\n",
    "one_labels_num  = len(df_encoded[df_encoded[y_fieldname] == 1] ) # Label pari a 1\n",
    "percentage      = one_labels_num / num_rows # Percentuale delle righe pari a 1 risp. al numero totale\n",
    "\n",
    "print(\"Numero di entries: {}\".format(num_rows))\n",
    "print(\"Senza infarto:     {}\".format(zero_labels_num))\n",
    "print(\"Con infarto:       {}\".format(one_labels_num))\n",
    "print(\"Sbilanciamento:    {}\".format(percentage))\n"
   ]
  },
  {
   "cell_type": "code",
   "execution_count": 41,
   "id": "632719ff",
   "metadata": {},
   "outputs": [
    {
     "name": "stdout",
     "output_type": "stream",
     "text": [
      "Baseline Log Loss: 0.1596197466487641\n"
     ]
    }
   ],
   "source": [
    "# LogLoss\n",
    "\n",
    "dummy_preds = [percentage]*len(X_test) # Queste saranno NON le predizioni ma le probabilità\n",
    "# [0.037, 0.037, 0.037, 0.037, ... x1228 (grandezza del dataset di test)]\n",
    "baseline_log_loss = log_loss(y_test, dummy_preds)\n",
    "print(\"Baseline Log Loss: {}\".format(baseline_log_loss))\n",
    "\n",
    "# Questo valore rappresenta il valore di riferimento sul quale andremo a valutare il logloss del modello.\n",
    "# Se il logloss del modello ha un punteggio maggiore di questo -> performa peggio delle predizioni \"dummy\"\n",
    "# Se il logloss del modello ha un punteggio minore di questo   -> performa MEGLIO delle predizioni \"dummy\"\n"
   ]
  },
  {
   "cell_type": "code",
   "execution_count": 42,
   "id": "8da11782",
   "metadata": {},
   "outputs": [
    {
     "name": "stdout",
     "output_type": "stream",
     "text": [
      "Dummy Classifier LogLoss: 0.15961974743554375\n"
     ]
    }
   ],
   "source": [
    "from sklearn.dummy import DummyClassifier\n",
    "dummy = DummyClassifier(strategy='prior', random_state=42) # \"prior\" -> stima della probabilità pari a 0.037\n",
    "# the class prior is an estimate of the probability that randomly sampling an instance from a population will yield the given class\n",
    "\n",
    "\n",
    "\n",
    "X_train, X_test, y_train, y_test = train_test_split(\n",
    "    df_encoded, \n",
    "    df_encoded[y_fieldname], \n",
    "    stratify=df_encoded[y_fieldname], \n",
    "    random_state=0\n",
    ")\n",
    "X_train.drop([y_fieldname], axis=1)\n",
    "X_test.drop([y_fieldname], axis=1)\n",
    "\n",
    "\n",
    "\n",
    "dummy.fit(X_train, y_train)\n",
    "dummy_probs = dummy.predict_proba(X_test)\n",
    "dummy_logloss = log_loss(y_test, dummy_probs[:, 1])\n",
    "print(f\"Dummy Classifier LogLoss: {dummy_logloss}\")"
   ]
  },
  {
   "cell_type": "code",
   "execution_count": 43,
   "id": "1a3d6d08",
   "metadata": {},
   "outputs": [
    {
     "name": "stdout",
     "output_type": "stream",
     "text": [
      "SVM    LogLoss 0.5411239162432038\n",
      "KNN    LogLoss 1.0990270719046944\n",
      "Gaussian NB     LogLoss 0.23661622220714273\n",
      "Bernoulli NB     LogLoss 0.21245188131802323\n",
      "RF     LogLoss 0.16631424777355402\n",
      "Dummy  LogLoss 0.15961974743554375\n"
     ]
    }
   ],
   "source": [
    "svm_ll = log_loss(svm_y_test, svm_preds)\n",
    "knn_ll = log_loss(knn_y_test, knn_preds)\n",
    "gaussian_nb_ll = log_loss(gauss_y_test, gaussian_nb_preds)\n",
    "bernoulli_nb_ll = log_loss(bern_y_test, bernoulli_nb_preds)\n",
    "rf_ll = log_loss(rf_y_test, rf_preds)\n",
    "\n",
    "print(f\"SVM    LogLoss {svm_ll:15}\")\n",
    "print(f\"KNN    LogLoss {knn_ll:15}\")\n",
    "print(f\"Gaussian NB     LogLoss {gaussian_nb_ll:15}\")\n",
    "print(f\"Bernoulli NB     LogLoss {bernoulli_nb_ll:15}\")\n",
    "print(f\"RF     LogLoss {rf_ll:15}\")\n",
    "print(f\"Dummy  LogLoss {dummy_logloss:15}\")\n",
    "\n"
   ]
  },
  {
   "cell_type": "markdown",
   "id": "df3d29f7",
   "metadata": {},
   "source": [
    "# Class Weights"
   ]
  },
  {
   "cell_type": "code",
   "execution_count": 44,
   "id": "7a0fed11",
   "metadata": {},
   "outputs": [
    {
     "name": "stdout",
     "output_type": "stream",
     "text": [
      "Weight for class 0: 0.52\n",
      "Weight for class 1: 13.36\n",
      "[ 0.51943589 13.36280488]\n",
      "{0: 0.5194358852808723, 1: 13.362804878048781}\n"
     ]
    }
   ],
   "source": [
    "num_classes = 2\n",
    "\n",
    "\n",
    "weight_for_0 = num_rows / (num_classes * zero_labels_num)\n",
    "weight_for_1 = num_rows / (num_classes * one_labels_num)\n",
    "\n",
    "class_weight = {0: weight_for_0, 1: weight_for_1}\n",
    "\n",
    "print('Weight for class 0: {:.2f}'.format(weight_for_0))\n",
    "print('Weight for class 1: {:.2f}'.format(weight_for_1))\n",
    "\n",
    "\n",
    "class_weights = compute_class_weight(\n",
    "    'balanced', \n",
    "    classes=np.unique(df_encoded[y_fieldname]), \n",
    "    y=df_encoded[y_fieldname]\n",
    ")\n",
    "\n",
    "print(class_weights)\n",
    "\n",
    "class_weight_dict = dict(enumerate(class_weights))\n",
    "# class_weight_dict = dict(zip(np.unique(df_encoded[y_fieldname]), class_weights))\n",
    "\n",
    "\n",
    "print(class_weight_dict)"
   ]
  },
  {
   "cell_type": "code",
   "execution_count": 45,
   "id": "9e460a7d",
   "metadata": {},
   "outputs": [
    {
     "name": "stdout",
     "output_type": "stream",
     "text": [
      "True negatives:  596\n",
      "\n",
      "False positives:  376\n",
      "\n",
      "False negatives:  10\n",
      "\n",
      "True Positives:  40\n",
      "              precision    recall  f1-score   support\n",
      "\n",
      "           0       0.98      0.61      0.76       972\n",
      "           1       0.10      0.80      0.17        50\n",
      "\n",
      "    accuracy                           0.62      1022\n",
      "   macro avg       0.54      0.71      0.46      1022\n",
      "weighted avg       0.94      0.62      0.73      1022\n",
      "\n"
     ]
    },
    {
     "data": {
      "image/png": "[encoded data removed]",
      "text/plain": [
       "<Figure size 432x288 with 2 Axes>"
      ]
     },
     "metadata": {
      "needs_background": "light"
     },
     "output_type": "display_data"
    }
   ],
   "source": [
    "from sklearn.svm import SVC\n",
    "\n",
    "svm_classifier = SVC(\n",
    "    kernel='rbf',\n",
    "    probability=True, # ci dà accesso al numero calcolato effettivamente, non solo alla label di uscita\n",
    "    class_weight=\"balanced\" # equivalente a class_weight=class_weight_dict\n",
    ")\n",
    "# svm_classifier = SVC(kernel='rbf') \n",
    "\n",
    "svm_classifier.fit(svm_X_train, svm_y_train)\n",
    "preds = svm_classifier.predict(svm_X_test)\n",
    "evaluate(svm_classifier, svm_X_test, svm_y_test, preds)\n",
    "print(classification_report(svm_y_test, preds))"
   ]
  },
  {
   "cell_type": "markdown",
   "id": "f76f5fbf",
   "metadata": {},
   "source": [
    "# Oversampling"
   ]
  },
  {
   "cell_type": "code",
   "execution_count": 46,
   "id": "2eddd566",
   "metadata": {},
   "outputs": [
    {
     "name": "stdout",
     "output_type": "stream",
     "text": [
      "[0 0 0 ... 0 0 0]\n",
      "[False False False ... False False False]\n",
      "3287\n",
      "(3287,)\n"
     ]
    }
   ],
   "source": [
    "X_train, X_test, y_train, y_test = train_test_split(\n",
    "    df_encoded, \n",
    "    df_encoded[y_fieldname], \n",
    "    stratify=df_encoded[y_fieldname], \n",
    "    random_state=42\n",
    ")\n",
    "\n",
    "train_labels = np.array(X_train[y_fieldname])\n",
    "train_features = np.array(X_train)\n",
    "print(train_labels)\n",
    "bool_train_labels = train_labels != 0\n",
    "print(bool_train_labels)\n",
    "\n",
    "print(len(bool_train_labels))\n",
    "print(train_labels.shape)"
   ]
  },
  {
   "cell_type": "code",
   "execution_count": 47,
   "id": "a2ad3666",
   "metadata": {},
   "outputs": [
    {
     "name": "stdout",
     "output_type": "stream",
     "text": [
      "Positive ->  (123, 22)\n",
      "Negative ->  (3164, 22)\n"
     ]
    }
   ],
   "source": [
    "pos_features = train_features[bool_train_labels]\n",
    "neg_features = train_features[~bool_train_labels]\n",
    "\n",
    "print(\"Positive -> \", pos_features.shape)\n",
    "print(\"Negative -> \", neg_features.shape)\n",
    "\n",
    "pos_labels = train_labels[bool_train_labels]\n",
    "neg_labels = train_labels[~bool_train_labels]"
   ]
  },
  {
   "cell_type": "code",
   "execution_count": 48,
   "id": "9b55b07c",
   "metadata": {},
   "outputs": [
    {
     "data": {
      "text/plain": [
       "123"
      ]
     },
     "execution_count": 48,
     "metadata": {},
     "output_type": "execute_result"
    }
   ],
   "source": [
    "len(pos_features)"
   ]
  },
  {
   "cell_type": "code",
   "execution_count": 49,
   "id": "3588bcf0",
   "metadata": {},
   "outputs": [
    {
     "name": "stdout",
     "output_type": "stream",
     "text": [
      "[  0   1   2   3   4   5   6   7   8   9  10  11  12  13  14  15  16  17\n",
      "  18  19  20  21  22  23  24  25  26  27  28  29  30  31  32  33  34  35\n",
      "  36  37  38  39  40  41  42  43  44  45  46  47  48  49  50  51  52  53\n",
      "  54  55  56  57  58  59  60  61  62  63  64  65  66  67  68  69  70  71\n",
      "  72  73  74  75  76  77  78  79  80  81  82  83  84  85  86  87  88  89\n",
      "  90  91  92  93  94  95  96  97  98  99 100 101 102 103 104 105 106 107\n",
      " 108 109 110 111 112 113 114 115 116 117 118 119 120 121 122]\n",
      "[ 50  98  86 ...  57  79 111]\n",
      "(3164,)\n"
     ]
    },
    {
     "data": {
      "text/plain": [
       "(3164, 22)"
      ]
     },
     "execution_count": 49,
     "metadata": {},
     "output_type": "execute_result"
    }
   ],
   "source": [
    "ids = np.arange(len(pos_features))\n",
    "print(ids)\n",
    "choices = np.random.choice(ids, len(neg_features))\n",
    "\n",
    "print(choices)\n",
    "\n",
    "print(choices.shape)\n",
    "\n",
    "res_pos_features = pos_features[choices]\n",
    "res_pos_labels = pos_labels[choices]\n",
    "\n",
    "res_pos_features.shape"
   ]
  },
  {
   "cell_type": "code",
   "execution_count": 50,
   "id": "f1ecc943",
   "metadata": {},
   "outputs": [
    {
     "data": {
      "text/plain": [
       "(6328, 22)"
      ]
     },
     "execution_count": 50,
     "metadata": {},
     "output_type": "execute_result"
    }
   ],
   "source": [
    "resampled_features = np.concatenate([res_pos_features, neg_features], axis=0)\n",
    "resampled_labels = np.concatenate([res_pos_labels, neg_labels], axis=0)\n",
    "\n",
    "order = np.arange(len(resampled_labels))\n",
    "np.random.shuffle(order)\n",
    "resampled_features = resampled_features[order]\n",
    "resampled_labels = resampled_labels[order]\n",
    "\n",
    "resampled_features.shape"
   ]
  },
  {
   "cell_type": "code",
   "execution_count": 51,
   "id": "6289dbe4",
   "metadata": {},
   "outputs": [],
   "source": [
    "resampled_df = pd.DataFrame(data=resampled_features, columns=df_encoded.columns.values)"
   ]
  },
  {
   "cell_type": "code",
   "execution_count": 52,
   "id": "66542ace",
   "metadata": {},
   "outputs": [
    {
     "data": {
      "text/html": [
       "<div>\n",
       "<style scoped>\n",
       "    .dataframe tbody tr th:only-of-type {\n",
       "        vertical-align: middle;\n",
       "    }\n",
       "\n",
       "    .dataframe tbody tr th {\n",
       "        vertical-align: top;\n",
       "    }\n",
       "\n",
       "    .dataframe thead th {\n",
       "        text-align: right;\n",
       "    }\n",
       "</style>\n",
       "<table border=\"1\" class=\"dataframe\">\n",
       "  <thead>\n",
       "    <tr style=\"text-align: right;\">\n",
       "      <th></th>\n",
       "      <th>age</th>\n",
       "      <th>hypertension</th>\n",
       "      <th>heart_disease</th>\n",
       "      <th>avg_glucose_level</th>\n",
       "      <th>bmi</th>\n",
       "      <th>stroke</th>\n",
       "      <th>gender_Female</th>\n",
       "      <th>gender_Male</th>\n",
       "      <th>gender_Other</th>\n",
       "      <th>ever_married_No</th>\n",
       "      <th>...</th>\n",
       "      <th>work_type_Never_worked</th>\n",
       "      <th>work_type_Private</th>\n",
       "      <th>work_type_Self-employed</th>\n",
       "      <th>work_type_children</th>\n",
       "      <th>Residence_type_Rural</th>\n",
       "      <th>Residence_type_Urban</th>\n",
       "      <th>smoking_status_Unknown</th>\n",
       "      <th>smoking_status_formerly smoked</th>\n",
       "      <th>smoking_status_never smoked</th>\n",
       "      <th>smoking_status_smokes</th>\n",
       "    </tr>\n",
       "  </thead>\n",
       "  <tbody>\n",
       "    <tr>\n",
       "      <th>0</th>\n",
       "      <td>1.582163</td>\n",
       "      <td>0.0</td>\n",
       "      <td>0.0</td>\n",
       "      <td>0.103852</td>\n",
       "      <td>-6.227195e-01</td>\n",
       "      <td>1.0</td>\n",
       "      <td>1.0</td>\n",
       "      <td>0.0</td>\n",
       "      <td>0.0</td>\n",
       "      <td>0.0</td>\n",
       "      <td>...</td>\n",
       "      <td>0.0</td>\n",
       "      <td>1.0</td>\n",
       "      <td>0.0</td>\n",
       "      <td>0.0</td>\n",
       "      <td>0.0</td>\n",
       "      <td>1.0</td>\n",
       "      <td>0.0</td>\n",
       "      <td>1.0</td>\n",
       "      <td>0.0</td>\n",
       "      <td>0.0</td>\n",
       "    </tr>\n",
       "    <tr>\n",
       "      <th>1</th>\n",
       "      <td>1.626390</td>\n",
       "      <td>0.0</td>\n",
       "      <td>1.0</td>\n",
       "      <td>-0.870769</td>\n",
       "      <td>-9.345186e-01</td>\n",
       "      <td>1.0</td>\n",
       "      <td>1.0</td>\n",
       "      <td>0.0</td>\n",
       "      <td>0.0</td>\n",
       "      <td>0.0</td>\n",
       "      <td>...</td>\n",
       "      <td>0.0</td>\n",
       "      <td>0.0</td>\n",
       "      <td>1.0</td>\n",
       "      <td>0.0</td>\n",
       "      <td>1.0</td>\n",
       "      <td>0.0</td>\n",
       "      <td>0.0</td>\n",
       "      <td>1.0</td>\n",
       "      <td>0.0</td>\n",
       "      <td>0.0</td>\n",
       "    </tr>\n",
       "    <tr>\n",
       "      <th>2</th>\n",
       "      <td>1.582163</td>\n",
       "      <td>0.0</td>\n",
       "      <td>0.0</td>\n",
       "      <td>0.103852</td>\n",
       "      <td>-6.227195e-01</td>\n",
       "      <td>1.0</td>\n",
       "      <td>1.0</td>\n",
       "      <td>0.0</td>\n",
       "      <td>0.0</td>\n",
       "      <td>0.0</td>\n",
       "      <td>...</td>\n",
       "      <td>0.0</td>\n",
       "      <td>1.0</td>\n",
       "      <td>0.0</td>\n",
       "      <td>0.0</td>\n",
       "      <td>0.0</td>\n",
       "      <td>1.0</td>\n",
       "      <td>0.0</td>\n",
       "      <td>1.0</td>\n",
       "      <td>0.0</td>\n",
       "      <td>0.0</td>\n",
       "    </tr>\n",
       "    <tr>\n",
       "      <th>3</th>\n",
       "      <td>0.741843</td>\n",
       "      <td>0.0</td>\n",
       "      <td>1.0</td>\n",
       "      <td>-0.314222</td>\n",
       "      <td>9.102926e-01</td>\n",
       "      <td>1.0</td>\n",
       "      <td>0.0</td>\n",
       "      <td>1.0</td>\n",
       "      <td>0.0</td>\n",
       "      <td>0.0</td>\n",
       "      <td>...</td>\n",
       "      <td>0.0</td>\n",
       "      <td>1.0</td>\n",
       "      <td>0.0</td>\n",
       "      <td>0.0</td>\n",
       "      <td>0.0</td>\n",
       "      <td>1.0</td>\n",
       "      <td>0.0</td>\n",
       "      <td>0.0</td>\n",
       "      <td>0.0</td>\n",
       "      <td>1.0</td>\n",
       "    </tr>\n",
       "    <tr>\n",
       "      <th>4</th>\n",
       "      <td>1.493708</td>\n",
       "      <td>0.0</td>\n",
       "      <td>0.0</td>\n",
       "      <td>-0.766527</td>\n",
       "      <td>-6.227195e-01</td>\n",
       "      <td>0.0</td>\n",
       "      <td>0.0</td>\n",
       "      <td>1.0</td>\n",
       "      <td>0.0</td>\n",
       "      <td>0.0</td>\n",
       "      <td>...</td>\n",
       "      <td>0.0</td>\n",
       "      <td>1.0</td>\n",
       "      <td>0.0</td>\n",
       "      <td>0.0</td>\n",
       "      <td>0.0</td>\n",
       "      <td>1.0</td>\n",
       "      <td>0.0</td>\n",
       "      <td>0.0</td>\n",
       "      <td>0.0</td>\n",
       "      <td>1.0</td>\n",
       "    </tr>\n",
       "    <tr>\n",
       "      <th>...</th>\n",
       "      <td>...</td>\n",
       "      <td>...</td>\n",
       "      <td>...</td>\n",
       "      <td>...</td>\n",
       "      <td>...</td>\n",
       "      <td>...</td>\n",
       "      <td>...</td>\n",
       "      <td>...</td>\n",
       "      <td>...</td>\n",
       "      <td>...</td>\n",
       "      <td>...</td>\n",
       "      <td>...</td>\n",
       "      <td>...</td>\n",
       "      <td>...</td>\n",
       "      <td>...</td>\n",
       "      <td>...</td>\n",
       "      <td>...</td>\n",
       "      <td>...</td>\n",
       "      <td>...</td>\n",
       "      <td>...</td>\n",
       "      <td>...</td>\n",
       "    </tr>\n",
       "    <tr>\n",
       "      <th>6323</th>\n",
       "      <td>-0.142705</td>\n",
       "      <td>0.0</td>\n",
       "      <td>0.0</td>\n",
       "      <td>-1.049218</td>\n",
       "      <td>5.335354e-01</td>\n",
       "      <td>0.0</td>\n",
       "      <td>1.0</td>\n",
       "      <td>0.0</td>\n",
       "      <td>0.0</td>\n",
       "      <td>0.0</td>\n",
       "      <td>...</td>\n",
       "      <td>0.0</td>\n",
       "      <td>1.0</td>\n",
       "      <td>0.0</td>\n",
       "      <td>0.0</td>\n",
       "      <td>0.0</td>\n",
       "      <td>1.0</td>\n",
       "      <td>0.0</td>\n",
       "      <td>0.0</td>\n",
       "      <td>1.0</td>\n",
       "      <td>0.0</td>\n",
       "    </tr>\n",
       "    <tr>\n",
       "      <th>6324</th>\n",
       "      <td>1.449481</td>\n",
       "      <td>0.0</td>\n",
       "      <td>0.0</td>\n",
       "      <td>-0.962423</td>\n",
       "      <td>4.615554e-16</td>\n",
       "      <td>1.0</td>\n",
       "      <td>1.0</td>\n",
       "      <td>0.0</td>\n",
       "      <td>0.0</td>\n",
       "      <td>0.0</td>\n",
       "      <td>...</td>\n",
       "      <td>0.0</td>\n",
       "      <td>0.0</td>\n",
       "      <td>0.0</td>\n",
       "      <td>0.0</td>\n",
       "      <td>1.0</td>\n",
       "      <td>0.0</td>\n",
       "      <td>0.0</td>\n",
       "      <td>1.0</td>\n",
       "      <td>0.0</td>\n",
       "      <td>0.0</td>\n",
       "    </tr>\n",
       "    <tr>\n",
       "      <th>6325</th>\n",
       "      <td>-1.071479</td>\n",
       "      <td>0.0</td>\n",
       "      <td>0.0</td>\n",
       "      <td>-0.745546</td>\n",
       "      <td>4.615554e-16</td>\n",
       "      <td>0.0</td>\n",
       "      <td>1.0</td>\n",
       "      <td>0.0</td>\n",
       "      <td>0.0</td>\n",
       "      <td>1.0</td>\n",
       "      <td>...</td>\n",
       "      <td>0.0</td>\n",
       "      <td>1.0</td>\n",
       "      <td>0.0</td>\n",
       "      <td>0.0</td>\n",
       "      <td>1.0</td>\n",
       "      <td>0.0</td>\n",
       "      <td>0.0</td>\n",
       "      <td>0.0</td>\n",
       "      <td>0.0</td>\n",
       "      <td>1.0</td>\n",
       "    </tr>\n",
       "    <tr>\n",
       "      <th>6326</th>\n",
       "      <td>0.786070</td>\n",
       "      <td>1.0</td>\n",
       "      <td>0.0</td>\n",
       "      <td>-0.663389</td>\n",
       "      <td>-2.069874e-01</td>\n",
       "      <td>1.0</td>\n",
       "      <td>0.0</td>\n",
       "      <td>1.0</td>\n",
       "      <td>0.0</td>\n",
       "      <td>0.0</td>\n",
       "      <td>...</td>\n",
       "      <td>0.0</td>\n",
       "      <td>0.0</td>\n",
       "      <td>1.0</td>\n",
       "      <td>0.0</td>\n",
       "      <td>1.0</td>\n",
       "      <td>0.0</td>\n",
       "      <td>0.0</td>\n",
       "      <td>0.0</td>\n",
       "      <td>0.0</td>\n",
       "      <td>1.0</td>\n",
       "    </tr>\n",
       "    <tr>\n",
       "      <th>6327</th>\n",
       "      <td>1.582163</td>\n",
       "      <td>0.0</td>\n",
       "      <td>0.0</td>\n",
       "      <td>-0.754601</td>\n",
       "      <td>9.752508e-01</td>\n",
       "      <td>0.0</td>\n",
       "      <td>1.0</td>\n",
       "      <td>0.0</td>\n",
       "      <td>0.0</td>\n",
       "      <td>1.0</td>\n",
       "      <td>...</td>\n",
       "      <td>0.0</td>\n",
       "      <td>0.0</td>\n",
       "      <td>1.0</td>\n",
       "      <td>0.0</td>\n",
       "      <td>1.0</td>\n",
       "      <td>0.0</td>\n",
       "      <td>0.0</td>\n",
       "      <td>0.0</td>\n",
       "      <td>1.0</td>\n",
       "      <td>0.0</td>\n",
       "    </tr>\n",
       "  </tbody>\n",
       "</table>\n",
       "<p>6328 rows × 22 columns</p>\n",
       "</div>"
      ],
      "text/plain": [
       "           age  hypertension  heart_disease  avg_glucose_level           bmi  \\\n",
       "0     1.582163           0.0            0.0           0.103852 -6.227195e-01   \n",
       "1     1.626390           0.0            1.0          -0.870769 -9.345186e-01   \n",
       "2     1.582163           0.0            0.0           0.103852 -6.227195e-01   \n",
       "3     0.741843           0.0            1.0          -0.314222  9.102926e-01   \n",
       "4     1.493708           0.0            0.0          -0.766527 -6.227195e-01   \n",
       "...        ...           ...            ...                ...           ...   \n",
       "6323 -0.142705           0.0            0.0          -1.049218  5.335354e-01   \n",
       "6324  1.449481           0.0            0.0          -0.962423  4.615554e-16   \n",
       "6325 -1.071479           0.0            0.0          -0.745546  4.615554e-16   \n",
       "6326  0.786070           1.0            0.0          -0.663389 -2.069874e-01   \n",
       "6327  1.582163           0.0            0.0          -0.754601  9.752508e-01   \n",
       "\n",
       "      stroke  gender_Female  gender_Male  gender_Other  ever_married_No  ...  \\\n",
       "0        1.0            1.0          0.0           0.0              0.0  ...   \n",
       "1        1.0            1.0          0.0           0.0              0.0  ...   \n",
       "2        1.0            1.0          0.0           0.0              0.0  ...   \n",
       "3        1.0            0.0          1.0           0.0              0.0  ...   \n",
       "4        0.0            0.0          1.0           0.0              0.0  ...   \n",
       "...      ...            ...          ...           ...              ...  ...   \n",
       "6323     0.0            1.0          0.0           0.0              0.0  ...   \n",
       "6324     1.0            1.0          0.0           0.0              0.0  ...   \n",
       "6325     0.0            1.0          0.0           0.0              1.0  ...   \n",
       "6326     1.0            0.0          1.0           0.0              0.0  ...   \n",
       "6327     0.0            1.0          0.0           0.0              1.0  ...   \n",
       "\n",
       "      work_type_Never_worked  work_type_Private  work_type_Self-employed  \\\n",
       "0                        0.0                1.0                      0.0   \n",
       "1                        0.0                0.0                      1.0   \n",
       "2                        0.0                1.0                      0.0   \n",
       "3                        0.0                1.0                      0.0   \n",
       "4                        0.0                1.0                      0.0   \n",
       "...                      ...                ...                      ...   \n",
       "6323                     0.0                1.0                      0.0   \n",
       "6324                     0.0                0.0                      0.0   \n",
       "6325                     0.0                1.0                      0.0   \n",
       "6326                     0.0                0.0                      1.0   \n",
       "6327                     0.0                0.0                      1.0   \n",
       "\n",
       "      work_type_children  Residence_type_Rural  Residence_type_Urban  \\\n",
       "0                    0.0                   0.0                   1.0   \n",
       "1                    0.0                   1.0                   0.0   \n",
       "2                    0.0                   0.0                   1.0   \n",
       "3                    0.0                   0.0                   1.0   \n",
       "4                    0.0                   0.0                   1.0   \n",
       "...                  ...                   ...                   ...   \n",
       "6323                 0.0                   0.0                   1.0   \n",
       "6324                 0.0                   1.0                   0.0   \n",
       "6325                 0.0                   1.0                   0.0   \n",
       "6326                 0.0                   1.0                   0.0   \n",
       "6327                 0.0                   1.0                   0.0   \n",
       "\n",
       "      smoking_status_Unknown  smoking_status_formerly smoked  \\\n",
       "0                        0.0                             1.0   \n",
       "1                        0.0                             1.0   \n",
       "2                        0.0                             1.0   \n",
       "3                        0.0                             0.0   \n",
       "4                        0.0                             0.0   \n",
       "...                      ...                             ...   \n",
       "6323                     0.0                             0.0   \n",
       "6324                     0.0                             1.0   \n",
       "6325                     0.0                             0.0   \n",
       "6326                     0.0                             0.0   \n",
       "6327                     0.0                             0.0   \n",
       "\n",
       "      smoking_status_never smoked  smoking_status_smokes  \n",
       "0                             0.0                    0.0  \n",
       "1                             0.0                    0.0  \n",
       "2                             0.0                    0.0  \n",
       "3                             0.0                    1.0  \n",
       "4                             0.0                    1.0  \n",
       "...                           ...                    ...  \n",
       "6323                          1.0                    0.0  \n",
       "6324                          0.0                    0.0  \n",
       "6325                          0.0                    1.0  \n",
       "6326                          0.0                    1.0  \n",
       "6327                          1.0                    0.0  \n",
       "\n",
       "[6328 rows x 22 columns]"
      ]
     },
     "execution_count": 52,
     "metadata": {},
     "output_type": "execute_result"
    }
   ],
   "source": [
    "resampled_df"
   ]
  },
  {
   "cell_type": "code",
   "execution_count": 53,
   "id": "27176baa",
   "metadata": {},
   "outputs": [
    {
     "name": "stdout",
     "output_type": "stream",
     "text": [
      "Numero di entries: 6328\n",
      "Senza infarto:     3164\n",
      "Con infarto:       3164\n",
      "Sbilanciamento:    0.5\n"
     ]
    }
   ],
   "source": [
    "num_rows = resampled_df.shape[0] # Quante righe abbiamo nel dataset\n",
    "zero_labels_num = len(resampled_df[resampled_df[y_fieldname] == 0] ) # Label pari a zero\n",
    "one_labels_num  = len(resampled_df[resampled_df[y_fieldname] == 1] ) # Label pari a 1\n",
    "percentage      = one_labels_num / num_rows # Percentuale delle righe pari a 1 risp. al numero totale\n",
    "\n",
    "print(\"Numero di entries: {}\".format(num_rows))\n",
    "print(\"Senza infarto:     {}\".format(zero_labels_num))\n",
    "print(\"Con infarto:       {}\".format(one_labels_num))\n",
    "print(\"Sbilanciamento:    {}\".format(percentage))\n"
   ]
  },
  {
   "cell_type": "code",
   "execution_count": 54,
   "id": "4ebe48c5",
   "metadata": {},
   "outputs": [
    {
     "data": {
      "text/plain": [
       "<AxesSubplot:title={'center':'Distribuzione'}, xlabel='stroke'>"
      ]
     },
     "execution_count": 54,
     "metadata": {},
     "output_type": "execute_result"
    },
    {
     "data": {
      "image/png": "[encoded data removed]",
      "text/plain": [
       "<Figure size 432x288 with 1 Axes>"
      ]
     },
     "metadata": {
      "needs_background": "light"
     },
     "output_type": "display_data"
    }
   ],
   "source": [
    "resampled_df.pivot_table(index=y_fieldname, aggfunc=\"size\").plot(kind='bar', title=\"Distribuzione\")"
   ]
  },
  {
   "cell_type": "code",
   "execution_count": 55,
   "id": "5df55bbd",
   "metadata": {},
   "outputs": [
    {
     "name": "stdout",
     "output_type": "stream",
     "text": [
      "True negatives:  611\n",
      "\n",
      "False positives:  180\n",
      "\n",
      "False negatives:  49\n",
      "\n",
      "True Positives:  742\n",
      "              precision    recall  f1-score   support\n",
      "\n",
      "         0.0       0.93      0.77      0.84       791\n",
      "         1.0       0.80      0.94      0.87       791\n",
      "\n",
      "    accuracy                           0.86      1582\n",
      "   macro avg       0.87      0.86      0.85      1582\n",
      "weighted avg       0.87      0.86      0.85      1582\n",
      "\n"
     ]
    },
    {
     "data": {
      "image/png": "[encoded data removed]",
      "text/plain": [
       "<Figure size 432x288 with 2 Axes>"
      ]
     },
     "metadata": {
      "needs_background": "light"
     },
     "output_type": "display_data"
    }
   ],
   "source": [
    "from sklearn.svm import SVC\n",
    "\n",
    "svm_classifier = SVC(\n",
    "    kernel='rbf',\n",
    "    probability=True # ci dà accesso al numero calcolato effettivamente, non solo alla label di uscita\n",
    ")\n",
    "# svm_classifier = SVC(kernel='rbf') \n",
    "\n",
    "\n",
    "svm_X_train, svm_X_test, svm_y_train, svm_y_test = train_test_split(\n",
    "    resampled_df, \n",
    "    resampled_df[y_fieldname], \n",
    "    stratify=resampled_df[y_fieldname], \n",
    "    random_state=42\n",
    ")\n",
    "svm_X_train.drop([y_fieldname], axis=1, inplace=True)\n",
    "svm_X_test.drop([y_fieldname], axis=1, inplace=True)\n",
    "\n",
    "\n",
    "svm_classifier.fit(svm_X_train, svm_y_train)\n",
    "preds = svm_classifier.predict(svm_X_test)\n",
    "evaluate(svm_classifier, svm_X_test, svm_y_test, preds)\n",
    "print(classification_report(svm_y_test, preds))"
   ]
  },
  {
   "cell_type": "code",
   "execution_count": 56,
   "id": "86f4543e",
   "metadata": {},
   "outputs": [
    {
     "name": "stdout",
     "output_type": "stream",
     "text": [
      "(16876, 22)\n"
     ]
    },
    {
     "data": {
      "text/plain": [
       "<AxesSubplot:title={'center':'Distribuzione'}, xlabel='stroke'>"
      ]
     },
     "execution_count": 56,
     "metadata": {},
     "output_type": "execute_result"
    },
    {
     "data": {
      "image/png": "[encoded data removed]",
      "text/plain": [
       "<Figure size 432x288 with 1 Axes>"
      ]
     },
     "metadata": {
      "needs_background": "light"
     },
     "output_type": "display_data"
    }
   ],
   "source": [
    "from imblearn.over_sampling import SMOTE\n",
    "\n",
    "smote = SMOTE(sampling_strategy=\"auto\", random_state=42)\n",
    "\n",
    "X_resampled, y_resampled = smote.fit_resample(df_encoded.iloc[:,:-1], df_encoded[y_fieldname])\n",
    "df_resampled = pd.concat([X_resampled, y_resampled])\n",
    "print(df_resampled.shape)\n",
    "df_resampled.pivot_table(index=y_fieldname, aggfunc=\"size\").plot(kind='bar', title=\"Distribuzione\")\n",
    "\n",
    "\n",
    "\n"
   ]
  },
  {
   "cell_type": "code",
   "execution_count": null,
   "id": "97473fe4",
   "metadata": {},
   "outputs": [],
   "source": []
  }
 ],
 "metadata": {
  "kernelspec": {
   "display_name": "Python 3 (ipykernel)",
   "language": "python",
   "name": "python3"
  },
  "language_info": {
   "codemirror_mode": {
    "name": "ipython",
    "version": 3
   },
   "file_extension": ".py",
   "mimetype": "text/x-python",
   "name": "python",
   "nbconvert_exporter": "python",
   "pygments_lexer": "ipython3",
   "version": "3.10.0"
  }
 },
 "nbformat": 4,
 "nbformat_minor": 5
}
