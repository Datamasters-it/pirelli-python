{
 "cells": [
  {
   "cell_type": "markdown",
   "id": "c23234d8",
   "metadata": {},
   "source": [
    "Un file può essere aperto in Python con una semplicissima chiamata alla funzione `open()`. Essa accetta svariati parametri, ma i più importanti sono i primi due:\n",
    "- il percorso del file da aprire (se relativo, è il path a partire dallo script attualmente in esecuzione)\n",
    "- la modalità di apertura\n",
    "\n",
    "La modalità di apertura può essere:\n",
    "- `r` : modalità sola lettura (modalità di default)\n",
    "- `w` : modalità sola scrittura\n",
    "- `x` : modalità sola creazione e scrittura (se il file esiste fallisce)\n",
    "- `a` : modalità sola scrittura in coda (append)\n",
    "- `+` : modalità update (lettura e scrittura)\n",
    "- `b` : modalità binaria (da combinare con le modalità viste in precedenza)\n",
    "- `t` : modalità testuale (da combinare con le modalità viste in precedenza)\n",
    "\n",
    "\n"
   ]
  },
  {
   "cell_type": "markdown",
   "id": "f8590053",
   "metadata": {},
   "source": [
    "Normalmente una chiamata ad `open` restituisce un oggetto file, che ha svariati attributi e metodi. Dobbiamo ricordare di chiudere un file quando finiamo di fare le operazioni su di esso:"
   ]
  },
  {
   "cell_type": "code",
   "execution_count": 8,
   "id": "96c4a531",
   "metadata": {},
   "outputs": [
    {
     "name": "stdout",
     "output_type": "stream",
     "text": [
      "_CHUNK_SIZE\n",
      "_checkClosed\n",
      "_checkReadable\n",
      "_checkSeekable\n",
      "_checkWritable\n",
      "_finalizing\n",
      "buffer\n",
      "close\n",
      "closed\n",
      "detach\n",
      "encoding\n",
      "errors\n",
      "fileno\n",
      "flush\n",
      "isatty\n",
      "line_buffering\n",
      "mode\n",
      "name\n",
      "newlines\n",
      "read\n",
      "readable\n",
      "readline\n",
      "readlines\n",
      "reconfigure\n",
      "seek\n",
      "seekable\n",
      "tell\n",
      "truncate\n",
      "writable\n",
      "write\n",
      "write_through\n",
      "writelines\n",
      "File files/file.txt aperto in modalità r\n",
      "Encoding: UTF-8\n"
     ]
    }
   ],
   "source": [
    "f = open(\"files/file.txt\", mode=\"r\")\n",
    "for m in dir(f):\n",
    "    if '__' not in m:\n",
    "        print(m)\n",
    "        \n",
    "print(f\"File {f.name} aperto in modalità {f.mode}\")\n",
    "print(f\"Encoding: {f.encoding}\")\n",
    "f.close()"
   ]
  },
  {
   "cell_type": "markdown",
   "id": "eb89bb81",
   "metadata": {},
   "source": [
    "In alternativa ad una chiamata esplicita a close potremmo utilizzare un cosiddetto **context manager**. In sostanza si tratta di un costrutto che ci consente di delegare a Python tutta la gestione del file aperto e soprattutto la sua chiusura:"
   ]
  },
  {
   "cell_type": "code",
   "execution_count": 13,
   "id": "4798e38b",
   "metadata": {},
   "outputs": [
    {
     "name": "stdout",
     "output_type": "stream",
     "text": [
      "File files/file.txt aperto in modalità r\n",
      "Encoding: UTF-8\n",
      "Quis ono fuori dal context manager e il file è chiuso ->  True\n"
     ]
    }
   ],
   "source": [
    "with open(\"files/file.txt\", mode=\"r\") as file:\n",
    "    print(f\"File {file.name} aperto in modalità {file.mode}\")\n",
    "    print(f\"Encoding: {file.encoding}\")\n",
    "\n",
    "print(\"Quis ono fuori dal context manager e il file è chiuso -> \", file.closed)"
   ]
  },
  {
   "cell_type": "markdown",
   "id": "0337a2f2",
   "metadata": {},
   "source": [
    "Leggere un file di testo è piuttosto semplice, e abbiamo svariati modi:\n",
    "- la funzione `readlines()`\n",
    "- la funzione `readline()`\n",
    "- la funzione `read(n)`\n",
    "- un ciclo `for`"
   ]
  },
  {
   "cell_type": "code",
   "execution_count": 36,
   "id": "57b0fc27",
   "metadata": {},
   "outputs": [
    {
     "name": "stdout",
     "output_type": "stream",
     "text": [
      "Uso readlines(), n. righe 5:\n",
      "Lorem ipsum dolor sit amet, consectetur adipiscing elit, sed do eiusmod tempor incididunt ut labore et dolore magna aliqua. \n",
      "\n",
      "Massa sed elementum tempus egestas sed sed risus pretium quam. \n",
      "\n",
      "Diam sollicitudin tempor id eu nisl nunc mi ipsum. \n",
      "\n",
      "Ac tincidunt vitae semper quis lectus nulla. \n",
      "\n",
      "Nibh sit amet commodo nulla facilisi nullam vehicula ipsum. \n",
      "\n",
      "\n",
      "\n",
      "Uso readlines():\n",
      "Lorem ipsum dolor sit amet, consectetur adipiscing elit, sed do eiusmod tempor incididunt ut labore et dolore magna aliqua. \n",
      "\n",
      "Massa sed elementum tempus egestas sed sed risus pretium quam. \n",
      "\n",
      "Diam sollicitudin tempor id eu nisl nunc mi ipsum. \n",
      "\n",
      "Ac tincidunt vitae semper quis lectus nulla. \n",
      "\n",
      "Nibh sit amet commodo nulla facilisi nullam vehicula ipsum. \n",
      "\n",
      "\n",
      "\n",
      "Uso read(): di default restituisce l'intero file\n",
      "Lorem ipsum dolor sit amet, consectetur adipiscing elit, sed do eiusmod tempor incididunt ut labore et dolore magna aliqua. \n",
      "Massa sed elementum tempus egestas sed sed risus pretium quam. \n",
      "Diam sollicitudin tempor id eu nisl nunc mi ipsum. \n",
      "Ac tincidunt vitae semper quis lectus nulla. \n",
      "Nibh sit amet commodo nulla facilisi nullam vehicula ipsum. \n",
      "\n",
      "\n",
      "\n",
      "Uso read(): leggiamo 8 carattere per volta\n",
      "Lorem ip\n",
      "sum dolo\n",
      "r sit am\n",
      "et, cons\n",
      "ectetur \n",
      "adipisci\n",
      "ng elit,\n",
      " sed do \n",
      "eiusmod \n",
      "tempor i\n",
      "ncididun\n",
      "t ut lab\n",
      "ore et d\n",
      "olore ma\n",
      "gna aliq\n",
      "ua. \n",
      "Mas\n",
      "sa sed e\n",
      "lementum\n",
      " tempus \n",
      "egestas \n",
      "sed sed \n",
      "risus pr\n",
      "etium qu\n",
      "am. \n",
      "Dia\n",
      "m sollic\n",
      "itudin t\n",
      "empor id\n",
      " eu nisl\n",
      " nunc mi\n",
      " ipsum. \n",
      "\n",
      "Ac tinc\n",
      "idunt vi\n",
      "tae semp\n",
      "er quis \n",
      "lectus n\n",
      "ulla. \n",
      "N\n",
      "ibh sit \n",
      "amet com\n",
      "modo nul\n",
      "la facil\n",
      "isi null\n",
      "am vehic\n",
      "ula ipsu\n",
      "m. \n",
      "\n",
      "\n",
      "\n",
      "Uso ciclo for: leggiamo una riga per volta\n",
      "Lorem ipsum dolor sit amet, consectetur adipiscing elit, sed do eiusmod tempor incididunt ut labore et dolore magna aliqua. \n",
      "\n",
      "Massa sed elementum tempus egestas sed sed risus pretium quam. \n",
      "\n",
      "Diam sollicitudin tempor id eu nisl nunc mi ipsum. \n",
      "\n",
      "Ac tincidunt vitae semper quis lectus nulla. \n",
      "\n",
      "Nibh sit amet commodo nulla facilisi nullam vehicula ipsum. \n"
     ]
    }
   ],
   "source": [
    "\n",
    "with open(\"files/file.txt\", mode=\"r\") as file:\n",
    "    s = file.readlines()\n",
    "    print(f\"Uso readlines(), n. righe {len(s)}:\")\n",
    "    for line in s:\n",
    "        print(line)\n",
    "\n",
    "print(\"\\n\\n\")\n",
    "with open(\"files/file.txt\", mode=\"r\") as file:\n",
    "    c = file.readline()\n",
    "    print(f\"Uso readlines():\")\n",
    "    while c:\n",
    "        print(c)\n",
    "        c = file.readline()\n",
    "print(\"\\n\\n\")\n",
    "\n",
    "with open(\"files/file.txt\", mode=\"r\") as file:\n",
    "    c = file.read()\n",
    "    print(f\"Uso read(): di default restituisce l'intero file\")\n",
    "    print(c)\n",
    "\n",
    "print(\"\\n\\n\")\n",
    "    \n",
    "with open(\"files/file.txt\", mode=\"r\") as file:\n",
    "    chunk_size = 8\n",
    "    c = file.read(chunk_size)\n",
    "    print(f\"Uso read(): leggiamo {chunk_size} carattere per volta\")\n",
    "    while c:\n",
    "        print(c)\n",
    "        c = file.read(chunk_size)\n",
    "\n",
    "print(\"\\n\\n\")\n",
    "    \n",
    "with open(\"files/file.txt\", mode=\"r\") as file:\n",
    "    print(f\"Uso ciclo for: leggiamo una riga per volta\")\n",
    "    for line in file:\n",
    "        print(line)\n"
   ]
  },
  {
   "cell_type": "code",
   "execution_count": 1,
   "id": "db18cf8c",
   "metadata": {},
   "outputs": [
    {
     "name": "stdout",
     "output_type": "stream",
     "text": [
      "😀\n",
      "b'\\xf0'\n"
     ]
    }
   ],
   "source": [
    "with open(\"files/special_chars.txt\", mode=\"r\") as file:\n",
    "    c = file.read(1)\n",
    "    print(c)\n",
    "    \n",
    "with open(\"files/special_chars.txt\", mode=\"rb\") as file:\n",
    "    c = file.read(1)\n",
    "    print(c)"
   ]
  },
  {
   "cell_type": "markdown",
   "id": "b0b6a1a3",
   "metadata": {},
   "source": [
    "Un file ha una posizione di lettura/scrittura associata, che è possibile leggere e settare rispettivamente coi metodi `tell` e `seek(offset, whence)`. Il parametro `whence` rappresenta il punto di partenza da cui iniziare lo scostamento precisato da `offset`:\n",
    "- `0`: sposta il puntatore di `offset` byte dall'inizio del file\n",
    "- `1`: sposta il puntatore di `offset` byte dalla posizione corrente\n",
    "- `2`: sposta il puntatore di `offset` byte dalla fine del file\n",
    "\n",
    "Nei file di testo (cioè aperti senza la `b` nella modalità di apertura) sono permessi solo i seek relativi all'inizio del file. \n"
   ]
  },
  {
   "cell_type": "code",
   "execution_count": 7,
   "id": "59869f4c",
   "metadata": {},
   "outputs": [
    {
     "name": "stdout",
     "output_type": "stream",
     "text": [
      "Posizione puntatore: 189\n",
      "Settiamo il puntatore a -10 byte dalla fine del file\n",
      "b'la ipsum. '\n"
     ]
    }
   ],
   "source": [
    "with open(\"files/file.txt\", mode=\"rb\") as file:\n",
    "    c = file.readline()\n",
    "    c = file.readline()\n",
    "    print(f\"Posizione puntatore: {file.tell()}\")\n",
    "    print(f\"Settiamo il puntatore a -10 byte dalla fine del file\")\n",
    "    file.seek(-10, 2)\n",
    "    print(file.read(10))"
   ]
  },
  {
   "cell_type": "code",
   "execution_count": 49,
   "id": "c0f9dd59",
   "metadata": {},
   "outputs": [],
   "source": [
    "with open(\"files/to_write.txt\", mode=\"w\") as file:\n",
    "    file.write(\"HELLO\")\n",
    "    file.seek(0)\n",
    "    file.write(\"M\")\n"
   ]
  },
  {
   "cell_type": "code",
   "execution_count": 8,
   "id": "7e783962",
   "metadata": {},
   "outputs": [
    {
     "name": "stdout",
     "output_type": "stream",
     "text": [
      "jpeg signature head: b'\\xff\\xd8\\xff\\xe0'\n",
      "jpeg signature tail: b'\\xff\\xd9'\n"
     ]
    }
   ],
   "source": [
    "with open(\"files/pic.jpeg\", mode=\"rb\") as file:\n",
    "    print(f\"jpeg signature head: {file.read(4)}\")\n",
    "    file.seek(-2, 2)\n",
    "    print(f\"jpeg signature tail: {file.read(2)}\")\n"
   ]
  },
  {
   "cell_type": "code",
   "execution_count": 1,
   "id": "7ae5be84",
   "metadata": {},
   "outputs": [
    {
     "ename": "FileNotFoundError",
     "evalue": "[Errno 2] No such file or directory: 'files/pic.jpeg'",
     "output_type": "error",
     "traceback": [
      "\u001b[0;31m---------------------------------------------------------------------------\u001b[0m",
      "\u001b[0;31mFileNotFoundError\u001b[0m                         Traceback (most recent call last)",
      "Input \u001b[0;32mIn [1]\u001b[0m, in \u001b[0;36m<cell line: 1>\u001b[0;34m()\u001b[0m\n\u001b[0;32m----> 1\u001b[0m \u001b[38;5;28;01mwith\u001b[39;00m \u001b[38;5;28;43mopen\u001b[39;49m\u001b[43m(\u001b[49m\u001b[38;5;124;43m\"\u001b[39;49m\u001b[38;5;124;43mfiles/pic.jpeg\u001b[39;49m\u001b[38;5;124;43m\"\u001b[39;49m\u001b[43m,\u001b[49m\u001b[43m \u001b[49m\u001b[43mmode\u001b[49m\u001b[38;5;241;43m=\u001b[39;49m\u001b[38;5;124;43m\"\u001b[39;49m\u001b[38;5;124;43mrb\u001b[39;49m\u001b[38;5;124;43m\"\u001b[39;49m\u001b[43m)\u001b[49m \u001b[38;5;28;01mas\u001b[39;00m reader:\n\u001b[1;32m      2\u001b[0m     \u001b[38;5;28;01mwith\u001b[39;00m \u001b[38;5;28mopen\u001b[39m(\u001b[38;5;124m\"\u001b[39m\u001b[38;5;124mfiles/pic_copy.jpeg\u001b[39m\u001b[38;5;124m\"\u001b[39m, mode\u001b[38;5;241m=\u001b[39m\u001b[38;5;124m\"\u001b[39m\u001b[38;5;124mwb\u001b[39m\u001b[38;5;124m\"\u001b[39m) \u001b[38;5;28;01mas\u001b[39;00m writer:\n\u001b[1;32m      3\u001b[0m         writer\u001b[38;5;241m.\u001b[39mwrite(reader\u001b[38;5;241m.\u001b[39mread())\n",
      "\u001b[0;31mFileNotFoundError\u001b[0m: [Errno 2] No such file or directory: 'files/pic.jpeg'"
     ]
    }
   ],
   "source": [
    "with open(\"files/pic.jpeg\", mode=\"rb\") as reader:\n",
    "    with open(\"files/pic_copy.jpeg\", mode=\"wb\") as writer:\n",
    "        writer.write(reader.read())\n",
    "        reader.seek(-2, 2)\n",
    "        tail = reader.read(2)\n",
    "        writer.seek(-2, 2)\n",
    "        writer.write(b\"HELLO, STEGANOGRAPHY IS BEAUTIFUL!\")\n",
    "        writer.write(tail)\n"
   ]
  },
  {
   "cell_type": "code",
   "execution_count": null,
   "id": "9583b4bf",
   "metadata": {},
   "outputs": [],
   "source": []
  }
 ],
 "metadata": {
  "kernelspec": {
   "display_name": "Python 3 (ipykernel)",
   "language": "python",
   "name": "python3"
  },
  "language_info": {
   "codemirror_mode": {
    "name": "ipython",
    "version": 3
   },
   "file_extension": ".py",
   "mimetype": "text/x-python",
   "name": "python",
   "nbconvert_exporter": "python",
   "pygments_lexer": "ipython3",
   "version": "3.10.0"
  }
 },
 "nbformat": 4,
 "nbformat_minor": 5
}
